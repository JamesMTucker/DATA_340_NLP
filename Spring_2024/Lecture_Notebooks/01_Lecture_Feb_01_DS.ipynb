{
 "cells": [
  {
   "cell_type": "markdown",
   "metadata": {},
   "source": [
    "# Vectorized computation and data structures\n",
    "\n",
    "In the context of Natural Language Processing (NLP) and data science, efficient computation and data handling are crucial for handling large datasets and complex algorithms. Vectorized computation and data structures like NumPy and pandas play a pivotal role in this efficiency. Let's delve into the concepts, their significance, and how they relate to broader statistical concepts in data science, mathematics, and social sciences.\n",
    "\n",
    "### Vectorized Computation\n",
    "\n",
    "**Context and Importance:** Vectorized computation refers to performing operations on entire arrays or matrices in a single step, rather than using loops over individual elements. This approach leverages optimized. In NLP, where operations on large text corpora and word embeddings are common, vectorized computation can drastically reduce execution time.\n",
    "\n",
    "**NumPy:** NumPy (Numerical Python) is a foundational package for scientific computing in Python. It provides an N-dimensional array object which is a key data structure for vectorized operations. NumPy arrays support a wide range of mathematical operations that can be performed over the whole array efficiently and succinctly. This is particularly beneficial in NLP for tasks like vector operations in semantic analysis, where each word or document can be represented as a high-dimensional vector.\n",
    "\n",
    "**Tensors:** generalizes the concept of vectors and matrices to higher dimensions. Tensors are the basic building blocks in these frameworks, used to represent data or parameters (like weights and biases in neural networks). While a Numpy array is conceptually similar to a tensor, tensors in deep learning frameworks are designed with additional capabilities, such as the ability to run on GPUs for faster computation and to automatically compute gradients (a feature essential for training neural networks). \n",
    "\n",
    "### Data Structures: pandas\n",
    "\n",
    "**pandas Overview:** pandas is a Python library providing high-level data structures and a vast array of tools for data analysis. At its core, the DataFrame is the most noteworthy data structure in pandas, essentially a tabular data structure with labeled axes (rows and columns). For NLP, pandas DataFrames facilitate the manipulation of textual data, enabling tasks like data cleaning, transformation, and aggregation to be performed effortlessly.\n",
    "\n",
    "**Significance in NLP:** In NLP projects, one often starts with structured data from various sources like CSV files, databases, or JSON. pandas makes it easy to load, preprocess, and explore this textual data. For example, you can easily apply transformations to text data (like tokenization, stemming, or lemmatization) across large datasets and analyze the distribution of words or phrases."
   ]
  },
  {
   "cell_type": "markdown",
   "metadata": {},
   "source": [
    "## (Super) Simple example"
   ]
  },
  {
   "cell_type": "code",
   "execution_count": 1,
   "metadata": {},
   "outputs": [
    {
     "name": "stdout",
     "output_type": "stream",
     "text": [
      "[ 7  8 10]\n",
      "                          text  word_count\n",
      "0  Natural Language Processing           3\n",
      "1                 Data Science           2\n",
      "2             Machine Learning           2\n"
     ]
    }
   ],
   "source": [
    "import numpy as np\n",
    "import pandas as pd\n",
    "\n",
    "# Example with NumPy: Calculate the word length of each word in an array\n",
    "words = np.array([\"natural\", \"language\", \"processing\"])\n",
    "word_lengths = np.vectorize(len)(words)\n",
    "print(word_lengths)\n",
    "\n",
    "# Example with pandas: Create a DataFrame and process textual data\n",
    "data = {'text': [\"Natural Language Processing\", \"Data Science\", \"Machine Learning\"]}\n",
    "df = pd.DataFrame(data)\n",
    "df['word_count'] = df['text'].apply(lambda x: len(x.split()))\n",
    "print(df)"
   ]
  },
  {
   "cell_type": "markdown",
   "metadata": {},
   "source": [
    "## Exploring pandas"
   ]
  },
  {
   "cell_type": "code",
   "execution_count": 23,
   "metadata": {},
   "outputs": [],
   "source": [
    "import pandas as pd\n",
    "\n",
    "# load 10,000 rows of the dataset\n",
    "eczema_df = pd.read_csv('../datasets/eczema.csv', nrows=10000)"
   ]
  },
  {
   "cell_type": "markdown",
   "metadata": {},
   "source": [
    "### Quick view of data"
   ]
  },
  {
   "cell_type": "code",
   "execution_count": 24,
   "metadata": {},
   "outputs": [
    {
     "data": {
      "text/html": [
       "<div>\n",
       "<style scoped>\n",
       "    .dataframe tbody tr th:only-of-type {\n",
       "        vertical-align: middle;\n",
       "    }\n",
       "\n",
       "    .dataframe tbody tr th {\n",
       "        vertical-align: top;\n",
       "    }\n",
       "\n",
       "    .dataframe thead th {\n",
       "        text-align: right;\n",
       "    }\n",
       "</style>\n",
       "<table border=\"1\" class=\"dataframe\">\n",
       "  <thead>\n",
       "    <tr style=\"text-align: right;\">\n",
       "      <th></th>\n",
       "      <th>docID</th>\n",
       "      <th>text</th>\n",
       "    </tr>\n",
       "  </thead>\n",
       "  <tbody>\n",
       "    <tr>\n",
       "      <th>0</th>\n",
       "      <td>0</td>\n",
       "      <td>looking for that little bit of extra support t...</td>\n",
       "    </tr>\n",
       "    <tr>\n",
       "      <th>1</th>\n",
       "      <td>1</td>\n",
       "      <td>hi everyone my name is azizah and i am conduct...</td>\n",
       "    </tr>\n",
       "    <tr>\n",
       "      <th>2</th>\n",
       "      <td>2</td>\n",
       "      <td>i am currently doing an extended project quali...</td>\n",
       "    </tr>\n",
       "    <tr>\n",
       "      <th>3</th>\n",
       "      <td>3</td>\n",
       "      <td>hi alice i have pompholyx to clear an infected...</td>\n",
       "    </tr>\n",
       "    <tr>\n",
       "      <th>4</th>\n",
       "      <td>4</td>\n",
       "      <td>hello i am in my third year at derby universit...</td>\n",
       "    </tr>\n",
       "  </tbody>\n",
       "</table>\n",
       "</div>"
      ],
      "text/plain": [
       "   docID                                               text\n",
       "0      0  looking for that little bit of extra support t...\n",
       "1      1  hi everyone my name is azizah and i am conduct...\n",
       "2      2  i am currently doing an extended project quali...\n",
       "3      3  hi alice i have pompholyx to clear an infected...\n",
       "4      4  hello i am in my third year at derby universit..."
      ]
     },
     "execution_count": 24,
     "metadata": {},
     "output_type": "execute_result"
    }
   ],
   "source": [
    "eczema_df.head()"
   ]
  },
  {
   "cell_type": "code",
   "execution_count": 25,
   "metadata": {},
   "outputs": [
    {
     "data": {
      "text/html": [
       "<div>\n",
       "<style scoped>\n",
       "    .dataframe tbody tr th:only-of-type {\n",
       "        vertical-align: middle;\n",
       "    }\n",
       "\n",
       "    .dataframe tbody tr th {\n",
       "        vertical-align: top;\n",
       "    }\n",
       "\n",
       "    .dataframe thead th {\n",
       "        text-align: right;\n",
       "    }\n",
       "</style>\n",
       "<table border=\"1\" class=\"dataframe\">\n",
       "  <thead>\n",
       "    <tr style=\"text-align: right;\">\n",
       "      <th></th>\n",
       "      <th>docID</th>\n",
       "      <th>text</th>\n",
       "    </tr>\n",
       "  </thead>\n",
       "  <tbody>\n",
       "    <tr>\n",
       "      <th>9995</th>\n",
       "      <td>11658</td>\n",
       "      <td>my baby ha this rash on her face it really red...</td>\n",
       "    </tr>\n",
       "    <tr>\n",
       "      <th>9996</th>\n",
       "      <td>11659</td>\n",
       "      <td>my lo little one eczema is severe we have used...</td>\n",
       "    </tr>\n",
       "    <tr>\n",
       "      <th>9997</th>\n",
       "      <td>11660</td>\n",
       "      <td>if you want to know what helped u i justed pos...</td>\n",
       "    </tr>\n",
       "    <tr>\n",
       "      <th>9998</th>\n",
       "      <td>11661</td>\n",
       "      <td>how long after you moved did you see improveme...</td>\n",
       "    </tr>\n",
       "    <tr>\n",
       "      <th>9999</th>\n",
       "      <td>11662</td>\n",
       "      <td>i am also going through the same thing but my ...</td>\n",
       "    </tr>\n",
       "  </tbody>\n",
       "</table>\n",
       "</div>"
      ],
      "text/plain": [
       "      docID                                               text\n",
       "9995  11658  my baby ha this rash on her face it really red...\n",
       "9996  11659  my lo little one eczema is severe we have used...\n",
       "9997  11660  if you want to know what helped u i justed pos...\n",
       "9998  11661  how long after you moved did you see improveme...\n",
       "9999  11662  i am also going through the same thing but my ..."
      ]
     },
     "execution_count": 25,
     "metadata": {},
     "output_type": "execute_result"
    }
   ],
   "source": [
    "eczema_df.tail()"
   ]
  },
  {
   "cell_type": "code",
   "execution_count": 26,
   "metadata": {},
   "outputs": [
    {
     "name": "stdout",
     "output_type": "stream",
     "text": [
      "<class 'pandas.core.frame.DataFrame'>\n",
      "RangeIndex: 10000 entries, 0 to 9999\n",
      "Data columns (total 2 columns):\n",
      " #   Column  Non-Null Count  Dtype \n",
      "---  ------  --------------  ----- \n",
      " 0   docID   10000 non-null  int64 \n",
      " 1   text    10000 non-null  object\n",
      "dtypes: int64(1), object(1)\n",
      "memory usage: 156.4+ KB\n"
     ]
    }
   ],
   "source": [
    "eczema_df.info()"
   ]
  },
  {
   "cell_type": "code",
   "execution_count": 27,
   "metadata": {},
   "outputs": [
    {
     "data": {
      "text/plain": [
       "(10000, 2)"
      ]
     },
     "execution_count": 27,
     "metadata": {},
     "output_type": "execute_result"
    }
   ],
   "source": [
    "eczema_df.shape"
   ]
  },
  {
   "cell_type": "markdown",
   "metadata": {},
   "source": [
    "### Data Munging in pandas"
   ]
  },
  {
   "cell_type": "code",
   "execution_count": 28,
   "metadata": {},
   "outputs": [
    {
     "data": {
      "text/html": [
       "<div>\n",
       "<style scoped>\n",
       "    .dataframe tbody tr th:only-of-type {\n",
       "        vertical-align: middle;\n",
       "    }\n",
       "\n",
       "    .dataframe tbody tr th {\n",
       "        vertical-align: top;\n",
       "    }\n",
       "\n",
       "    .dataframe thead th {\n",
       "        text-align: right;\n",
       "    }\n",
       "</style>\n",
       "<table border=\"1\" class=\"dataframe\">\n",
       "  <thead>\n",
       "    <tr style=\"text-align: right;\">\n",
       "      <th></th>\n",
       "      <th>docID</th>\n",
       "      <th>text</th>\n",
       "      <th>lotion</th>\n",
       "    </tr>\n",
       "  </thead>\n",
       "  <tbody>\n",
       "    <tr>\n",
       "      <th>7</th>\n",
       "      <td>8</td>\n",
       "      <td>hi everyone i have suffered from sever eczema ...</td>\n",
       "      <td>True</td>\n",
       "    </tr>\n",
       "    <tr>\n",
       "      <th>57</th>\n",
       "      <td>67</td>\n",
       "      <td>1 can you share experience of eczema before yo...</td>\n",
       "      <td>True</td>\n",
       "    </tr>\n",
       "    <tr>\n",
       "      <th>83</th>\n",
       "      <td>98</td>\n",
       "      <td>update for whoever stumble across this and is ...</td>\n",
       "      <td>True</td>\n",
       "    </tr>\n",
       "    <tr>\n",
       "      <th>85</th>\n",
       "      <td>101</td>\n",
       "      <td>my niece recently recommends a soap and lotion...</td>\n",
       "      <td>True</td>\n",
       "    </tr>\n",
       "    <tr>\n",
       "      <th>94</th>\n",
       "      <td>111</td>\n",
       "      <td>i had eczema and i am cured of it have been ec...</td>\n",
       "      <td>True</td>\n",
       "    </tr>\n",
       "    <tr>\n",
       "      <th>...</th>\n",
       "      <td>...</td>\n",
       "      <td>...</td>\n",
       "      <td>...</td>\n",
       "    </tr>\n",
       "    <tr>\n",
       "      <th>9962</th>\n",
       "      <td>11618</td>\n",
       "      <td>you said it come and go a big bite will not co...</td>\n",
       "      <td>True</td>\n",
       "    </tr>\n",
       "    <tr>\n",
       "      <th>9967</th>\n",
       "      <td>11625</td>\n",
       "      <td>hello â thanks so much for this board and all ...</td>\n",
       "      <td>True</td>\n",
       "    </tr>\n",
       "    <tr>\n",
       "      <th>9978</th>\n",
       "      <td>11640</td>\n",
       "      <td>yes i agree with above comment were doing the ...</td>\n",
       "      <td>True</td>\n",
       "    </tr>\n",
       "    <tr>\n",
       "      <th>9982</th>\n",
       "      <td>11644</td>\n",
       "      <td>i stopped using cortisone for my los eczema hi...</td>\n",
       "      <td>True</td>\n",
       "    </tr>\n",
       "    <tr>\n",
       "      <th>9985</th>\n",
       "      <td>11647</td>\n",
       "      <td>our dd s eczema wa primarily on her face a wel...</td>\n",
       "      <td>True</td>\n",
       "    </tr>\n",
       "  </tbody>\n",
       "</table>\n",
       "<p>655 rows × 3 columns</p>\n",
       "</div>"
      ],
      "text/plain": [
       "      docID                                               text  lotion\n",
       "7         8  hi everyone i have suffered from sever eczema ...    True\n",
       "57       67  1 can you share experience of eczema before yo...    True\n",
       "83       98  update for whoever stumble across this and is ...    True\n",
       "85      101  my niece recently recommends a soap and lotion...    True\n",
       "94      111  i had eczema and i am cured of it have been ec...    True\n",
       "...     ...                                                ...     ...\n",
       "9962  11618  you said it come and go a big bite will not co...    True\n",
       "9967  11625  hello â thanks so much for this board and all ...    True\n",
       "9978  11640  yes i agree with above comment were doing the ...    True\n",
       "9982  11644  i stopped using cortisone for my los eczema hi...    True\n",
       "9985  11647  our dd s eczema wa primarily on her face a wel...    True\n",
       "\n",
       "[655 rows x 3 columns]"
      ]
     },
     "execution_count": 28,
     "metadata": {},
     "output_type": "execute_result"
    }
   ],
   "source": [
    "# how many people talk about lotions?\n",
    "eczema_df['lotion'] = eczema_df['text'].str.contains(\"lotion\")\n",
    "eczema_df[eczema_df['lotion'] == True]"
   ]
  },
  {
   "cell_type": "code",
   "execution_count": 29,
   "metadata": {},
   "outputs": [
    {
     "data": {
      "text/html": [
       "<div>\n",
       "<style scoped>\n",
       "    .dataframe tbody tr th:only-of-type {\n",
       "        vertical-align: middle;\n",
       "    }\n",
       "\n",
       "    .dataframe tbody tr th {\n",
       "        vertical-align: top;\n",
       "    }\n",
       "\n",
       "    .dataframe thead th {\n",
       "        text-align: right;\n",
       "    }\n",
       "</style>\n",
       "<table border=\"1\" class=\"dataframe\">\n",
       "  <thead>\n",
       "    <tr style=\"text-align: right;\">\n",
       "      <th></th>\n",
       "      <th>docID</th>\n",
       "      <th>text</th>\n",
       "      <th>lotion</th>\n",
       "    </tr>\n",
       "  </thead>\n",
       "  <tbody>\n",
       "    <tr>\n",
       "      <th>7</th>\n",
       "      <td>8</td>\n",
       "      <td>hi everyone i have suffered from sever eczema ...</td>\n",
       "      <td>True</td>\n",
       "    </tr>\n",
       "    <tr>\n",
       "      <th>57</th>\n",
       "      <td>67</td>\n",
       "      <td>1 can you share experience of eczema before yo...</td>\n",
       "      <td>True</td>\n",
       "    </tr>\n",
       "    <tr>\n",
       "      <th>83</th>\n",
       "      <td>98</td>\n",
       "      <td>update for whoever stumble across this and is ...</td>\n",
       "      <td>True</td>\n",
       "    </tr>\n",
       "    <tr>\n",
       "      <th>85</th>\n",
       "      <td>101</td>\n",
       "      <td>my niece recently recommends a soap and lotion...</td>\n",
       "      <td>True</td>\n",
       "    </tr>\n",
       "    <tr>\n",
       "      <th>94</th>\n",
       "      <td>111</td>\n",
       "      <td>i had eczema and i am cured of it have been ec...</td>\n",
       "      <td>True</td>\n",
       "    </tr>\n",
       "    <tr>\n",
       "      <th>...</th>\n",
       "      <td>...</td>\n",
       "      <td>...</td>\n",
       "      <td>...</td>\n",
       "    </tr>\n",
       "    <tr>\n",
       "      <th>9962</th>\n",
       "      <td>11618</td>\n",
       "      <td>you said it come and go a big bite will not co...</td>\n",
       "      <td>True</td>\n",
       "    </tr>\n",
       "    <tr>\n",
       "      <th>9967</th>\n",
       "      <td>11625</td>\n",
       "      <td>hello â thanks so much for this board and all ...</td>\n",
       "      <td>True</td>\n",
       "    </tr>\n",
       "    <tr>\n",
       "      <th>9978</th>\n",
       "      <td>11640</td>\n",
       "      <td>yes i agree with above comment were doing the ...</td>\n",
       "      <td>True</td>\n",
       "    </tr>\n",
       "    <tr>\n",
       "      <th>9982</th>\n",
       "      <td>11644</td>\n",
       "      <td>i stopped using cortisone for my los eczema hi...</td>\n",
       "      <td>True</td>\n",
       "    </tr>\n",
       "    <tr>\n",
       "      <th>9985</th>\n",
       "      <td>11647</td>\n",
       "      <td>our dd s eczema wa primarily on her face a wel...</td>\n",
       "      <td>True</td>\n",
       "    </tr>\n",
       "  </tbody>\n",
       "</table>\n",
       "<p>655 rows × 3 columns</p>\n",
       "</div>"
      ],
      "text/plain": [
       "      docID                                               text  lotion\n",
       "7         8  hi everyone i have suffered from sever eczema ...    True\n",
       "57       67  1 can you share experience of eczema before yo...    True\n",
       "83       98  update for whoever stumble across this and is ...    True\n",
       "85      101  my niece recently recommends a soap and lotion...    True\n",
       "94      111  i had eczema and i am cured of it have been ec...    True\n",
       "...     ...                                                ...     ...\n",
       "9962  11618  you said it come and go a big bite will not co...    True\n",
       "9967  11625  hello â thanks so much for this board and all ...    True\n",
       "9978  11640  yes i agree with above comment were doing the ...    True\n",
       "9982  11644  i stopped using cortisone for my los eczema hi...    True\n",
       "9985  11647  our dd s eczema wa primarily on her face a wel...    True\n",
       "\n",
       "[655 rows x 3 columns]"
      ]
     },
     "execution_count": 29,
     "metadata": {},
     "output_type": "execute_result"
    }
   ],
   "source": [
    "eczema_df['lotion'] = eczema_df['text'].str.contains(\"lotion\", case=False)\n",
    "eczema_df[eczema_df['lotion'] == True]"
   ]
  },
  {
   "cell_type": "code",
   "execution_count": 30,
   "metadata": {},
   "outputs": [
    {
     "data": {
      "text/html": [
       "<div>\n",
       "<style scoped>\n",
       "    .dataframe tbody tr th:only-of-type {\n",
       "        vertical-align: middle;\n",
       "    }\n",
       "\n",
       "    .dataframe tbody tr th {\n",
       "        vertical-align: top;\n",
       "    }\n",
       "\n",
       "    .dataframe thead th {\n",
       "        text-align: right;\n",
       "    }\n",
       "</style>\n",
       "<table border=\"1\" class=\"dataframe\">\n",
       "  <thead>\n",
       "    <tr style=\"text-align: right;\">\n",
       "      <th></th>\n",
       "      <th>docID</th>\n",
       "      <th>text</th>\n",
       "      <th>lotion</th>\n",
       "    </tr>\n",
       "  </thead>\n",
       "  <tbody>\n",
       "    <tr>\n",
       "      <th>7</th>\n",
       "      <td>8</td>\n",
       "      <td>hi everyone i have suffered from sever eczema ...</td>\n",
       "      <td>True</td>\n",
       "    </tr>\n",
       "    <tr>\n",
       "      <th>57</th>\n",
       "      <td>67</td>\n",
       "      <td>1 can you share experience of eczema before yo...</td>\n",
       "      <td>True</td>\n",
       "    </tr>\n",
       "    <tr>\n",
       "      <th>83</th>\n",
       "      <td>98</td>\n",
       "      <td>update for whoever stumble across this and is ...</td>\n",
       "      <td>True</td>\n",
       "    </tr>\n",
       "    <tr>\n",
       "      <th>85</th>\n",
       "      <td>101</td>\n",
       "      <td>my niece recently recommends a soap and lotion...</td>\n",
       "      <td>True</td>\n",
       "    </tr>\n",
       "    <tr>\n",
       "      <th>94</th>\n",
       "      <td>111</td>\n",
       "      <td>i had eczema and i am cured of it have been ec...</td>\n",
       "      <td>True</td>\n",
       "    </tr>\n",
       "    <tr>\n",
       "      <th>...</th>\n",
       "      <td>...</td>\n",
       "      <td>...</td>\n",
       "      <td>...</td>\n",
       "    </tr>\n",
       "    <tr>\n",
       "      <th>9962</th>\n",
       "      <td>11618</td>\n",
       "      <td>you said it come and go a big bite will not co...</td>\n",
       "      <td>True</td>\n",
       "    </tr>\n",
       "    <tr>\n",
       "      <th>9967</th>\n",
       "      <td>11625</td>\n",
       "      <td>hello â thanks so much for this board and all ...</td>\n",
       "      <td>True</td>\n",
       "    </tr>\n",
       "    <tr>\n",
       "      <th>9978</th>\n",
       "      <td>11640</td>\n",
       "      <td>yes i agree with above comment were doing the ...</td>\n",
       "      <td>True</td>\n",
       "    </tr>\n",
       "    <tr>\n",
       "      <th>9982</th>\n",
       "      <td>11644</td>\n",
       "      <td>i stopped using cortisone for my los eczema hi...</td>\n",
       "      <td>True</td>\n",
       "    </tr>\n",
       "    <tr>\n",
       "      <th>9985</th>\n",
       "      <td>11647</td>\n",
       "      <td>our dd s eczema wa primarily on her face a wel...</td>\n",
       "      <td>True</td>\n",
       "    </tr>\n",
       "  </tbody>\n",
       "</table>\n",
       "<p>655 rows × 3 columns</p>\n",
       "</div>"
      ],
      "text/plain": [
       "      docID                                               text  lotion\n",
       "7         8  hi everyone i have suffered from sever eczema ...    True\n",
       "57       67  1 can you share experience of eczema before yo...    True\n",
       "83       98  update for whoever stumble across this and is ...    True\n",
       "85      101  my niece recently recommends a soap and lotion...    True\n",
       "94      111  i had eczema and i am cured of it have been ec...    True\n",
       "...     ...                                                ...     ...\n",
       "9962  11618  you said it come and go a big bite will not co...    True\n",
       "9967  11625  hello â thanks so much for this board and all ...    True\n",
       "9978  11640  yes i agree with above comment were doing the ...    True\n",
       "9982  11644  i stopped using cortisone for my los eczema hi...    True\n",
       "9985  11647  our dd s eczema wa primarily on her face a wel...    True\n",
       "\n",
       "[655 rows x 3 columns]"
      ]
     },
     "execution_count": 30,
     "metadata": {},
     "output_type": "execute_result"
    }
   ],
   "source": [
    "eczema_df['lotion'] = eczema_df['text'].str.contains(\"lot[io]+n\", regex=True, case=False)\n",
    "eczema_df[eczema_df['lotion'] == True]"
   ]
  },
  {
   "cell_type": "code",
   "execution_count": 31,
   "metadata": {},
   "outputs": [
    {
     "data": {
      "text/html": [
       "<div>\n",
       "<style scoped>\n",
       "    .dataframe tbody tr th:only-of-type {\n",
       "        vertical-align: middle;\n",
       "    }\n",
       "\n",
       "    .dataframe tbody tr th {\n",
       "        vertical-align: top;\n",
       "    }\n",
       "\n",
       "    .dataframe thead th {\n",
       "        text-align: right;\n",
       "    }\n",
       "</style>\n",
       "<table border=\"1\" class=\"dataframe\">\n",
       "  <thead>\n",
       "    <tr style=\"text-align: right;\">\n",
       "      <th></th>\n",
       "      <th>docID</th>\n",
       "      <th>text</th>\n",
       "      <th>lotion</th>\n",
       "      <th>age</th>\n",
       "    </tr>\n",
       "  </thead>\n",
       "  <tbody>\n",
       "    <tr>\n",
       "      <th>3</th>\n",
       "      <td>3</td>\n",
       "      <td>hi alice i have pompholyx to clear an infected...</td>\n",
       "      <td>False</td>\n",
       "      <td>True</td>\n",
       "    </tr>\n",
       "    <tr>\n",
       "      <th>4</th>\n",
       "      <td>4</td>\n",
       "      <td>hello i am in my third year at derby universit...</td>\n",
       "      <td>False</td>\n",
       "      <td>True</td>\n",
       "    </tr>\n",
       "    <tr>\n",
       "      <th>6</th>\n",
       "      <td>7</td>\n",
       "      <td>during late 2016 talkhealth carried out some p...</td>\n",
       "      <td>False</td>\n",
       "      <td>True</td>\n",
       "    </tr>\n",
       "    <tr>\n",
       "      <th>7</th>\n",
       "      <td>8</td>\n",
       "      <td>hi everyone i have suffered from sever eczema ...</td>\n",
       "      <td>True</td>\n",
       "      <td>True</td>\n",
       "    </tr>\n",
       "    <tr>\n",
       "      <th>11</th>\n",
       "      <td>13</td>\n",
       "      <td>hello im a designer from london currently rese...</td>\n",
       "      <td>False</td>\n",
       "      <td>True</td>\n",
       "    </tr>\n",
       "    <tr>\n",
       "      <th>...</th>\n",
       "      <td>...</td>\n",
       "      <td>...</td>\n",
       "      <td>...</td>\n",
       "      <td>...</td>\n",
       "    </tr>\n",
       "    <tr>\n",
       "      <th>9991</th>\n",
       "      <td>11654</td>\n",
       "      <td>we have used protopic on my 7 year old because...</td>\n",
       "      <td>False</td>\n",
       "      <td>True</td>\n",
       "    </tr>\n",
       "    <tr>\n",
       "      <th>9992</th>\n",
       "      <td>11655</td>\n",
       "      <td>a friend of mine s son had severe eczema on hi...</td>\n",
       "      <td>False</td>\n",
       "      <td>True</td>\n",
       "    </tr>\n",
       "    <tr>\n",
       "      <th>9994</th>\n",
       "      <td>11657</td>\n",
       "      <td>my 5 mo ha had sensitive skin from the beginni...</td>\n",
       "      <td>False</td>\n",
       "      <td>True</td>\n",
       "    </tr>\n",
       "    <tr>\n",
       "      <th>9997</th>\n",
       "      <td>11660</td>\n",
       "      <td>if you want to know what helped u i justed pos...</td>\n",
       "      <td>False</td>\n",
       "      <td>True</td>\n",
       "    </tr>\n",
       "    <tr>\n",
       "      <th>9998</th>\n",
       "      <td>11661</td>\n",
       "      <td>how long after you moved did you see improveme...</td>\n",
       "      <td>False</td>\n",
       "      <td>True</td>\n",
       "    </tr>\n",
       "  </tbody>\n",
       "</table>\n",
       "<p>4760 rows × 4 columns</p>\n",
       "</div>"
      ],
      "text/plain": [
       "      docID                                               text  lotion   age\n",
       "3         3  hi alice i have pompholyx to clear an infected...   False  True\n",
       "4         4  hello i am in my third year at derby universit...   False  True\n",
       "6         7  during late 2016 talkhealth carried out some p...   False  True\n",
       "7         8  hi everyone i have suffered from sever eczema ...    True  True\n",
       "11       13  hello im a designer from london currently rese...   False  True\n",
       "...     ...                                                ...     ...   ...\n",
       "9991  11654  we have used protopic on my 7 year old because...   False  True\n",
       "9992  11655  a friend of mine s son had severe eczema on hi...   False  True\n",
       "9994  11657  my 5 mo ha had sensitive skin from the beginni...   False  True\n",
       "9997  11660  if you want to know what helped u i justed pos...   False  True\n",
       "9998  11661  how long after you moved did you see improveme...   False  True\n",
       "\n",
       "[4760 rows x 4 columns]"
      ]
     },
     "execution_count": 31,
     "metadata": {},
     "output_type": "execute_result"
    }
   ],
   "source": [
    "eczema_df['age'] = eczema_df['text'].str.contains(\"\\d+\", regex=True, case=False)\n",
    "eczema_df[eczema_df['age'] == True]"
   ]
  },
  {
   "cell_type": "markdown",
   "metadata": {},
   "source": [
    "### Quick tutorial on Regular Expressions\n",
    "\n",
    "In the context of Natural Language Processing (NLP), understanding and leveraging Regular Expressions (regex) is a fundamental skill. Regex is a powerful tool used for searching, manipulating, and analyzing text data by defining specific patterns. It's particularly useful in text preprocessing, data cleaning, and information extraction tasks.\n",
    "\n",
    "**Regular Expressions** are sequences of characters that form a search pattern. They can be used to check if a string contains the specified search pattern, to replace the search pattern with a specified text, or to split a string on the specified search pattern.\n",
    "\n",
    "- **Literals**: These are the simplest form of regex, where the search pattern matches the exact character sequence. For example, the regex `data` will match \"data\" in the string \"data science\".\n",
    "\n",
    "- **Metacharacters**: These are characters with a special meaning. Some of the most common metacharacters include:\n",
    "  - `.` (dot): Matches any single character except newline. For example, `a.b` matches \"acb\" or \"a2b\".\n",
    "  - `^` (caret): Matches the start of a string. For example, `^data` matches \"data\" in \"data science\" but not in \"my data science project\".\n",
    "  - `$` (dollar): Matches the end of a string. For example, `end$` matches \"the end\" in \"This is the end\".\n",
    "  - `*` (asterisk): Matches 0 or more occurrences of the preceding element. For example, `a*b` matches \"b\", \"ab\", \"aab\", etc.\n",
    "  - `+` (plus): Matches 1 or more occurrences of the preceding element. For example, `a+b` matches \"ab\", \"aab\", but not \"b\".\n",
    "  - `?` (question mark): Matches 0 or 1 occurrence of the preceding element. For example, `a?b` matches \"b\" or \"ab\".\n",
    "\n",
    "- **Brackets**: Used for specifying a set of characters to match.\n",
    "  - `[abc]`: Matches any one of the characters a, b, or c.\n",
    "  - `[^abc]`: Matches any character except a, b, or c.\n",
    "  \n",
    "- **Quantifiers**: Specify how many instances of a character, group, or character class must be present in the input for a match to be found.\n",
    "  - `{n}`: Exactly n occurrences. For example, `a{3}` matches exactly three 'a' characters.\n",
    "  - `{n,}`: At least n occurrences. For example, `a{2,}` matches two or more 'a' characters.\n",
    "  - `{n,m}`: Between n and m occurrences, inclusive. For example, `a{2,4}` matches between two and four 'a' characters.\n",
    "\n",
    "- **Parentheses** are used for grouping characters or patterns. For example, `(abc)+` matches one or more repetitions of \"abc\".\n",
    "\n",
    "Think of regex like a secret code that helps you find specific patterns in a giant wall of text. It's like playing \"Where's Waldo?\" but for words or letters. You have special symbols that tell your search tool exactly what to look for, whether it's anything that looks like \"Waldo\", or finding Waldo only if he's at the beginning or end of the page.\n",
    "\n",
    "Regular Expressions are a versatile and powerful tool in text processing and NLP. By mastering regex, you can efficiently search, replace, and manipulate text data, which is crucial for preparing and analyzing textual data in Data Science. Start small, practice with real text data, and gradually, you'll find regex to be an indispensable part of your NLP toolkit."
   ]
  },
  {
   "cell_type": "code",
   "execution_count": 32,
   "metadata": {},
   "outputs": [
    {
     "name": "stdout",
     "output_type": "stream",
     "text": [
      "Pattern found!\n",
      "Data Analysis\n",
      "['Data', 'Science', 'is', 'cool']\n",
      "['Data', 'Data']\n"
     ]
    }
   ],
   "source": [
    "import re\n",
    "\n",
    "# Finding if a pattern exists in a string\n",
    "if re.search(r'^Data', 'Data Science'):\n",
    "    print(\"Pattern found!\")\n",
    "\n",
    "# Replacing a pattern in a string\n",
    "replaced_text = re.sub(r'Science', 'Analysis', 'Data Science')\n",
    "print(replaced_text)  # Outputs: Data Analysis\n",
    "\n",
    "# Splitting a string based on a pattern\n",
    "split_text = re.split(r'\\s+', 'Data Science is cool')\n",
    "print(split_text)  # Outputs: ['Data', 'Science', 'is', 'cool']\n",
    "\n",
    "# Extracting all matches of a pattern\n",
    "matches = re.findall(r'\\bData\\b', 'Data Science and Data Analysis')\n",
    "print(matches)  # Outputs: ['Data', 'Data']"
   ]
  },
  {
   "cell_type": "markdown",
   "metadata": {},
   "source": [
    "### Let's dig into some more pandas features"
   ]
  },
  {
   "cell_type": "markdown",
   "metadata": {},
   "source": [
    "We can use additional libraries with our pandas dataframe to perform more complex operations. For example, let's explore how different NLP libraries can be used with pandas to perform text preprocessing and analysis."
   ]
  },
  {
   "cell_type": "markdown",
   "metadata": {},
   "source": [
    "#### Tokenization\n",
    "\n",
    "In NLP, tokenization serves as a preprocessing step where text is segmented into tokens that are useful for subsequent tasks like parsing, syntax analysis, or feature extraction. The process can vary in complexity depending on the language and the specific application. For instance, tokenizing a sentence in English might simply involve splitting it by spaces and punctuation, but languages without clear word boundaries (e.g., Chinese) require more sophisticated methods. The choice of what constitutes a token is crucial and depends on the task at hand; for example, in some contexts, individual words are tokens, while in others, meaningful phrases or even individual characters might be considered tokens."
   ]
  },
  {
   "cell_type": "markdown",
   "metadata": {},
   "source": [
    "##### NLTK"
   ]
  },
  {
   "cell_type": "code",
   "execution_count": 33,
   "metadata": {},
   "outputs": [
    {
     "name": "stdout",
     "output_type": "stream",
     "text": [
      "\u001b[33mWARNING: Ignoring invalid distribution -rotobuf (/media/james/Projects/GitHub/DATA_340_NLP/venv/lib/python3.10/site-packages)\u001b[0m\u001b[33m\n",
      "\u001b[0m\u001b[33mWARNING: Ignoring invalid distribution -rotobuf (/media/james/Projects/GitHub/DATA_340_NLP/venv/lib/python3.10/site-packages)\u001b[0m\u001b[33m\n",
      "\u001b[0m\u001b[33mWARNING: Ignoring invalid distribution -rotobuf (/media/james/Projects/GitHub/DATA_340_NLP/venv/lib/python3.10/site-packages)\u001b[0m\u001b[33m\n",
      "\u001b[0m"
     ]
    }
   ],
   "source": [
    "!pip install nltk --quiet"
   ]
  },
  {
   "cell_type": "code",
   "execution_count": 34,
   "metadata": {},
   "outputs": [],
   "source": [
    "# let's tokenize our text column\n",
    "import nltk\n",
    "from nltk.tokenize import word_tokenize"
   ]
  },
  {
   "cell_type": "code",
   "execution_count": 35,
   "metadata": {},
   "outputs": [
    {
     "data": {
      "text/plain": [
       "0    [looking, for, that, little, bit, of, extra, s...\n",
       "1    [hi, everyone, my, name, is, azizah, and, i, a...\n",
       "2    [i, am, currently, doing, an, extended, projec...\n",
       "3    [hi, alice, i, have, pompholyx, to, clear, an,...\n",
       "4    [hello, i, am, in, my, third, year, at, derby,...\n",
       "Name: nltk_tokens, dtype: object"
      ]
     },
     "execution_count": 35,
     "metadata": {},
     "output_type": "execute_result"
    }
   ],
   "source": [
    "eczema_df['nltk_tokens'] = eczema_df['text'].apply(word_tokenize)\n",
    "eczema_df['nltk_tokens'].head()"
   ]
  },
  {
   "cell_type": "code",
   "execution_count": 36,
   "metadata": {},
   "outputs": [
    {
     "data": {
      "image/png": "[encoded data removed]",
      "text/plain": [
       "<Figure size 640x480 with 1 Axes>"
      ]
     },
     "metadata": {},
     "output_type": "display_data"
    }
   ],
   "source": [
    "# plot the token length distribution using pandas\n",
    "import matplotlib.pyplot as plt\n",
    "\n",
    "eczema_df['nltk_tokens'].apply(len).hist(bins=30)\n",
    "plt.title('Token Length Distribution')\n",
    "plt.show()"
   ]
  },
  {
   "cell_type": "code",
   "execution_count": 37,
   "metadata": {},
   "outputs": [
    {
     "name": "stdout",
     "output_type": "stream",
     "text": [
      "['hello', 'everyone', 'i', 'just', 'joined', 'the', 'site', 'about', 'an', 'hour', 'ago', 'and', 'i', 'thought', 'that', 'i', 'would', 'share', 'my', 'story', 'i', 'am', '21', 'year', 'living', 'in', 'california', 'i', 'have', 'had', 'eczema', 'a', 'long', 'a', 'i', 'can', 'remember', 'i', 'have', 'always', 'gotten', 'breakout', 'all', 'over', 'my', 'body', 'arm', 'chest', 'back', 'leg', 'foot', 'you', 'name', 'it', 'but', 'i', 'especially', 'remember', 'it', 'being', 'bad', 'on', 'my', 'leg', 'when', 'i', 'wa', 'little', 'from', 'about', '4th', 'grade', 'up', 'until', 'the', 'middle', 'of', 'high', 'school', 'i', 'wore', 'sock', 'up', 'to', 'my', 'knee', 'just', 'so', 'that', 'i', 'could', 'bare', 'to', 'wear', 'short', 'it', 'didn', 't', 'help', 'either', 'that', 'i', 'always', 'played', 'sport', 'mostly', 'soccer', 'which', 'didn', 't', 'help', 'the', 'condition', 'i', 'can', 't', 'even', 'remember', 'a', 'single', 'soccer', 'game', 'growing', 'up', 'where', 'i', 'wasn', 't', 'constantly', 'stopping', 'to', 'scratch', 'under', 'my', 'shin', 'guard', 'or', 'kicking', 'at', 'my', 'heel', 'to', 'relieve', 'the', 'itch', 'my', 'senior', 'year', 'of', 'highschool', 'i', 'broke', 'out', 'on', 'my', 'toe', 'which', 'spread', 'to', 'the', 'bottom', 'of', 'my', 'foot', 'i', 'had', 'never', 'had', 'this', 'happen', 'before', 'after', '6', 'month', 'of', 'playing', 'sport', 'and', 'living', 'every', 'day', 'with', 'no', 'skin', 'on', 'half', 'of', 'my', 'foot', 'or', 'toe', 'i', 'finally', 'saw', 'a', 'doctor', 'who', 'diagnosed', 'me', 'with', 'dishydrotic', 'eczema', 'or', 'pompholynx', 'it', 'seems', 'i', 'had', 'also', 'contracted', 'staph', 'and', '15', 'other', 'bacterial', 'infection', 'so', 'that', 'sure', 'wa', 'fun', 'to', 'get', 'rid', 'of', 'my', 'first', 'year', 'at', 'college', 'i', 'wa', 'completely', 'fine', 'no', 'breakout', 'at', 'all', 'it', 'wasn', 't', 'until', 'the', 'following', 'year', 'when', 'i', 'began', 'playing', 'soccer', 'again', 'that', 'it', 'came', 'back', 'my', 'foot', 'started', 'to', 'blister', 'and', 'my', 'hand', 'soon', 'followed', 'before', 'i', 'knew', 'it', 'i', 'had', 'no', 'skin', 'on', 'my', 'hand', 'or', 'the', 'bottom', 'of', 'my', 'foot', 'and', 'it', 'took', 'over', 'my', 'entire', 'life', 'i', 'wa', 'constantly', 'scratching', 'my', 'hand', 'and', 'foot', 'on', 'anything', 'and', 'everything', 'i', 'slept', 'maybe', 'a', 'few', 'hour', 'each', 'night', 'and', 'would', 'wake', 'up', 'to', 'bloody', 'sheet', 'and', 'my', 'condition', 'worse', 'than', 'it', 'wa', 'the', 'night', 'before', 'i', 'don', 't', 'know', 'how', 'many', 'time', 'i', 've', 'thought', 'about', 'tying', 'my', 'hand', 'and', 'leg', 'up', 'to', 'the', 'bedpost', 'or', 'something', 'just', 'so', 'that', 'i', 'could', 'get', 'through', 'the', 'night', 'without', 'scratching', 'over', 'the', 'next', 'few', 'year', 'i', 'saw', 'plenty', 'of', 'dermatologist', 'to', 'try', 'and', 'help', 'my', 'condition', 'what', 'did', 'they', 'all', 'tell', 'me', 'you', 'need', 'topical', 'steroid', 'so', 'i', 'used', 'them', 'each', 'time', 'for', 'about', '2', 'or', '3', 'week', 'and', 'then', 'what', 'happened', 'it', 'came', 'right', 'back', 'the', 'instant', 'i', 'stopped', 'using', 'the', 'steroid', 'same', 'day', 'even', 'finally', 'i', 'saw', 'a', 'dermatologist', 'and', 'he', 'told', 'me', 'that', 'i', 'should', 'always', 'have', 'the', 'topical', 'steroid', 'on', 'me', 'and', 'be', 'using', 'it', 'thank', 'to', 'him', 'i', 'used', 'it', 'non', 'stop', 'twice', 'a', 'day', 'once', 'a', 'day', 'rarely', 'when', 'i', 'wa', 'doing', 'well', 'for', '5', 'month', 'straight', 'on', 'my', 'hand', 'and', '8', 'month', 'straight', 'on', 'my', 'foot', 'it', 'still', 'didn', 't', 'solve', 'my', 'problem', 'so', 'i', 'said', 'to', 'hell', 'with', 'the', 'steroid', 'and', 'haven', 't', 'touched', 'them', 'ever', 'since', 'after', 'i', 'stopped', 'using', 'the', 'steroid', 'on', 'my', 'hand', 'it', 'wa', 'about', '3', 'or', '4', 'month', 'before', 'i', 'could', 'open', 'the', 'cap', 'on', 'a', 'water', 'bottle', 'without', 'the', 'skin', 'on', 'my', 'hand', 'tearing', 'and', 'another', '3', 'or', '4', 'month', 'until', 'i', 'could', 'do', 'it', 'comfortably', 'i', 'think', 'it', 's', 'safe', 'to', 'say', 'that', 'my', 'skin', 'may', 'never', 'be', 'a', 'thick', 'a', 'they', 'were', 'again', 'but', 'i', 'm', 'optimistic', 'about', 'it', 'once', 'i', 'quit', 'the', 'steroid', 'i', 'tried', 'every', 'skin', 'remedy', 'known', 'to', 'man', 'so', 'it', 'seems', 'i', 'tried', 'lotion', 'such', 'a', 'cetaphil', 'eucerin', 'aquafor', 'udderly', 'smooth', 'aveeno', 'gold', 'bond', 'and', 'dozen', 'of', 'others', 'i', 'also', 'tried', 'many', 'cortizone', 'cream', 'which', 'did', 'not', 'work', 'for', 'me', 'i', 'tried', 'several', 'type', 'of', 'oil', 'such', 'a', 'jojoba', 'emu', 'olive', 'coconut', 'and', 'apricot', 'kernel', 'all', 'of', 'which', 'seemed', 'nice', 'for', 'a', 'few', 'minute', 'until', 'the', 'greasiness', 'went', 'away', 'and', 'my', 'skin', 'instantly', 'dried', 'out', 'i', 'remember', 'the', 'most', 'painful', 'thing', 'i', 'ever', 'did', 'wa', 'soak', 'my', 'hand', 'and', 'foot', 'in', 'apple', 'cider', 'vinegar', 'when', 'they', 'were', 'at', 'their', 'worst', 'stage', 'i', 'did', 'this', 'a', 'few', 'time', 'a', 'day', 'for', 'a', 'few', 'week', 'until', 'i', 'realized', 'it', 'wasn', 't', 'going', 'to', 'work', 'and', 'it', 'just', 'wasn', 't', 'worth', 'the', 'pain', 'i', 've', 'tried', 'bath', 'bath', 'oil', 'which', 'i', 'actually', 'think', 'are', 'okay', 'but', 'just', 'staying', 'in', 'a', 'bath', 'for', 'too', 'long', 'make', 'my', 'skin', 'weak', 'and', 'just', 'applying', 'lotion', 'afterwards', 'seems', 'to', 'harm', 'it', 'i', 'have', 'tried', 'plenty', 'of', 'combination', 'of', 'body', 'butter', 'and', 'even', 'tried', 'making', 'my', 'own', 'i', 've', 'ordered', '80', 'bottle', 'of', 'eczema', 'lotion', 'online', 'which', 'failed', 'to', 'work', 'a', 'well', 'holistic', 'approach', 'have', 'not', 'been', 'my', 'friend', 'either', 'i', 'tried', 'lot', 'of', 'different', 'supplement', 'to', 'help', 'with', 'skin', 'anxiety', 'sleep', 'etc', 'but', 'i', 'will', 'get', 'to', 'the', 'thing', 'that', 'work', 'for', 'me', 'in', 'a', 'bit', 'i', 'am', 'already', 'a', 'stressed', 'and', 'anxious', 'person', 'a', 'it', 'is', 'so', 'i', 'know', 'how', 'much', 'stress', 'can', 'affect', 'eczema', 'out', 'break', 'but', 'how', 'am', 'i', 'supposed', 'to', 'get', 'rid', 'of', 'my', 'stress', 'when', 'my', 'eczema', 'is', 'the', 'main', 'cause', 'of', 'it', 'sometimes', 'i', 'feel', 'a', 'if', 'the', 'best', 'cure', 'for', 'eczema', 'is', 'to', 'not', 'think', 'about', 'it', 'the', 'emotional', 'toll', 'it', 'take', 'can', 'be', 'great', 'i', 'don', 't', 'even', 'want', 'to', 'think', 'about', 'how', 'many', 'time', 'i', 've', 'had', 'to', 'stay', 'in', 'while', 'my', 'friend', 'went', 'out', 'and', 'had', 'fun', 'part', 'of', 'the', 'problem', 'with', 'having', 'dishydrotic', 'eczema', 'on', 'my', 'foot', 'is', 'that', 'wearing', 'shoe', 'for', 'too', 'long', 'can', 'make', 'me', 'break', 'out', 'because', 'of', 'the', 'heat', 'i', 'can', 't', 'wear', 'sandal', 'either', 'unless', 'my', 'foot', 'are', '100', 'clear', 'or', 'else', 'the', 'bottom', 'of', 'my', 'foot', 'get', 'too', 'dirty', 'and', 'that', 'make', 'them', 'really', 'itchy', 'and', 'difficult', 'to', 'clean', 'and', 'one', 'tiny', 'bump', 'on', 'the', 'bottom', 'of', 'my', 'foot', 'can', 'become', 'extremely', 'itchy', 'and', 'spread', 'and', 'a', 'single', 'breakout', 'take', '3', '4', 'month', 'to', 'heal', 'without', 'steroid', 'i', 'live', 'right', 'by', 'the', 'beach', 'and', 'i', 'haven', 't', 'been', 'able', 'to', 'go', 'in', 'year', 'because', 'i', 'can', 't', 'walk', 'on', 'the', 'sand', 'i', 'can', 't', 'swim', 'either', 'the', 'last', 'time', 'i', 'healed', 'up', 'after', 'a', 'break', 'out', 'i', 'thought', 'it', 'wa', 'okay', 'to', 'go', 'swimming', 'the', 'way', 'that', 'the', 'water', 'dried', 'out', 'my', 'skin', 'made', 'me', 'scratch', 'during', 'the', 'night', 'and', 'it', 'went', 'all', 'down', 'hill', 'from', 'there', 'so', 'i', 'won', 't', 'make', 'that', 'mistake', 'again', 'it', 'make', 'me', 'really', 'depressed', 'every', 'day', 'to', 'think', 'about', 'all', 'the', 'thing', 'i', 'want', 'to', 'do', 'but', 'can', 't', 'because', 'i', 'don', 't', 'want', 'to', 'risk', 'another', 'break', 'out', 'no', 'beach', 'no', 'swimming', 'no', 'running', 'no', 'sport', 'not', 'to', 'mention', 'what', 'this', 'doe', 'for', 'my', 'relationship', 'the', 'last', 'real', 'date', 'i', 'went', 'on', 'with', 'a', 'girl', 'wa', 'because', 'my', 'hand', 'were', 'in', 'between', 'breakout', 'we', 'went', 'out', 'and', 'had', 'a', 'good', 'time', 'but', 'after', 'that', 'i', 'had', 'to', 'go', 'away', 'for', 'a', 'week', 'when', 'i', 'came', 'back', 'my', 'hand', 'had', 'broken', 'out', 'again', 'she', 'wanted', 'to', 'see', 'me', 'but', 'i', 'kept', 'making', 'excuse', 'hoping', 'for', 'a', 'miracle', 'which', 'never', 'came', 'i', 'never', 'had', 'the', 'confidence', 'to', 'go', 'out', 'with', 'her', 'again', 'because', 'my', 'hand', 'didn', 't', 'clear', 'up', 'anyways', 'i', 'didn', 't', 'want', 'to', 'make', 'this', 'too', 'long', 'and', 'i', 'feel', 'like', 'i', 'have', 'gone', 'on', 'long', 'enough', 'so', 'i', 'll', 'get', 'to', 'the', 'thing', 'that', 'really', 'work', 'for', 'me', 'the', 'tricky', 'part', 'about', 'having', 'dishydrotic', 'eczema', 'pompholynx', 'is', 'that', 'the', 'treatment', 'for', 'it', 'compared', 'to', 'other', 'eczema', 'seems', 'almost', 'opposite', 'at', 'time', '1', 'ha', 'been', 'the', 'single', 'greatest', 'thing', 'that', 'i', 'have', 'ever', 'used', 'on', 'my', 'skin', '100', 'shea', 'butter', 'only', 'i', 'have', 'used', 'body', 'butter', 'that', 'had', 'shea', 'a', 'the', 'main', 'ingredient', 'and', 'found', 'that', 'it', 'just', 'wasn', 't', 'enough', 'i', 'strongly', 'recommend', 'handcrafted', 'shea', 'butter', 'by', 'alaffia', 'make', 'sure', 'that', 'it', 'is', 'unscented', 'and', 'for', 'all', 'skin', 'type', 'the', 'problem', 'with', 'most', '100', 'shea', 'butter', 'i', 'have', 'found', 'is', 'that', 'it', 'is', 'either', 'powdery', 'or', 'too', 'hard', 'the', 'one', 'that', 'alaffia', 'make', 'for', 'all', 'skin', 'type', 'is', 'a', 'lot', 'softer', 'this', 'is', 'by', 'far', 'the', 'only', 'thing', 'that', 'seems', 'to', 'lock', 'in', 'moisture', 'for', 'a', 'long', 'time', 'for', 'me', 'and', 'it', 'is', 'the', 'only', 'thing', 'that', 'keep', 'my', 'skin', 'moisturized', 'throughout', 'the', 'entire', 'night', 'no', 'more', 'waking', 'up', 'constantly', 'throughout', 'the', 'night', 'to', 'apply', 'more', 'lotion', 'i', 'stay', 'away', 'from', 'any', 'and', 'all', 'lotion', 'because', 'the', 'main', 'ingredient', 'in', 'them', 'is', 'water', 'i', 'recommend', 'using', 'the', 'shea', 'butter', 'for', 'all', 'of', 'your', 'eczema', 'outbreak', 'and', 'anywhere', 'on', 'your', 'body', 'including', 'face', '2', 'by', 'peaceful', 'mountain', 'i', 'came', 'across', 'this', 'by', 'accident', 'one', 'day', 'when', 'i', 'wa', 'in', 'sprout', 'i', 'apply', 'it', 'before', 'i', 'put', 'the', 'shea', 'butter', 'on', 'it', 'ha', 'worked', 'wonder', 'for', 'me', 'a', 'far', 'a', 'cooling', 'the', 'skin', 'and', 'relieving', 'itching', 'it', 'help', 'to', 'keep', 'the', 'skin', 'soft', 'whereas', 'without', 'it', 'my', 'skin', 'would', 'get', 'hard', 'and', 'scaly', 'i', 'tried', '100', 'aloe', 'for', 'many', 'month', 'but', 'it', 'ha', 'never', 'worked', 'this', 'well', 'it', 's', 'a', 'bit', 'on', 'the', 'expensive', 'side', '15', 'for', 'a', 'pretty', 'small', 'bottle', 'which', 'i', 'go', 'through', 'in', '1', '2', 'week', 'but', 'when', 'you', 'find', 'something', 'that', 'work', 'it', 's', 'worth', 'it', '3', 'i', 'wa', 'recommended', 'to', 'take', 'fish', 'oil', 'once', 'by', 'someone', 'and', 'ended', 'up', 'taking', 'the', 'pill', 'for', 'a', 'bit', 'i', 'never', 'noticed', 'any', 'effect', 'and', 'it', 'wa', 'such', 'a', 'hassle', 'to', 'take', '2', '3', 'pill', '3', 'time', 'a', 'day', 'with', 'meal', 'then', 'i', 'saw', 'an', 'acupuncturist', 'who', 'strongly', 'urged', 'me', 'to', 'try', 'a', 'good', 'quality', 'fish', 'oil', 'in', 'liquid', 'form', 'i', 'bought', 'a', 'good', 'quality', 'fish', 'oil', 'from', 'the', 'local', 'health', 'food', 'store', 'and', 'started', 'taking', 'a', 'teaspoon', 'each', 'morning', 'with', 'breakfast', 'it', 'made', 'a', 'huge', 'difference', 'for', 'me', '4', 'this', 'wa', 'a', 'big', 'one', 'for', 'me', 'i', 'have', 'always', 'had', 'really', 'bad', 'allergy', 'growing', 'up', 'and', 'for', 'some', 'reason', 'never', 'thought', 'it', 'had', 'anything', 'to', 'do', 'with', 'my', 'eczema', 'at', 'one', 'point', 'i', 'thought', 'it', 'may', 'have', 'had', 'something', 'to', 'do', 'with', 'it', 'but', 'i', 'didn', 't', 'think', 'that', 'my', 'allergy', 'had', 'anything', 'to', 'do', 'with', 'food', 'i', 'got', 'allergy', 'tested', 'a', 'few', 'year', 'ago', 'for', 'this', 'purpose', 'but', 'for', 'some', 'reason', 'decided', 'to', 'ignore', 'the', 'result', 'the', 'result', 'told', 'me', 'that', 'i', 'wa', 'highly', 'allergic', 'to', 'grass', 'and', 'cat', 'and', 'a', 'little', 'bit', 'allergic', 'to', 'nut', 'and', 'dog', 'my', 'doctor', 'told', 'me', 'not', 'to', 'stop', 'eating', 'nut', 'because', 'if', 'i', 'did', 'then', 'it', 'could', 'turn', 'into', 'a', 'severe', 'allergy', 'anyways', 'the', 'last', 'big', 'breakout', 'i', 'had', 'came', 'out', 'of', 'nowhere', 'and', 'i', 'didn', 't', 'understand', 'where', 'i', 'have', 'always', 'been', 'a', 'very', 'healthy', 'person', 'a', 'far', 'a', 'exercising', 'and', 'eating', 'healthy', 'i', 'started', 'eating', 'a', 'lot', 'of', 'nut', 'and', 'trail', 'mix', 'and', 'noticed', 'my', 'skin', 'starting', 'to', 'break', 'out', 'a', 'little', 'bit', 'i', 'then', 'went', 'on', 'a', 'live', 'food', 'diet', 'of', 'sort', 'and', 'began', 'taking', 'a', 'certain', 'green', 'powder', 'every', 'day', 'my', 'skin', 'got', 'really', 'bad', 'and', 'i', 'went', 'through', 'the', 'ingredient', 'in', 'the', 'powder', 'i', 'don', 't', 'know', 'why', 'i', 'didn', 't', 'realize', 'that', 'i', 'shouldn', 't', 'be', 'drinking', 'wheat', 'grass', 'juice', 'and', 'some', 'other', 'grass', 'when', 'i', 'm', 'highly', 'allergic', 'to', 'grass', 'i', 'then', 'started', 'noticing', 'how', 'i', 'felt', 'after', 'eating', 'certain', 'food', 'up', 'to', 'this', 'point', 'i', 'realized', 'that', 'wheat', 'grass', 'peanut', 'and', 'tree', 'nut', 'and', 'dairy', 'all', 'make', 'my', 'skin', 'react', 'i', 'can', 'feel', 'my', 'skin', 'literally', 'dry', 'out', 'and', 'break', 'out', 'under', 'the', 'surface', 'when', 'i', 'have', 'any', 'of', 'these', 'it', 's', 'tough', 'to', 'say', 'what', 'cause', 'you', 'reaction', 'though', 'because', 'my', 'allergy', 'testing', 'told', 'me', 'that', 'i', 'wa', 'okay', 'with', 'dairy', 'just', 'because', 'you', 'aren', 't', 'allergic', 'doesn', 't', 'mean', 'that', 'it', 's', 'okay', 'for', 'you', 'to', 'consume', '5', 'it', 'may', 'sound', 'dumb', 'but', 'it', 's', 'very', 'important', 'to', 'stay', 'positive', 'constantly', 'thinking', 'about', 'your', 'eczema', 'will', 'only', 'stress', 'you', 'out', 'more', 'and', 'more', 'and', 'make', 'you', 'miserable', 'sometimes', 'i', 'think', 'that', 'if', 'i', 'focus', 'hard', 'enough', 'then', 'i', 'can', 'make', 'myself', 'break', 'out', 'i', 'm', 'that', 'paranoid', 'but', 'i', 'don', 't', 'think', 'it', 's', 'untrue', 'either', 'haha', 'i', 'try', 'to', 'practice', 'positive', 'affirmation', 'each', 'morning', 'and', 'night', 'so', 'that', 'i', 'can', 'train', 'myself', 'to', 'be', 'in', 'a', 'good', 'mood', 'do', 'it', 'consistently', 'enough', 'and', 'it', 'really', 'start', 'to', 'work', 'tell', 'yourself', 'you', 're', 'attractive', 'successful', 'happy', 'etc', 'and', 'you', 'will', 'start', 'to', 'believe', 'it', 'yourself', 'also', 'i', 'find', 'that', 'it', 'help', 'to', 'practice', 'meditation', 'yoga', 'breathing', 'or', 'whatever', 'else', 'you', 'can', 'think', 'of', 'to', 'calm', 'the', 'mind', 'and', 'body', 'a', 'well', 'a', 'learning', 'the', 'discipline', 'you', 'need', 'to', 'keep', 'your', 'mind', 'off', 'of', 'your', 'eczema', '6', 'i', 'don', 't', 'know', 'what', 'it', 'is', 'about', 'this', 'but', 'this', 'wa', 'recommended', 'for', 'me', 'to', 'take', 'for', 'my', 'allergy', 'about', '6', 'month', 'ago', 'and', 'i', 'have', 'been', 'taking', 'a', 'pill', 'each', 'day', 'since', 'this', 'seems', 'to', 'really', 'help', 'keep', 'my', 'allergy', 'under', 'control', 'so', 'i', 'would', 'recommend', 'it', 'to', 'everyone', 'it', 's', 'only', '15', 'or', 'so', 'for', 'a', '2', '3', 'month', 'supply', 'so', 'why', 'not', 'give', 'it', 'a', 'try', 'i', 'have', 'tried', 'probiotic', 'a', 'well', 'but', 'have', 'never', 'stayed', 'on', 'it', 'consistently', 'enough', 'to', 'really', 'give', 'any', 'feedback', 'anyways', 'i', 'm', 'getting', 'itchy', 'just', 'writing', 'this', 'and', 'it', 's', '1', '15', 'in', 'the', 'morning', 'so', 'i', 'm', 'gon', 'na', 'end', 'it', 'here', 'if', 'anyone', 'ha', 'any', 'question', 'or', 'feedback', 'feel', 'free', 'to', 'reply', 'a', 'i', 'm', 'sure', 'i', 'left', 'a', 'lot', 'out', 'i', 'hope', 'this', 'help', 'some', 'of', 'you'] hello everyone i just joined the site about an hour ago and i thought that i would share my story i am 21 year living in california i have had eczema a long a i can remember i have always gotten breakout all over my body arm chest back leg foot you name it but i especially remember it being bad on my leg when i wa little from about 4th grade up until the middle of high school i wore sock up to my knee just so that i could bare to wear short it didn t help either that i always played sport mostly soccer which didn t help the condition i can t even remember a single soccer game growing up where i wasn t constantly stopping to scratch under my shin guard or kicking at my heel to relieve the itch my senior year of highschool i broke out on my toe which spread to the bottom of my foot i had never had this happen before after 6 month of playing sport and living every day with no skin on half of my foot or toe i finally saw a doctor who diagnosed me with dishydrotic eczema or pompholynx it seems i had also contracted staph and 15 other bacterial infection so that sure wa fun to get rid of my first year at college i wa completely fine no breakout at all it wasn t until the following year when i began playing soccer again that it came back my foot started to blister and my hand soon followed before i knew it i had no skin on my hand or the bottom of my foot and it took over my entire life i wa constantly scratching my hand and foot on anything and everything i slept maybe a few hour each night and would wake up to bloody sheet and my condition worse than it wa the night before i don t know how many time i ve thought about tying my hand and leg up to the bedpost or something just so that i could get through the night without scratching over the next few year i saw plenty of dermatologist to try and help my condition what did they all tell me you need topical steroid so i used them each time for about 2 or 3 week and then what happened it came right back the instant i stopped using the steroid same day even finally i saw a dermatologist and he told me that i should always have the topical steroid on me and be using it thank to him i used it non stop twice a day once a day rarely when i wa doing well for 5 month straight on my hand and 8 month straight on my foot it still didn t solve my problem so i said to hell with the steroid and haven t touched them ever since after i stopped using the steroid on my hand it wa about 3 or 4 month before i could open the cap on a water bottle without the skin on my hand tearing and another 3 or 4 month until i could do it comfortably i think it s safe to say that my skin may never be a thick a they were again but i m optimistic about it once i quit the steroid i tried every skin remedy known to man so it seems i tried lotion such a cetaphil eucerin aquafor udderly smooth aveeno gold bond and dozen of others i also tried many cortizone cream which did not work for me i tried several type of oil such a jojoba emu olive coconut and apricot kernel all of which seemed nice for a few minute until the greasiness went away and my skin instantly dried out i remember the most painful thing i ever did wa soak my hand and foot in apple cider vinegar when they were at their worst stage i did this a few time a day for a few week until i realized it wasn t going to work and it just wasn t worth the pain i ve tried bath bath oil which i actually think are okay but just staying in a bath for too long make my skin weak and just applying lotion afterwards seems to harm it i have tried plenty of combination of body butter and even tried making my own i ve ordered 80 bottle of eczema lotion online which failed to work a well holistic approach have not been my friend either i tried lot of different supplement to help with skin anxiety sleep etc but i will get to the thing that work for me in a bit i am already a stressed and anxious person a it is so i know how much stress can affect eczema out break but how am i supposed to get rid of my stress when my eczema is the main cause of it sometimes i feel a if the best cure for eczema is to not think about it the emotional toll it take can be great i don t even want to think about how many time i ve had to stay in while my friend went out and had fun part of the problem with having dishydrotic eczema on my foot is that wearing shoe for too long can make me break out because of the heat i can t wear sandal either unless my foot are 100 clear or else the bottom of my foot get too dirty and that make them really itchy and difficult to clean and one tiny bump on the bottom of my foot can become extremely itchy and spread and a single breakout take 3 4 month to heal without steroid i live right by the beach and i haven t been able to go in year because i can t walk on the sand i can t swim either the last time i healed up after a break out i thought it wa okay to go swimming the way that the water dried out my skin made me scratch during the night and it went all down hill from there so i won t make that mistake again it make me really depressed every day to think about all the thing i want to do but can t because i don t want to risk another break out no beach no swimming no running no sport not to mention what this doe for my relationship the last real date i went on with a girl wa because my hand were in between breakout we went out and had a good time but after that i had to go away for a week when i came back my hand had broken out again she wanted to see me but i kept making excuse hoping for a miracle which never came i never had the confidence to go out with her again because my hand didn t clear up anyways i didn t want to make this too long and i feel like i have gone on long enough so i ll get to the thing that really work for me the tricky part about having dishydrotic eczema pompholynx is that the treatment for it compared to other eczema seems almost opposite at time 1 ha been the single greatest thing that i have ever used on my skin 100 shea butter only i have used body butter that had shea a the main ingredient and found that it just wasn t enough i strongly recommend handcrafted shea butter by alaffia make sure that it is unscented and for all skin type the problem with most 100 shea butter i have found is that it is either powdery or too hard the one that alaffia make for all skin type is a lot softer this is by far the only thing that seems to lock in moisture for a long time for me and it is the only thing that keep my skin moisturized throughout the entire night no more waking up constantly throughout the night to apply more lotion i stay away from any and all lotion because the main ingredient in them is water i recommend using the shea butter for all of your eczema outbreak and anywhere on your body including face 2 by peaceful mountain i came across this by accident one day when i wa in sprout i apply it before i put the shea butter on it ha worked wonder for me a far a cooling the skin and relieving itching it help to keep the skin soft whereas without it my skin would get hard and scaly i tried 100 aloe for many month but it ha never worked this well it s a bit on the expensive side 15 for a pretty small bottle which i go through in 1 2 week but when you find something that work it s worth it 3 i wa recommended to take fish oil once by someone and ended up taking the pill for a bit i never noticed any effect and it wa such a hassle to take 2 3 pill 3 time a day with meal then i saw an acupuncturist who strongly urged me to try a good quality fish oil in liquid form i bought a good quality fish oil from the local health food store and started taking a teaspoon each morning with breakfast it made a huge difference for me 4 this wa a big one for me i have always had really bad allergy growing up and for some reason never thought it had anything to do with my eczema at one point i thought it may have had something to do with it but i didn t think that my allergy had anything to do with food i got allergy tested a few year ago for this purpose but for some reason decided to ignore the result the result told me that i wa highly allergic to grass and cat and a little bit allergic to nut and dog my doctor told me not to stop eating nut because if i did then it could turn into a severe allergy anyways the last big breakout i had came out of nowhere and i didn t understand where i have always been a very healthy person a far a exercising and eating healthy i started eating a lot of nut and trail mix and noticed my skin starting to break out a little bit i then went on a live food diet of sort and began taking a certain green powder every day my skin got really bad and i went through the ingredient in the powder i don t know why i didn t realize that i shouldn t be drinking wheat grass juice and some other grass when i m highly allergic to grass i then started noticing how i felt after eating certain food up to this point i realized that wheat grass peanut and tree nut and dairy all make my skin react i can feel my skin literally dry out and break out under the surface when i have any of these it s tough to say what cause you reaction though because my allergy testing told me that i wa okay with dairy just because you aren t allergic doesn t mean that it s okay for you to consume 5 it may sound dumb but it s very important to stay positive constantly thinking about your eczema will only stress you out more and more and make you miserable sometimes i think that if i focus hard enough then i can make myself break out i m that paranoid but i don t think it s untrue either haha i try to practice positive affirmation each morning and night so that i can train myself to be in a good mood do it consistently enough and it really start to work tell yourself you re attractive successful happy etc and you will start to believe it yourself also i find that it help to practice meditation yoga breathing or whatever else you can think of to calm the mind and body a well a learning the discipline you need to keep your mind off of your eczema 6 i don t know what it is about this but this wa recommended for me to take for my allergy about 6 month ago and i have been taking a pill each day since this seems to really help keep my allergy under control so i would recommend it to everyone it s only 15 or so for a 2 3 month supply so why not give it a try i have tried probiotic a well but have never stayed on it consistently enough to really give any feedback anyways i m getting itchy just writing this and it s 1 15 in the morning so i m gonna end it here if anyone ha any question or feedback feel free to reply a i m sure i left a lot out i hope this help some of you\n"
     ]
    }
   ],
   "source": [
    "# look at the longest token\n",
    "max_token = eczema_df['nltk_tokens'].apply(len).idxmax()\n",
    "print(eczema_df.loc[max_token, 'nltk_tokens'], eczema_df.loc[max_token, 'text'])\n"
   ]
  },
  {
   "cell_type": "markdown",
   "metadata": {},
   "source": [
    "#### SpaCy"
   ]
  },
  {
   "cell_type": "code",
   "execution_count": 38,
   "metadata": {},
   "outputs": [
    {
     "name": "stdout",
     "output_type": "stream",
     "text": [
      "\u001b[33mWARNING: Ignoring invalid distribution -rotobuf (/media/james/Projects/GitHub/DATA_340_NLP/venv/lib/python3.10/site-packages)\u001b[0m\u001b[33m\n",
      "\u001b[0m\u001b[33mWARNING: Ignoring invalid distribution -rotobuf (/media/james/Projects/GitHub/DATA_340_NLP/venv/lib/python3.10/site-packages)\u001b[0m\u001b[33m\n",
      "\u001b[0m\u001b[33mWARNING: Ignoring invalid distribution -rotobuf (/media/james/Projects/GitHub/DATA_340_NLP/venv/lib/python3.10/site-packages)\u001b[0m\u001b[33m\n",
      "\u001b[0m2024-02-01 13:15:50.058612: I tensorflow/core/util/port.cc:111] oneDNN custom operations are on. You may see slightly different numerical results due to floating-point round-off errors from different computation orders. To turn them off, set the environment variable `TF_ENABLE_ONEDNN_OPTS=0`.\n",
      "2024-02-01 13:15:50.063632: I tensorflow/tsl/cuda/cudart_stub.cc:28] Could not find cuda drivers on your machine, GPU will not be used.\n",
      "2024-02-01 13:15:50.081648: E tensorflow/compiler/xla/stream_executor/cuda/cuda_dnn.cc:9342] Unable to register cuDNN factory: Attempting to register factory for plugin cuDNN when one has already been registered\n",
      "2024-02-01 13:15:50.081661: E tensorflow/compiler/xla/stream_executor/cuda/cuda_fft.cc:609] Unable to register cuFFT factory: Attempting to register factory for plugin cuFFT when one has already been registered\n",
      "2024-02-01 13:15:50.081680: E tensorflow/compiler/xla/stream_executor/cuda/cuda_blas.cc:1518] Unable to register cuBLAS factory: Attempting to register factory for plugin cuBLAS when one has already been registered\n",
      "2024-02-01 13:15:50.085798: I tensorflow/core/platform/cpu_feature_guard.cc:182] This TensorFlow binary is optimized to use available CPU instructions in performance-critical operations.\n",
      "To enable the following instructions: AVX2 AVX512F AVX512_VNNI AVX512_BF16 FMA, in other operations, rebuild TensorFlow with the appropriate compiler flags.\n",
      "2024-02-01 13:15:50.628600: W tensorflow/compiler/tf2tensorrt/utils/py_utils.cc:38] TF-TRT Warning: Could not find TensorRT\n",
      "2024-02-01 13:15:51.296274: I tensorflow/compiler/xla/stream_executor/cuda/cuda_gpu_executor.cc:894] successful NUMA node read from SysFS had negative value (-1), but there must be at least one NUMA node, so returning NUMA node zero. See more at https://github.com/torvalds/linux/blob/v6.0/Documentation/ABI/testing/sysfs-bus-pci#L344-L355\n",
      "2024-02-01 13:15:51.297657: W tensorflow/core/common_runtime/gpu/gpu_device.cc:2211] Cannot dlopen some GPU libraries. Please make sure the missing libraries mentioned above are installed properly if you would like to use GPU. Follow the guide at https://www.tensorflow.org/install/gpu for how to download and setup the required libraries for your platform.\n",
      "Skipping registering GPU devices...\n",
      "\u001b[33mWARNING: Ignoring invalid distribution -rotobuf (/media/james/Projects/GitHub/DATA_340_NLP/venv/lib/python3.10/site-packages)\u001b[0m\u001b[33m\n",
      "\u001b[0m\u001b[33mWARNING: Ignoring invalid distribution -rotobuf (/media/james/Projects/GitHub/DATA_340_NLP/venv/lib/python3.10/site-packages)\u001b[0m\u001b[33m\n",
      "\u001b[0m\u001b[33mWARNING: Ignoring invalid distribution -rotobuf (/media/james/Projects/GitHub/DATA_340_NLP/venv/lib/python3.10/site-packages)\u001b[0m\u001b[33m\n",
      "\u001b[0m\u001b[38;5;2m✔ Download and installation successful\u001b[0m\n",
      "You can now load the package via spacy.load('en_core_web_sm')\n"
     ]
    }
   ],
   "source": [
    "!pip install spacy --quiet\n",
    "!python -m spacy download en_core_web_sm --quiet"
   ]
  },
  {
   "cell_type": "code",
   "execution_count": 39,
   "metadata": {},
   "outputs": [],
   "source": [
    "# tokenize with spacy\n",
    "import spacy\n",
    "\n",
    "nlp = spacy.load('en_core_web_sm')"
   ]
  },
  {
   "cell_type": "code",
   "execution_count": 40,
   "metadata": {},
   "outputs": [],
   "source": [
    "eczema_df['spacy_tokens'] = eczema_df['text'].apply(lambda x: [token.text for token in nlp(x)])"
   ]
  },
  {
   "cell_type": "code",
   "execution_count": 41,
   "metadata": {},
   "outputs": [
    {
     "data": {
      "image/png": "[encoded data removed]",
      "text/plain": [
       "<Figure size 640x480 with 1 Axes>"
      ]
     },
     "metadata": {},
     "output_type": "display_data"
    }
   ],
   "source": [
    "# plot the token length distribution using pandas\n",
    "eczema_df['spacy_tokens'].apply(len).hist(bins=30)\n",
    "plt.title('Token Length Distribution')\n",
    "plt.show()"
   ]
  },
  {
   "cell_type": "code",
   "execution_count": 42,
   "metadata": {},
   "outputs": [
    {
     "data": {
      "text/html": [
       "<div>\n",
       "<style scoped>\n",
       "    .dataframe tbody tr th:only-of-type {\n",
       "        vertical-align: middle;\n",
       "    }\n",
       "\n",
       "    .dataframe tbody tr th {\n",
       "        vertical-align: top;\n",
       "    }\n",
       "\n",
       "    .dataframe thead th {\n",
       "        text-align: right;\n",
       "    }\n",
       "</style>\n",
       "<table border=\"1\" class=\"dataframe\">\n",
       "  <thead>\n",
       "    <tr style=\"text-align: right;\">\n",
       "      <th></th>\n",
       "      <th>docID</th>\n",
       "      <th>text</th>\n",
       "      <th>lotion</th>\n",
       "      <th>age</th>\n",
       "      <th>nltk_tokens</th>\n",
       "      <th>spacy_tokens</th>\n",
       "    </tr>\n",
       "  </thead>\n",
       "  <tbody>\n",
       "    <tr>\n",
       "      <th>11</th>\n",
       "      <td>13</td>\n",
       "      <td>hello im a designer from london currently rese...</td>\n",
       "      <td>False</td>\n",
       "      <td>True</td>\n",
       "      <td>[hello, im, a, designer, from, london, current...</td>\n",
       "      <td>[hello, i, m, a, designer, from, london, curre...</td>\n",
       "    </tr>\n",
       "    <tr>\n",
       "      <th>28</th>\n",
       "      <td>32</td>\n",
       "      <td>hello i am the ceo of a new company that s cur...</td>\n",
       "      <td>False</td>\n",
       "      <td>True</td>\n",
       "      <td>[hello, i, am, the, ceo, of, a, new, company, ...</td>\n",
       "      <td>[hello, i, am, the, ceo, of, a, new, company, ...</td>\n",
       "    </tr>\n",
       "    <tr>\n",
       "      <th>34</th>\n",
       "      <td>40</td>\n",
       "      <td>level three in counselling the one before the ...</td>\n",
       "      <td>False</td>\n",
       "      <td>False</td>\n",
       "      <td>[level, three, in, counselling, the, one, befo...</td>\n",
       "      <td>[level, three, in, counselling, the, one, befo...</td>\n",
       "    </tr>\n",
       "    <tr>\n",
       "      <th>36</th>\n",
       "      <td>42</td>\n",
       "      <td>thanks and yes it is pca which i m not 100 com...</td>\n",
       "      <td>False</td>\n",
       "      <td>True</td>\n",
       "      <td>[thanks, and, yes, it, is, pca, which, i, m, n...</td>\n",
       "      <td>[thanks, and, yes, it, is, pca, which, i, m, n...</td>\n",
       "    </tr>\n",
       "    <tr>\n",
       "      <th>38</th>\n",
       "      <td>44</td>\n",
       "      <td>thanks so much i really appreciate your help t...</td>\n",
       "      <td>False</td>\n",
       "      <td>True</td>\n",
       "      <td>[thanks, so, much, i, really, appreciate, your...</td>\n",
       "      <td>[thanks, so, much, i, really, appreciate, your...</td>\n",
       "    </tr>\n",
       "    <tr>\n",
       "      <th>...</th>\n",
       "      <td>...</td>\n",
       "      <td>...</td>\n",
       "      <td>...</td>\n",
       "      <td>...</td>\n",
       "      <td>...</td>\n",
       "      <td>...</td>\n",
       "    </tr>\n",
       "    <tr>\n",
       "      <th>9924</th>\n",
       "      <td>11565</td>\n",
       "      <td>i ve got nothing to do while waiting for the n...</td>\n",
       "      <td>False</td>\n",
       "      <td>False</td>\n",
       "      <td>[i, ve, got, nothing, to, do, while, waiting, ...</td>\n",
       "      <td>[i, ve, got, nothing, to, do, while, waiting, ...</td>\n",
       "    </tr>\n",
       "    <tr>\n",
       "      <th>9929</th>\n",
       "      <td>11571</td>\n",
       "      <td>so sorry our lo little one only had a flare up...</td>\n",
       "      <td>False</td>\n",
       "      <td>False</td>\n",
       "      <td>[so, sorry, our, lo, little, one, only, had, a...</td>\n",
       "      <td>[so, sorry, our, lo, little, one, only, had, a...</td>\n",
       "    </tr>\n",
       "    <tr>\n",
       "      <th>9930</th>\n",
       "      <td>11572</td>\n",
       "      <td>i never answered your question we switched to ...</td>\n",
       "      <td>False</td>\n",
       "      <td>False</td>\n",
       "      <td>[i, never, answered, your, question, we, switc...</td>\n",
       "      <td>[i, never, answered, your, question, we, switc...</td>\n",
       "    </tr>\n",
       "    <tr>\n",
       "      <th>9954</th>\n",
       "      <td>11605</td>\n",
       "      <td>hi my 4 month old son ha been having skin issu...</td>\n",
       "      <td>False</td>\n",
       "      <td>True</td>\n",
       "      <td>[hi, my, 4, month, old, son, ha, been, having,...</td>\n",
       "      <td>[hi, my, 4, month, old, son, ha, been, having,...</td>\n",
       "    </tr>\n",
       "    <tr>\n",
       "      <th>9993</th>\n",
       "      <td>11656</td>\n",
       "      <td>have you tried coconut oil my ped went to a se...</td>\n",
       "      <td>False</td>\n",
       "      <td>False</td>\n",
       "      <td>[have, you, tried, coconut, oil, my, ped, went...</td>\n",
       "      <td>[have, you, tried, coconut, oil, my, ped, went...</td>\n",
       "    </tr>\n",
       "  </tbody>\n",
       "</table>\n",
       "<p>1288 rows × 6 columns</p>\n",
       "</div>"
      ],
      "text/plain": [
       "      docID                                               text  lotion    age  \\\n",
       "11       13  hello im a designer from london currently rese...   False   True   \n",
       "28       32  hello i am the ceo of a new company that s cur...   False   True   \n",
       "34       40  level three in counselling the one before the ...   False  False   \n",
       "36       42  thanks and yes it is pca which i m not 100 com...   False   True   \n",
       "38       44  thanks so much i really appreciate your help t...   False   True   \n",
       "...     ...                                                ...     ...    ...   \n",
       "9924  11565  i ve got nothing to do while waiting for the n...   False  False   \n",
       "9929  11571  so sorry our lo little one only had a flare up...   False  False   \n",
       "9930  11572  i never answered your question we switched to ...   False  False   \n",
       "9954  11605  hi my 4 month old son ha been having skin issu...   False   True   \n",
       "9993  11656  have you tried coconut oil my ped went to a se...   False  False   \n",
       "\n",
       "                                            nltk_tokens  \\\n",
       "11    [hello, im, a, designer, from, london, current...   \n",
       "28    [hello, i, am, the, ceo, of, a, new, company, ...   \n",
       "34    [level, three, in, counselling, the, one, befo...   \n",
       "36    [thanks, and, yes, it, is, pca, which, i, m, n...   \n",
       "38    [thanks, so, much, i, really, appreciate, your...   \n",
       "...                                                 ...   \n",
       "9924  [i, ve, got, nothing, to, do, while, waiting, ...   \n",
       "9929  [so, sorry, our, lo, little, one, only, had, a...   \n",
       "9930  [i, never, answered, your, question, we, switc...   \n",
       "9954  [hi, my, 4, month, old, son, ha, been, having,...   \n",
       "9993  [have, you, tried, coconut, oil, my, ped, went...   \n",
       "\n",
       "                                           spacy_tokens  \n",
       "11    [hello, i, m, a, designer, from, london, curre...  \n",
       "28    [hello, i, am, the, ceo, of, a, new, company, ...  \n",
       "34    [level, three, in, counselling, the, one, befo...  \n",
       "36    [thanks, and, yes, it, is, pca, which, i, m, n...  \n",
       "38    [thanks, so, much, i, really, appreciate, your...  \n",
       "...                                                 ...  \n",
       "9924  [i, ve, got, nothing, to, do, while, waiting, ...  \n",
       "9929  [so, sorry, our, lo, little, one, only, had, a...  \n",
       "9930  [i, never, answered, your, question, we, switc...  \n",
       "9954  [hi, my, 4, month, old, son, ha, been, having,...  \n",
       "9993  [have, you, tried, coconut, oil, my, ped, went...  \n",
       "\n",
       "[1288 rows x 6 columns]"
      ]
     },
     "execution_count": 42,
     "metadata": {},
     "output_type": "execute_result"
    }
   ],
   "source": [
    "# example of differences between spacy and nltk tokenization\n",
    "eczema_df[eczema_df['nltk_tokens'].apply(len) != eczema_df['spacy_tokens'].apply(len)]"
   ]
  },
  {
   "cell_type": "code",
   "execution_count": null,
   "metadata": {},
   "outputs": [],
   "source": []
  }
 ],
 "metadata": {
  "kernelspec": {
   "display_name": "venv",
   "language": "python",
   "name": "python3"
  },
  "language_info": {
   "codemirror_mode": {
    "name": "ipython",
    "version": 3
   },
   "file_extension": ".py",
   "mimetype": "text/x-python",
   "name": "python",
   "nbconvert_exporter": "python",
   "pygments_lexer": "ipython3",
   "version": "3.10.12"
  }
 },
 "nbformat": 4,
 "nbformat_minor": 2
}
