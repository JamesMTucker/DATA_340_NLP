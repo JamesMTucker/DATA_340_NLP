{
 "cells": [
  {
   "cell_type": "markdown",
   "metadata": {},
   "source": [
    "# Tutorial on TensorFlow Datasets"
   ]
  },
  {
   "cell_type": "markdown",
   "metadata": {},
   "source": [
    "## Tensorflow Datasets"
   ]
  },
  {
   "cell_type": "markdown",
   "metadata": {},
   "source": [
    "### Import dependencies"
   ]
  },
  {
   "cell_type": "code",
   "execution_count": 4,
   "metadata": {},
   "outputs": [
    {
     "name": "stderr",
     "output_type": "stream",
     "text": [
      "/home/james/miniconda3/envs/fed_papers/lib/python3.10/site-packages/tqdm/auto.py:21: TqdmWarning: IProgress not found. Please update jupyter and ipywidgets. See https://ipywidgets.readthedocs.io/en/stable/user_install.html\n",
      "  from .autonotebook import tqdm as notebook_tqdm\n"
     ]
    }
   ],
   "source": [
    "import tensorflow as tf\n",
    "import tensorflow_datasets as tfds"
   ]
  },
  {
   "cell_type": "code",
   "execution_count": 13,
   "metadata": {},
   "outputs": [],
   "source": [
    "# Create a dataset for a NLP task\n",
    "dataset, info = tfds.load('imdb_reviews', as_supervised=True, with_info=True)"
   ]
  },
  {
   "cell_type": "code",
   "execution_count": 14,
   "metadata": {},
   "outputs": [
    {
     "data": {
      "text/plain": [
       "tfds.core.DatasetInfo(\n",
       "    name='imdb_reviews',\n",
       "    full_name='imdb_reviews/plain_text/1.0.0',\n",
       "    description=\"\"\"\n",
       "    Large Movie Review Dataset. This is a dataset for binary sentiment\n",
       "    classification containing substantially more data than previous benchmark\n",
       "    datasets. We provide a set of 25,000 highly polar movie reviews for training,\n",
       "    and 25,000 for testing. There is additional unlabeled data for use as well.\n",
       "    \"\"\",\n",
       "    config_description=\"\"\"\n",
       "    Plain text\n",
       "    \"\"\",\n",
       "    homepage='http://ai.stanford.edu/~amaas/data/sentiment/',\n",
       "    data_dir='/home/james/tensorflow_datasets/imdb_reviews/plain_text/1.0.0',\n",
       "    file_format=tfrecord,\n",
       "    download_size=80.23 MiB,\n",
       "    dataset_size=129.83 MiB,\n",
       "    features=FeaturesDict({\n",
       "        'label': ClassLabel(shape=(), dtype=int64, num_classes=2),\n",
       "        'text': Text(shape=(), dtype=string),\n",
       "    }),\n",
       "    supervised_keys=('text', 'label'),\n",
       "    disable_shuffling=False,\n",
       "    splits={\n",
       "        'test': <SplitInfo num_examples=25000, num_shards=1>,\n",
       "        'train': <SplitInfo num_examples=25000, num_shards=1>,\n",
       "        'unsupervised': <SplitInfo num_examples=50000, num_shards=1>,\n",
       "    },\n",
       "    citation=\"\"\"@InProceedings{maas-EtAl:2011:ACL-HLT2011,\n",
       "      author    = {Maas, Andrew L.  and  Daly, Raymond E.  and  Pham, Peter T.  and  Huang, Dan  and  Ng, Andrew Y.  and  Potts, Christopher},\n",
       "      title     = {Learning Word Vectors for Sentiment Analysis},\n",
       "      booktitle = {Proceedings of the 49th Annual Meeting of the Association for Computational Linguistics: Human Language Technologies},\n",
       "      month     = {June},\n",
       "      year      = {2011},\n",
       "      address   = {Portland, Oregon, USA},\n",
       "      publisher = {Association for Computational Linguistics},\n",
       "      pages     = {142--150},\n",
       "      url       = {http://www.aclweb.org/anthology/P11-1015}\n",
       "    }\"\"\",\n",
       ")"
      ]
     },
     "execution_count": 14,
     "metadata": {},
     "output_type": "execute_result"
    }
   ],
   "source": [
    "info"
   ]
  },
  {
   "cell_type": "markdown",
   "metadata": {},
   "source": [
    "### What is a tf.data.Dataset?"
   ]
  },
  {
   "cell_type": "code",
   "execution_count": 23,
   "metadata": {},
   "outputs": [
    {
     "name": "stdout",
     "output_type": "stream",
     "text": [
      "['_GeneratorState', '__abstractmethods__', '__annotations__', '__bool__', '__class__', '__class_getitem__', '__debug_string__', '__delattr__', '__dict__', '__dir__', '__doc__', '__eq__', '__format__', '__ge__', '__getattribute__', '__gt__', '__hash__', '__init__', '__init_subclass__', '__iter__', '__le__', '__len__', '__lt__', '__module__', '__ne__', '__new__', '__nonzero__', '__reduce__', '__reduce_ex__', '__repr__', '__setattr__', '__sizeof__', '__slots__', '__str__', '__subclasshook__', '__tf_tracing_type__', '__weakref__', '_abc_impl', '_add_trackable_child', '_add_variable_with_custom_getter', '_apply_debug_options', '_as_serialized_graph', '_checkpoint_dependencies', '_common_args', '_consumers', '_convert_variables_to_tensors', '_copy_trackable_to_cpu', '_deferred_dependencies', '_deserialization_dependencies', '_deserialize_from_proto', '_export_to_saved_model_graph', '_flat_shapes', '_flat_structure', '_flat_types', '_functions', '_gather_saveables_for_checkpoint', '_graph', '_graph_attr', '_handle_deferred_dependencies', '_inputs', '_lookup_dependency', '_maybe_initialize_trackable', '_maybe_track_assets', '_metadata', '_name', '_name_based_attribute_restore', '_name_based_restores', '_no_dependency', '_object_identifier', '_options', '_options_attr', '_options_tensor_to_options', '_preload_simple_restoration', '_restore_from_tensors', '_serialize_to_proto', '_serialize_to_tensors', '_setattr_tracking', '_shape_invariant_to_type_spec', '_structure', '_tensors', '_tf_api_names', '_tf_api_names_v1', '_trace_variant_creation', '_track_trackable', '_trackable_children', '_type_spec', '_unconditional_checkpoint_dependencies', '_unconditional_dependency_names', '_update_uid', '_variant_tensor', '_variant_tensor_attr', 'apply', 'as_numpy_iterator', 'batch', 'bucket_by_sequence_length', 'cache', 'cardinality', 'choose_from_datasets', 'concatenate', 'counter', 'element_spec', 'enumerate', 'filter', 'fingerprint', 'flat_map', 'from_generator', 'from_tensor_slices', 'from_tensors', 'get_single_element', 'group_by_window', 'ignore_errors', 'interleave', 'list_files', 'load', 'map', 'options', 'padded_batch', 'prefetch', 'ragged_batch', 'random', 'range', 'rebatch', 'reduce', 'rejection_resample', 'repeat', 'sample_from_datasets', 'save', 'scan', 'shard', 'shuffle', 'skip', 'snapshot', 'sparse_batch', 'take', 'take_while', 'unbatch', 'unique', 'window', 'with_options', 'zip']\n",
      "<class 'tensorflow.python.data.ops.from_tensor_slices_op._TensorSliceDataset'>\n"
     ]
    },
    {
     "data": {
      "text/plain": [
       "(None, None)"
      ]
     },
     "execution_count": 23,
     "metadata": {},
     "output_type": "execute_result"
    }
   ],
   "source": [
    "print(dir(dataset)), print(type(dataset))"
   ]
  },
  {
   "cell_type": "markdown",
   "metadata": {},
   "source": [
    "#### Dictionary features"
   ]
  },
  {
   "cell_type": "code",
   "execution_count": 7,
   "metadata": {},
   "outputs": [
    {
     "name": "stdout",
     "output_type": "stream",
     "text": [
      "dict_keys(['train', 'test', 'unsupervised'])\n"
     ]
    }
   ],
   "source": [
    "print(dataset.keys())"
   ]
  },
  {
   "cell_type": "code",
   "execution_count": 9,
   "metadata": {},
   "outputs": [
    {
     "name": "stdout",
     "output_type": "stream",
     "text": [
      "<_PrefetchDataset element_spec=(TensorSpec(shape=(), dtype=tf.string, name=None), TensorSpec(shape=(), dtype=tf.int64, name=None))> <_PrefetchDataset element_spec=(TensorSpec(shape=(), dtype=tf.string, name=None), TensorSpec(shape=(), dtype=tf.int64, name=None))> <_PrefetchDataset element_spec=(TensorSpec(shape=(), dtype=tf.string, name=None), TensorSpec(shape=(), dtype=tf.int64, name=None))>\n"
     ]
    }
   ],
   "source": [
    "print(dataset['test'], dataset['train'], dataset['unsupervised'])"
   ]
  },
  {
   "cell_type": "code",
   "execution_count": 11,
   "metadata": {},
   "outputs": [
    {
     "name": "stdout",
     "output_type": "stream",
     "text": [
      "text=<tf.Tensor: shape=(), dtype=string, numpy=b\"This was an absolutely terrible movie. Don't be lured in by Christopher Walken or Michael Ironside. Both are great actors, but this must simply be their worst role in history. Even their great acting could not redeem this movie's ridiculous storyline. This movie is an early nineties US propaganda piece. The most pathetic scenes were those when the Columbian rebels were making their cases for revolutions. Maria Conchita Alonso appeared phony, and her pseudo-love affair with Walken was nothing but a pathetic emotional plug in a movie that was devoid of any real meaning. I am disappointed that there are movies like this, ruining actor's like Christopher Walken's good name. I could barely sit through it.\">\n",
      "label=<tf.Tensor: shape=(), dtype=int64, numpy=0>\n",
      "text=<tf.Tensor: shape=(), dtype=string, numpy=b'I have been known to fall asleep during films, but this is usually due to a combination of things including, really tired, being warm and comfortable on the sette and having just eaten a lot. However on this occasion I fell asleep because the film was rubbish. The plot development was constant. Constantly slow and boring. Things seemed to happen, but with no explanation of what was causing them or why. I admit, I may have missed part of the film, but i watched the majority of it and everything just seemed to happen of its own accord without any real concern for anything else. I cant recommend this film at all.'>\n",
      "label=<tf.Tensor: shape=(), dtype=int64, numpy=0>\n"
     ]
    },
    {
     "name": "stderr",
     "output_type": "stream",
     "text": [
      "2024-04-30 14:59:31.144356: W tensorflow/core/kernels/data/cache_dataset_ops.cc:858] The calling iterator did not fully read the dataset being cached. In order to avoid unexpected truncation of the dataset, the partially cached contents of the dataset  will be discarded. This can happen if you have an input pipeline similar to `dataset.cache().take(k).repeat()`. You should use `dataset.take(k).cache().repeat()` instead.\n",
      "2024-04-30 14:59:31.144612: W tensorflow/core/framework/local_rendezvous.cc:404] Local rendezvous is aborting with status: OUT_OF_RANGE: End of sequence\n"
     ]
    }
   ],
   "source": [
    "## look at some examples\n",
    "for example in dataset['train'].take(2):\n",
    "  text, label = example\n",
    "  print(f'{text=}')\n",
    "  print(f'{label=}')"
   ]
  },
  {
   "cell_type": "code",
   "execution_count": 22,
   "metadata": {},
   "outputs": [
    {
     "name": "stdout",
     "output_type": "stream",
     "text": [
      "info.features=FeaturesDict({\n",
      "    'label': ClassLabel(shape=(), dtype=int64, num_classes=2),\n",
      "    'text': Text(shape=(), dtype=string),\n",
      "})\n"
     ]
    }
   ],
   "source": [
    "print(f'{info.features=}')"
   ]
  },
  {
   "cell_type": "markdown",
   "metadata": {},
   "source": [
    "### How to build a custom dataset"
   ]
  },
  {
   "cell_type": "code",
   "execution_count": 20,
   "metadata": {},
   "outputs": [],
   "source": [
    "# create a custom dataset from scratch\n",
    "sentences = [\n",
    "    'This is a positive sentence',\n",
    "    'This is a negative sentence',\n",
    "    'This is a neutral sentence'\n",
    "]\n",
    "\n",
    "labels = [1, 0, 2]\n",
    "\n",
    "assert len(sentences) == len(labels), 'The dimensions of the sentences and labels do not match'\n",
    "\n",
    "dataset = tf.data.Dataset.from_tensor_slices((sentences, labels))"
   ]
  },
  {
   "cell_type": "code",
   "execution_count": 21,
   "metadata": {},
   "outputs": [
    {
     "name": "stdout",
     "output_type": "stream",
     "text": [
      "text=<tf.Tensor: shape=(), dtype=string, numpy=b'This is a positive sentence'>\n",
      "label=<tf.Tensor: shape=(), dtype=int32, numpy=1>\n",
      "text=<tf.Tensor: shape=(), dtype=string, numpy=b'This is a negative sentence'>\n",
      "label=<tf.Tensor: shape=(), dtype=int32, numpy=0>\n",
      "text=<tf.Tensor: shape=(), dtype=string, numpy=b'This is a neutral sentence'>\n",
      "label=<tf.Tensor: shape=(), dtype=int32, numpy=2>\n"
     ]
    },
    {
     "name": "stderr",
     "output_type": "stream",
     "text": [
      "2024-04-30 15:05:39.067616: W tensorflow/core/framework/local_rendezvous.cc:404] Local rendezvous is aborting with status: OUT_OF_RANGE: End of sequence\n"
     ]
    }
   ],
   "source": [
    "for example in dataset.take(3):\n",
    "    text, label = example\n",
    "    print(f'{text=}')\n",
    "    print(f'{label=}')"
   ]
  },
  {
   "cell_type": "code",
   "execution_count": 24,
   "metadata": {},
   "outputs": [],
   "source": [
    "## Tokenize the sentences\n",
    "from tensorflow.keras.layers import TextVectorization\n",
    "\n",
    "text_vectorizer = TextVectorization(max_tokens=10000, output_sequence_length=5)\n",
    "\n",
    "text_vectorizer.adapt(sentences)"
   ]
  },
  {
   "cell_type": "code",
   "execution_count": 25,
   "metadata": {},
   "outputs": [
    {
     "name": "stdout",
     "output_type": "stream",
     "text": [
      "example_sentence='This is a negative sentence'\n",
      "text_vectorizer([example_sentence])=<tf.Tensor: shape=(1, 5), dtype=int64, numpy=array([[2, 4, 5, 8, 3]])>\n",
      "text_vectorizer.get_vocabulary()[:5]=['', '[UNK]', 'this', 'sentence', 'is']\n"
     ]
    }
   ],
   "source": [
    "import random\n",
    "example_sentence = random.choice(sentences)\n",
    "print(f'{example_sentence=}')\n",
    "print(f'{text_vectorizer([example_sentence])=}')\n",
    "print(f'{text_vectorizer.get_vocabulary()[:5]=}')"
   ]
  },
  {
   "cell_type": "code",
   "execution_count": 26,
   "metadata": {},
   "outputs": [
    {
     "data": {
      "text/plain": [
       "{'name': 'text_vectorization',\n",
       " 'trainable': True,\n",
       " 'dtype': 'float32',\n",
       " 'max_tokens': 10000,\n",
       " 'standardize': 'lower_and_strip_punctuation',\n",
       " 'split': 'whitespace',\n",
       " 'ngrams': None,\n",
       " 'output_mode': 'int',\n",
       " 'output_sequence_length': 5,\n",
       " 'pad_to_max_tokens': False,\n",
       " 'sparse': False,\n",
       " 'ragged': False,\n",
       " 'vocabulary': None,\n",
       " 'idf_weights': None,\n",
       " 'encoding': 'utf-8',\n",
       " 'vocabulary_size': 9}"
      ]
     },
     "execution_count": 26,
     "metadata": {},
     "output_type": "execute_result"
    }
   ],
   "source": [
    "text_vectorizer.get_config()"
   ]
  },
  {
   "cell_type": "code",
   "execution_count": 28,
   "metadata": {},
   "outputs": [
    {
     "name": "stdout",
     "output_type": "stream",
     "text": [
      "Sentence before vectorization: This is a negative sentence, length: 27\n",
      "Sentence after vectorization: [[2 4 5 8 3]], shape: (1, 5)\n",
      "Sentence after embedding: [[[ 0.04026623 -0.03034171  0.01767038  0.00791168  0.02143748\n",
      "   -0.03262838  0.00373763 -0.03083758  0.00420485  0.02143753\n",
      "    0.0067477   0.04109366 -0.02439394 -0.03621243  0.0085892\n",
      "    0.02006624 -0.01461221  0.03531739  0.02747994  0.00864632\n",
      "   -0.03965163 -0.02802268 -0.04038435  0.02284969 -0.00252801\n",
      "    0.00727002  0.03268513  0.04425709]\n",
      "  [-0.02892669 -0.04278717  0.00684432 -0.0057906  -0.00945543\n",
      "    0.02323644 -0.00010985 -0.02145585 -0.03023958  0.00703824\n",
      "   -0.04264001  0.00870859  0.03945338 -0.04450097 -0.0049087\n",
      "    0.01590634 -0.01702728  0.02580483  0.01759857  0.03590829\n",
      "   -0.02435064 -0.04636157 -0.04112358 -0.03153938  0.04775974\n",
      "    0.03534048 -0.03626079  0.03865022]\n",
      "  [ 0.01169432  0.00275372 -0.02713203 -0.04588832  0.00971036\n",
      "    0.03649792  0.0355723  -0.04311568 -0.00829047  0.03936441\n",
      "   -0.02288725  0.03167721 -0.02016859  0.00515065 -0.01822092\n",
      "    0.03964201 -0.01178168  0.04813221  0.01932297  0.01180196\n",
      "   -0.00155061  0.03640821 -0.00806173  0.0050105  -0.02406958\n",
      "    0.02358388 -0.01139944 -0.04675425]\n",
      "  [ 0.00125208  0.0236076  -0.02124513  0.03727051  0.04149071\n",
      "    0.02138393  0.01198696 -0.01679029  0.03208638 -0.02407775\n",
      "   -0.03412652 -0.03520964 -0.00103947  0.01919262  0.02617732\n",
      "   -0.01512424 -0.02238672  0.02621545  0.03375535  0.0210204\n",
      "   -0.02273645 -0.02674062 -0.01355518  0.00806636 -0.01073577\n",
      "   -0.01894517 -0.00926159  0.0074315 ]\n",
      "  [-0.00241783  0.04374978 -0.0220504  -0.02560271  0.00176417\n",
      "    0.04911072  0.04561262 -0.03035121 -0.04474774 -0.02241563\n",
      "    0.03681555 -0.03052167 -0.02194394 -0.04557389 -0.01423692\n",
      "   -0.0344159  -0.02383915  0.02427754  0.04237198 -0.04160634\n",
      "    0.00434787 -0.04570244 -0.03158887 -0.03780838 -0.04447524\n",
      "    0.03697509 -0.01821011 -0.02043009]]], shape: (1, 5, 28)\n"
     ]
    }
   ],
   "source": [
    "embedding_layer = tf.keras.layers.Embedding(input_dim=10000,\n",
    "                                            output_dim=28,\n",
    "                                            mask_zero=True,\n",
    "                                            name='embedding_layer'\n",
    "                                            )\n",
    "\n",
    "print(f'Sentence before vectorization: {example_sentence}, length: {len(example_sentence)}')\n",
    "vectorized_sentence = text_vectorizer([example_sentence])\n",
    "print(f'Sentence after vectorization: {vectorized_sentence}, shape: {vectorized_sentence.shape}')\n",
    "embedded_sentence = embedding_layer(vectorized_sentence)\n",
    "print(f'Sentence after embedding: {embedded_sentence}, shape: {embedded_sentence.shape}')"
   ]
  },
  {
   "cell_type": "code",
   "execution_count": 29,
   "metadata": {},
   "outputs": [],
   "source": [
    "train_dataset = tf.data.Dataset.from_tensor_slices((sentences, labels))\n",
    "\n",
    "train_dataset = train_dataset.batch(32).prefetch(tf.data.AUTOTUNE)"
   ]
  }
 ],
 "metadata": {
  "kernelspec": {
   "display_name": "fed_papers",
   "language": "python",
   "name": "python3"
  },
  "language_info": {
   "codemirror_mode": {
    "name": "ipython",
    "version": 3
   },
   "file_extension": ".py",
   "mimetype": "text/x-python",
   "name": "python",
   "nbconvert_exporter": "python",
   "pygments_lexer": "ipython3",
   "version": "3.10.14"
  }
 },
 "nbformat": 4,
 "nbformat_minor": 2
}
