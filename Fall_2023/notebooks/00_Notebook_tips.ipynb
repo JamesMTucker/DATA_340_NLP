{
 "cells": [
  {
   "cell_type": "markdown",
   "metadata": {},
   "source": [
    "[![Open in Colab](https://colab.research.google.com/assets/colab-badge.svg)](https://colab.research.google.com/github/JamesMTucker/DATA_340_NLP/blob/master/Fall_2023/00_Notebook_tips.ipynb)"
   ]
  },
  {
   "cell_type": "markdown",
   "metadata": {},
   "source": [
    "# Notebook tips and tricks\n",
    "\n",
    "## Table of Contents\n",
    "\n",
    "1. [Keyboard shortcuts](#Keyboard-shortcuts)\n",
    "2. [Magic commands](#Magic-commands)\n",
    "3. [Markdown](#Markdown)\n",
    "4. [LaTeX](#LaTeX)\n",
    "5. [Images](#Images)\n",
    "6. [Links](#Links)\n",
    "7. [Tables](#Tables)\n",
    "8. [Code](#Code)\n",
    "9. [HTML](#HTML)\n",
    "10. [JavaScript](#JavaScript)\n",
    "11. [Python](#Python)"
   ]
  },
  {
   "cell_type": "markdown",
   "metadata": {},
   "source": [
    "## Keyboard shortcuts\n",
    "\n",
    "- `Ctrl + Enter`: Run cell\n",
    "- `Shift + Enter`: Run cell and move to next cell\n",
    "- `Alt + Enter`: Run cell and insert new cell below\n",
    "- `Ctrl + S`: Save notebook\n",
    "- `Ctrl + Shift + P`: Open command palette\n",
    "- `Ctrl + Shift + -`: Split cell at cursor\n",
    "- `Ctrl + Shift + F`: Find and replace"
   ]
  },
  {
   "cell_type": "markdown",
   "metadata": {},
   "source": [
    "## Magic commands\n",
    "\n",
    "- `%`: Line magic\n",
    "- `%%`: Cell magic\n",
    "- `%lsmagic`: List all magic commands\n",
    "- `%matplotlib inline`: Display matplotlib plots inline\n",
    "- `%time`: Time execution of a single line\n",
    "- `%timeit`: Time execution of a single line over multiple runs\n",
    "- `%prun`: Run code with the profiler\n",
    "- `%load`: Load code into cell\n",
    "- `%run`: Run code from file\n",
    "- `%store`: Pass variables between notebooks\n",
    "- `%who`: List all variables in the global scope\n",
    "\n",
    "An exclamation point (`!`) can be used to run shell commands."
   ]
  },
  {
   "cell_type": "code",
   "execution_count": null,
   "metadata": {},
   "outputs": [],
   "source": [
    "%who"
   ]
  },
  {
   "cell_type": "code",
   "execution_count": null,
   "metadata": {},
   "outputs": [],
   "source": [
    "%time"
   ]
  },
  {
   "cell_type": "code",
   "execution_count": null,
   "metadata": {},
   "outputs": [],
   "source": [
    "!ls"
   ]
  },
  {
   "cell_type": "code",
   "execution_count": null,
   "metadata": {},
   "outputs": [],
   "source": [
    "!pwd"
   ]
  },
  {
   "cell_type": "markdown",
   "metadata": {},
   "source": [
    "## Markdown\n",
    "\n",
    "Markdown is a lightweight markup language that can be used to format text in notebooks. It is used in text cells and can be used to format text, create lists, and more. For more information, see the [Markdown Guide](https://www.markdownguide.org/). In addition Markdown, you can use some HTML and JavaScript in text cells. See below."
   ]
  },
  {
   "cell_type": "markdown",
   "metadata": {},
   "source": [
    "## LaTeX\n",
    "\n",
    "Please use LaTeX to format mathematical expressions. For more information, see the [LaTeX WikiBook](https://en.wikibooks.org/wiki/LaTeX/Mathematics).\n",
    "\n",
    "Inline: $x^2 + y^2 = z^2$\n",
    "\n",
    "Block:\n",
    "$$x^2 + y^2 = z^2$$"
   ]
  },
  {
   "cell_type": "markdown",
   "metadata": {},
   "source": [
    "## Images\n",
    "\n",
    "You can import images from either a local file:\n",
    "\n",
    "![Python logo](../../syllabus/imgs/wm_vertical_stacked_full_color.png)\n",
    "\n",
    "Or from a URL:\n",
    "\n",
    "![Python logo](https://www.python.org/static/community_logos/python-logo-master-v3-TM.png)"
   ]
  },
  {
   "cell_type": "markdown",
   "metadata": {},
   "source": [
    "## Links\n",
    "\n",
    "Please use links to reference external resources. For more information, see the [Markdown Guide](https://www.markdownguide.org/)."
   ]
  },
  {
   "cell_type": "markdown",
   "metadata": {},
   "source": [
    "## Tables\n",
    "\n",
    "| Name | Age | Favorite Color |\n",
    "|------|-----|----------------|\n",
    "| Alice | 20 | Blue |\n",
    "| Bob | 21 | Red |\n",
    "| Charlie | 22 | Green |\n",
    "\n",
    "Tip: use Pandas to_markdown to automate table creation.\n",
    "\n",
    "```python\n",
    "import pandas as pd\n",
    "\n",
    "df = pd.DataFrame({\n",
    "    'Name': ['Alice', 'Bob', 'Charlie'],\n",
    "    'Age': [20, 21, 22],\n",
    "    'Favorite Color': ['Blue', 'Red', 'Green']\n",
    "})\n",
    "\n",
    "print(df.to_markdown())\n",
    "```"
   ]
  },
  {
   "cell_type": "markdown",
   "metadata": {},
   "source": [
    "## Code\n",
    "\n",
    "You can use code blocks to display code. Try to keep the structure of code blocks consistent in terms of what code is in each code block. There is not a hard rule on what should go in what code block but there are some general guidelines:\n",
    "\n",
    "- Imports should be in their own code block\n",
    "- Functions should be in their own code block\n",
    "- Code that is related should be in the same code block\n",
    "- Classes should be in their own code block"
   ]
  },
  {
   "cell_type": "markdown",
   "metadata": {},
   "source": [
    "## HTML\n",
    "\n",
    "You can use HTML in the text cells with the `%%html` magic command.\n",
    "\n",
    "```html\n",
    "\n",
    "<h1>Heading</h1>\n",
    "<p>Paragraph</p>\n",
    "```"
   ]
  },
  {
   "cell_type": "markdown",
   "metadata": {},
   "source": [
    "%%html\n",
    "<!-- generate basic html doc -->\n",
    "<!DOCTYPE html>\n",
    "<html>\n",
    "<head>\n",
    "<title>Page Title</title>\n",
    "</head>\n",
    "<body>\n",
    "<div class=\"intro\">This is an HTML doc</div>\n",
    "</body>\n",
    "</html>"
   ]
  },
  {
   "cell_type": "markdown",
   "metadata": {},
   "source": [
    "## JavaScript\n",
    "\n",
    "You can use JavaScript in the text cells with the `%%javascript` magic command.\n",
    "\n",
    "```javascript\n",
    "\n",
    "console.log('Hello, world!');\n",
    "```"
   ]
  },
  {
   "cell_type": "code",
   "execution_count": null,
   "metadata": {},
   "outputs": [],
   "source": [
    "# Need to have Node.js installed\n",
    "\n",
    "from IPython.display import display, HTML, Javascript\n",
    "\n",
    "javascript_code = \"\"\"\n",
    "require.config({\n",
    "    paths: {\n",
    "        d3: \"https://d3js.org/d3.v5.min\",\n",
    "        venn: \"https://cdn.rawgit.com/benfred/venn.js/master/venn\"\n",
    "    }\n",
    "});\n",
    "\n",
    "require([\"d3\", \"venn\"], function(d3, venn) {\n",
    "    var div = document.createElement(\"div\");\n",
    "    document.body.appendChild(div);\n",
    "    \n",
    "    var sets = [\n",
    "        {sets: ['A'], size: 10},\n",
    "        {sets: ['B'], size: 10},\n",
    "        {sets: ['A', 'B'], size: 2}\n",
    "    ];\n",
    "    \n",
    "    var chart = venn.VennDiagram();\n",
    "    d3.select(div).datum(sets).call(chart);\n",
    "});\n",
    "\"\"\"\n",
    "\n",
    "display(Javascript(javascript_code))"
   ]
  },
  {
   "cell_type": "markdown",
   "metadata": {},
   "source": [
    "## Python\n",
    "\n",
    "Some tips working with code in Python notebooks.\n",
    "\n",
    "* To access code documentation, use `?` or `??` after a function or class name.\n",
    "* To access code documentation in a separate window, use `shift + tab` after a function or class name.\n",
    "\n",
    "\n",
    "To dig into some of the more advanced features of Jupyter notebooks, check out the [Jupyter Notebook Tips, Tricks, and Shortcuts](https://www.dataquest.io/blog/jupyter-notebook-tips-tricks-shortcuts/) blog post."
   ]
  },
  {
   "cell_type": "code",
   "execution_count": null,
   "metadata": {},
   "outputs": [],
   "source": [
    "import math\n",
    "\n",
    "math.acosh??"
   ]
  },
  {
   "cell_type": "code",
   "execution_count": null,
   "metadata": {},
   "outputs": [],
   "source": [
    "math.acos?"
   ]
  },
  {
   "cell_type": "code",
   "execution_count": null,
   "metadata": {},
   "outputs": [],
   "source": [
    "# Another tip: use the `dir` function to see what methods are available on an object\n",
    "\n",
    "math_funcs = [func for func in dir(math)]\n",
    "\n",
    "\" \".join(math_funcs)"
   ]
  },
  {
   "cell_type": "code",
   "execution_count": null,
   "metadata": {},
   "outputs": [],
   "source": [
    "math.floor?"
   ]
  },
  {
   "cell_type": "markdown",
   "metadata": {},
   "source": [
    "## CPU and GPU info\n",
    "\n",
    "Google Colab offers its users access to a GPU. To access the GPU, you need to set your runtime type to GPU:\n",
    "\n",
    "`Runtime -> Change runtime type -> Hardware accelerator -> GPU`"
   ]
  },
  {
   "cell_type": "code",
   "execution_count": null,
   "metadata": {},
   "outputs": [],
   "source": [
    "!nvidia-smi"
   ]
  },
  {
   "cell_type": "code",
   "execution_count": null,
   "metadata": {},
   "outputs": [],
   "source": [
    "# check preinstall packages\n",
    "!pip list"
   ]
  },
  {
   "cell_type": "markdown",
   "metadata": {},
   "source": [
    "[Notebook 01_Properties_of_Langauge.ipynb](01_Properties_of_Langauge.ipynb)"
   ]
  }
 ],
 "metadata": {
  "kernelspec": {
   "display_name": "pytorch",
   "language": "python",
   "name": "python3"
  },
  "language_info": {
   "codemirror_mode": {
    "name": "ipython",
    "version": 3
   },
   "file_extension": ".py",
   "mimetype": "text/x-python",
   "name": "python",
   "nbconvert_exporter": "python",
   "pygments_lexer": "ipython3",
   "version": "3.10.10"
  },
  "orig_nbformat": 4
 },
 "nbformat": 4,
 "nbformat_minor": 2
}
