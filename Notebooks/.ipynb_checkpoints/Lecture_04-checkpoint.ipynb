{
 "cells": [
  {
   "cell_type": "markdown",
   "id": "a300f09b-e852-48a1-8233-5ebcfc2158c3",
   "metadata": {
    "jp-MarkdownHeadingCollapsed": true,
    "tags": []
   },
   "source": [
    "# Lecture 04: Properties of Language, Statistics, Information Theory"
   ]
  },
  {
   "cell_type": "markdown",
   "id": "39532e7b-a1cb-4535-acdb-af74909fadf2",
   "metadata": {},
   "source": [
    "1. Last week (Linguistic background and terminology, spacy, depedency trees or syntactic structure of languages)\n",
    "2. This week:\n",
    "    * Projects (Research ideas and GitHub README assignment)\n",
    "    * Statistical properties of language\n",
    "    * Explore some underlying assumptions about ideas and language\n",
    "    * Discuss Information Theory and its use in NLP"
   ]
  },
  {
   "cell_type": "markdown",
   "id": "6699a87f-60d2-4cdc-ade5-24a68611bd48",
   "metadata": {
    "jp-MarkdownHeadingCollapsed": true,
    "tags": []
   },
   "source": [
    "# Projects"
   ]
  },
  {
   "cell_type": "markdown",
   "id": "301f8e8b-90d9-41ef-b0a4-e2b5ca610d5d",
   "metadata": {},
   "source": [
    "1. Proposals are marked \n",
    "2. All the topics look good and would make for a good project to publish on GitHub\n",
    "3. All projects involve different NLP tasks (Named Entity Recognition, Information Extraction, Classification, etc.)"
   ]
  },
  {
   "cell_type": "markdown",
   "id": "055be336-7d8c-40b7-a0b1-1b28c59eba89",
   "metadata": {
    "tags": []
   },
   "source": [
    "# Properties of Language"
   ]
  },
  {
   "cell_type": "markdown",
   "id": "0965dd51-5408-4fb5-a74b-5a795a1a554e",
   "metadata": {},
   "source": [
    "## Our shared humanity?"
   ]
  },
  {
   "cell_type": "markdown",
   "id": "8c192913-605a-4ec1-9e6c-abc28f8962c3",
   "metadata": {},
   "source": [
    "https://www.ncbi.nlm.nih.gov/pmc/articles/PMC3049087/\n",
    "\n",
    "| Article | Pubmed Link |\n",
    "| ---- | ---- |\n",
    "| ![17_Languages](./images/figure_1.png) | ![17_Languages](./images/17_languages_qr.png) |"
   ]
  },
  {
   "cell_type": "markdown",
   "id": "d793f012-cda7-4e96-962f-82825c5ceb44",
   "metadata": {},
   "source": [
    "> We studied the frequencies of use in each of these languages for the 200 words that make up the Swadesh fundamental vocabulary word list. (p. 1102)\n",
    "\n",
    "> Our results point to a surprising regularity in the way that human speakers use language. It might be that the way we use language and its structure means that some words inevitably will be used more than others.\n",
    "\n",
    "* [Swadesh terms](https://en.wikipedia.org/wiki/Swadesh_list)\n",
    "* [Lexicostatistics](https://en.wikipedia.org/wiki/Lexicostatistics) (comparative linguistics - lexical cognates between languages)\n"
   ]
  },
  {
   "cell_type": "markdown",
   "id": "7d8bb299-e587-4c7c-9d77-ef98629efc71",
   "metadata": {
    "tags": []
   },
   "source": [
    "### Similarities of Swadesh term usage in different languages"
   ]
  },
  {
   "cell_type": "markdown",
   "id": "0d55fa8d-5efb-4545-92a4-f4a7505a1531",
   "metadata": {},
   "source": [
    "<center><img src=\"./images/figure_3.png\"  width=\"800\" height=\"400\"></center>"
   ]
  },
  {
   "cell_type": "code",
   "execution_count": null,
   "id": "76e0b018-bd28-4e9b-9759-ac1476f60d3e",
   "metadata": {},
   "outputs": [],
   "source": []
  }
 ],
 "metadata": {
  "kernelspec": {
   "display_name": "Python 3 (ipykernel)",
   "language": "python",
   "name": "python3"
  },
  "language_info": {
   "codemirror_mode": {
    "name": "ipython",
    "version": 3
   },
   "file_extension": ".py",
   "mimetype": "text/x-python",
   "name": "python",
   "nbconvert_exporter": "python",
   "pygments_lexer": "ipython3",
   "version": "3.10.6"
  },
  "toc-autonumbering": true
 },
 "nbformat": 4,
 "nbformat_minor": 5
}
