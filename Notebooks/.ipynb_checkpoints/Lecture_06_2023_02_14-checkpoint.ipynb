{
 "cells": [
  {
   "cell_type": "markdown",
   "id": "c80da472-a6ab-4b9e-9b1b-659b32494d73",
   "metadata": {},
   "source": [
    "# Lecture 06: Statistical Analysis"
   ]
  },
  {
   "cell_type": "markdown",
   "id": "eb7ed9e0-61ed-40ae-bafa-c3131209bff8",
   "metadata": {},
   "source": [
    "Objective:\n",
    "\n",
    "* Upcoming Assignments\n",
    "* Review Shannon's Entropy (Scipy package)\n",
    "* Term-frequency inverse document frequency\n",
    "* Pointwise Mutual Information (PMI)\n",
    "* GitHub Questions"
   ]
  },
  {
   "cell_type": "markdown",
   "id": "f177095b-fb03-4ddc-af7b-663a8a5baa6a",
   "metadata": {},
   "source": [
    "## Lecture 05 Notebook\n",
    "\n",
    "[Open](Lecture_05_2023_02_09.ipynb#Shannon's-Entropy)"
   ]
  },
  {
   "cell_type": "code",
   "execution_count": null,
   "id": "27a7342c-d9cf-4dbe-b6b0-ee0be9400f35",
   "metadata": {},
   "outputs": [],
   "source": []
  }
 ],
 "metadata": {
  "kernelspec": {
   "display_name": "Python 3 (ipykernel)",
   "language": "python",
   "name": "python3"
  },
  "language_info": {
   "codemirror_mode": {
    "name": "ipython",
    "version": 3
   },
   "file_extension": ".py",
   "mimetype": "text/x-python",
   "name": "python",
   "nbconvert_exporter": "python",
   "pygments_lexer": "ipython3",
   "version": "3.10.6"
  }
 },
 "nbformat": 4,
 "nbformat_minor": 5
}
