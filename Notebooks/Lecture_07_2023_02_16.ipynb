{
 "cells": [
  {
   "attachments": {},
   "cell_type": "markdown",
   "metadata": {},
   "source": [
    "[![Open in Colab](https://colab.research.google.com/assets/colab-badge.svg)](https://colab.research.google.com/github/JamesMTucker/DATA_340_NLP/blob/master/Notebooks/Lecture_07_2023_02_16.ipynb)"
   ]
  },
  {
   "attachments": {},
   "cell_type": "markdown",
   "metadata": {},
   "source": [
    "# Lecture 07: Regular Expressions and Webscraping\n",
    "\n",
    "## Lecture Overview\n",
    "\n",
    "* Regular Expressions\n",
    "* Webscraping\n",
    "* API Usage\n",
    "* Dataset Creation\n",
    "* Assignment 2 and 3"
   ]
  },
  {
   "attachments": {},
   "cell_type": "markdown",
   "metadata": {},
   "source": [
    "<center><img src=\"https://imgs.xkcd.com/comics/regular_expressions.png\"  width=\"600\" height=\"400\"></center>"
   ]
  },
  {
   "attachments": {},
   "cell_type": "markdown",
   "metadata": {},
   "source": [
    "## Regular Expressions: Taking quasi-structured data and making it structured"
   ]
  },
  {
   "attachments": {},
   "cell_type": "markdown",
   "metadata": {},
   "source": [
    "### What are Regular Expressions?\n",
    "\n",
    "Regular expressions are a way to match patterns in text in the data type of a string. It takes some time to get used to reading regexes, but they are very powerful and can be used to extract pertinent information, clean up messy data, and/or format data for downstream analyses."
   ]
  },
  {
   "attachments": {},
   "cell_type": "markdown",
   "metadata": {},
   "source": [
    "### A simple example\n",
    "\n",
    "Let's say we have a string that contains a date in the format of `YYYY-MM-DD`. We want to extract the year, month, and day from this string. We can do this with the following regex:"
   ]
  },
  {
   "cell_type": "code",
   "execution_count": 1,
   "metadata": {},
   "outputs": [
    {
     "name": "stdout",
     "output_type": "stream",
     "text": [
      "2020 20 02\n"
     ]
    }
   ],
   "source": [
    "import re\n",
    "\n",
    "date = \"2020-02-16\"\n",
    "\n",
    "# Extract the year, month, and day from the date string\n",
    "year = re.findall(r\"\\d{4}\", date)[0]\n",
    "month = re.findall(r\"\\d{2}\", date)[1]\n",
    "day = re.findall(r\"\\d{2}\", date)[2]\n",
    "\n",
    "print(year, month, day)"
   ]
  },
  {
   "attachments": {},
   "cell_type": "markdown",
   "metadata": {},
   "source": [
    "Notice that our expression is written relative to the string from which we want to extract. If our data was more complex, we would need to use more complex regexes. For example, if we wanted to extract the year, month, and day from a string that contained multiple dates, we would need to use a regex that looks like this: \n"
   ]
  },
  {
   "cell_type": "code",
   "execution_count": 2,
   "metadata": {},
   "outputs": [
    {
     "name": "stdout",
     "output_type": "stream",
     "text": [
      "['2020', '9018', '2020']\n",
      "['20', '20', '02', '16', '49', '30', '90', '18', '20', '20', '20', '02', '17']\n",
      "['20', '20', '02', '16', '49', '30', '90', '18', '20', '20', '20', '02', '17']\n"
     ]
    }
   ],
   "source": [
    "conversation_023 = \"\"\"\n",
    "On 2020-02-16, I had a conversation with my friend.\n",
    "She was visiting family in Germany, so I had a hard time understanding the German phone number +49 30 901820.\n",
    "I also had a conversation with my mother on 2020-02-17.\n",
    "\"\"\"\n",
    "\n",
    "# Extract the year, month, and day from the date string\n",
    "year = re.findall(r\"\\d{4}\", conversation_023)\n",
    "month = re.findall(r\"\\d{2}\", conversation_023)\n",
    "day = re.findall(r\"\\d{2}\", conversation_023)\n",
    "\n",
    "print(year, month, day, sep = \"\\n\")"
   ]
  },
  {
   "attachments": {},
   "cell_type": "markdown",
   "metadata": {},
   "source": [
    "So we need to have some familarity with our data to know how simple or complex our regex needs to be. Regexes can be very complex, as we can see here:"
   ]
  },
  {
   "attachments": {},
   "cell_type": "markdown",
   "metadata": {},
   "source": [
    "```Perl\n",
    "\n",
    "my @matches;\n",
    "\n",
    "say \"Matched!\" if m/\n",
    "    (?(DEFINE)\n",
    "        (?<QUOTE_MARK> ['\"])\n",
    "        (?<NOT_QUOTE_MARK> [^'\"])\n",
    "        (?<QUOTE>)\n",
    "            (\n",
    "                (?<quote>(?&QUOTE_MARK))\n",
    "                (?:\n",
    "                    (?&NOT_QUOTE_MARK)++\n",
    "                    |\n",
    "                    (?&QUOTE_MARK)\n",
    "            )*\n",
    "            \\g{quote}\n",
    "        )\n",
    "        (?{ @{$^R}, = $^N}})\n",
    "    )\n",
    "    (?&QUOTE) (?( @matches = @{$^R} ) )\n",
    "    /x;\n",
    "```\n",
    "\n",
    "Example from Brain D. Foy's [Mastering Regular Expressions](https://www.oreilly.com/library/view/mastering-regular-expressions/0596528124/)"
   ]
  },
  {
   "attachments": {},
   "cell_type": "markdown",
   "metadata": {},
   "source": [
    "\n",
    "### Regex syntax\n",
    "\n",
    "Regexes are written in a special syntax that is different from the syntax of Python. The syntax is as follows:\n",
    "\n",
    "* `.` matches any character\n",
    "* `^` matches the beginning of the string\n",
    "* `$` matches the end of the string\n",
    "* `*` matches zero or more of the preceding character\n",
    "* `+` matches one or more of the preceding character\n",
    "* `?` matches zero or one of the preceding character\n",
    "* `{n}` matches exactly n of the preceding character\n",
    "* `{n,}` matches n or more of the preceding character\n",
    "* `{,n}` matches 0 to n of the preceding character\n",
    "* `{m,n}` matches at least m and at most n of the preceding character\n",
    "* `[abc]` matches any character in the brackets\n",
    "* `[^abc]` matches any character not in the brackets\n",
    "* `|` matches either the preceding or the following character\n",
    "* `()` groups the preceding match\n",
    "\n",
    "### Regex functions\n",
    "\n",
    "There are a few functions in Python that can be used to work with regexes. The most common are `re.search()` and `re.findall()`. `re.search()` will return the first match of a regex in a string. `re.findall()` will return all matches of a regex in a string. Let's look at an example of each using some sample data from the web:"
   ]
  },
  {
   "cell_type": "code",
   "execution_count": 3,
   "metadata": {},
   "outputs": [
    {
     "name": "stdout",
     "output_type": "stream",
     "text": [
      "['ISBN: 0-345-24223-8']\n"
     ]
    }
   ],
   "source": [
    "import re\n",
    "import requests\n",
    "from bs4 import BeautifulSoup\n",
    "\n",
    "# Get the HTML from the webpage\n",
    "url = 'https://en.wikipedia.org/wiki/ISBN'\n",
    "response = requests.get(url)\n",
    "html = response.text\n",
    "\n",
    "# Use BeautifulSoup to parse the HTML\n",
    "soup = BeautifulSoup(html, 'lxml')\n",
    "\n",
    "# Get the text from the HTML\n",
    "text = soup.get_text()\n",
    "\n",
    "# Use regex to find all the ISBNs in the text\n",
    "regex = r'ISBN: [0-9-]+'\n",
    "matches = re.findall(regex, text)\n",
    "print(matches)"
   ]
  },
  {
   "attachments": {},
   "cell_type": "markdown",
   "metadata": {},
   "source": [
    "Let'a take a look at this in more detail:"
   ]
  },
  {
   "attachments": {},
   "cell_type": "markdown",
   "metadata": {},
   "source": [
    "> An SBN may be converted to an ISBN by prefixing the digit \"0\". For example, the second edition of Mr. J. G. Reeder Returns, published by Hodder in 1965, has \"SBN 340 01381 8\", where \"340\" indicates the publisher, \"01381\" is the serial number assigned by the publisher, and \"8\" is the check digit. By prefixing a zero, this can be converted to ISBN 0-340-01381-8; the check digit does not need to be re-calculated. Some publishers, such as Ballantine Books, would sometimes use 12-digit SBNs where the last three digits indicated the price of the book;[12] for example, Woodstock Handmade Houses had a 12-digit Standard Book Number of 345-24223-8-595 (valid SBN: 345-24223-8, ISBN: 0-345-24223-8),[13] and it cost US$5.95.[14]\n",
    "\n",
    "\n",
    "We can examine how this regex is working with the wonderful tool [Regex101](https://regex101.com/). And it's always best practice to consult the [Python documentation](https://docs.python.org/3/library/re.html) for more information about the `re` module."
   ]
  },
  {
   "attachments": {},
   "cell_type": "markdown",
   "metadata": {},
   "source": [
    "## Web scraping: legalized data theft"
   ]
  },
  {
   "attachments": {},
   "cell_type": "markdown",
   "metadata": {},
   "source": [
    "\"There is no glory in data.\" Something said to me by my MA thesis advisor."
   ]
  },
  {
   "attachments": {},
   "cell_type": "markdown",
   "metadata": {},
   "source": [
    "<center><img src=\"./images/dss_abegg.png\" height=\"400\", width=\"800\"></img></center>"
   ]
  },
  {
   "attachments": {},
   "cell_type": "markdown",
   "metadata": {},
   "source": [
    "Whereas the process of web scraping is not illegal, it is often frowned upon by the websites that you are scraping. It is important to be respectful of the websites that you are scraping and to make sure that you are not violating any terms of service. In addition, some websites will block your IP address if they want to prevent you from scraping their data. Web developers and web technologies can also be used to deter you from quick access from their data. For more information, see this [Join TechCrunch article](https://techcrunch.com/2022/04/18/web-scraping-legal-court/?guccounter=1&guce_referrer=aHR0cHM6Ly93d3cuZ29vZ2xlLmNvbS8&guce_referrer_sig=AQAAANzYrguMdHcwNL6AKW_UCTQORBn4CH1Idbtrp6YD-aNUv_Basl5x3ZyIgM54Z5bTbzuImyx5P0biFVkhswFoUQjUTRE-HDCFd_KOSGP1UT15q2N9JxZRYXBhjOkXJ1r7JDRlwm0fM4JVOeeJv6UfeuJGV3LFlKSn-UXMDWfP667p)."
   ]
  },
  {
   "attachments": {},
   "cell_type": "markdown",
   "metadata": {},
   "source": [
    "### Simple Scraping\n",
    "\n",
    "Simple scraping is extracting data from websites that do not use the more advanced web technologies, such as JavaScript, databases, and/or APIs. These pages are often static webpages. We can use simple methods to extract such kind of data.\n",
    "\n",
    "For example, we can use the `pandas` module to read in a table from a website. Let's look at an example:"
   ]
  },
  {
   "cell_type": "code",
   "execution_count": 4,
   "metadata": {},
   "outputs": [
    {
     "data": {
      "text/html": [
       "<div>\n",
       "<style scoped>\n",
       "    .dataframe tbody tr th:only-of-type {\n",
       "        vertical-align: middle;\n",
       "    }\n",
       "\n",
       "    .dataframe tbody tr th {\n",
       "        vertical-align: top;\n",
       "    }\n",
       "\n",
       "    .dataframe thead tr th {\n",
       "        text-align: left;\n",
       "    }\n",
       "</style>\n",
       "<table border=\"1\" class=\"dataframe\">\n",
       "  <thead>\n",
       "    <tr>\n",
       "      <th></th>\n",
       "      <th>Country/Territory</th>\n",
       "      <th>UN Region</th>\n",
       "      <th colspan=\"2\" halign=\"left\">IMF[1][13]</th>\n",
       "      <th colspan=\"2\" halign=\"left\">World Bank[14]</th>\n",
       "      <th colspan=\"2\" halign=\"left\">United Nations[15]</th>\n",
       "    </tr>\n",
       "    <tr>\n",
       "      <th></th>\n",
       "      <th>Country/Territory</th>\n",
       "      <th>UN Region</th>\n",
       "      <th>Estimate</th>\n",
       "      <th>Year</th>\n",
       "      <th>Estimate</th>\n",
       "      <th>Year</th>\n",
       "      <th>Estimate</th>\n",
       "      <th>Year</th>\n",
       "    </tr>\n",
       "  </thead>\n",
       "  <tbody>\n",
       "    <tr>\n",
       "      <th>0</th>\n",
       "      <td>World</td>\n",
       "      <td>—</td>\n",
       "      <td>101560901</td>\n",
       "      <td>2022</td>\n",
       "      <td>96513077</td>\n",
       "      <td>2021</td>\n",
       "      <td>85328323</td>\n",
       "      <td>2020</td>\n",
       "    </tr>\n",
       "    <tr>\n",
       "      <th>1</th>\n",
       "      <td>United States</td>\n",
       "      <td>Americas</td>\n",
       "      <td>25035164</td>\n",
       "      <td>2022</td>\n",
       "      <td>22996100</td>\n",
       "      <td>2021</td>\n",
       "      <td>20893746</td>\n",
       "      <td>2020</td>\n",
       "    </tr>\n",
       "    <tr>\n",
       "      <th>2</th>\n",
       "      <td>China</td>\n",
       "      <td>Asia</td>\n",
       "      <td>18321197</td>\n",
       "      <td>[n 1]2022</td>\n",
       "      <td>17734063</td>\n",
       "      <td>[n 3]2021</td>\n",
       "      <td>14722801</td>\n",
       "      <td>[n 1]2020</td>\n",
       "    </tr>\n",
       "    <tr>\n",
       "      <th>3</th>\n",
       "      <td>Japan</td>\n",
       "      <td>Asia</td>\n",
       "      <td>4300621</td>\n",
       "      <td>2022</td>\n",
       "      <td>4937422</td>\n",
       "      <td>2021</td>\n",
       "      <td>5057759</td>\n",
       "      <td>2020</td>\n",
       "    </tr>\n",
       "    <tr>\n",
       "      <th>4</th>\n",
       "      <td>Germany</td>\n",
       "      <td>Europe</td>\n",
       "      <td>4031149</td>\n",
       "      <td>2022</td>\n",
       "      <td>4223116</td>\n",
       "      <td>2021</td>\n",
       "      <td>3846414</td>\n",
       "      <td>2020</td>\n",
       "    </tr>\n",
       "    <tr>\n",
       "      <th>...</th>\n",
       "      <td>...</td>\n",
       "      <td>...</td>\n",
       "      <td>...</td>\n",
       "      <td>...</td>\n",
       "      <td>...</td>\n",
       "      <td>...</td>\n",
       "      <td>...</td>\n",
       "      <td>...</td>\n",
       "    </tr>\n",
       "    <tr>\n",
       "      <th>212</th>\n",
       "      <td>Palau</td>\n",
       "      <td>Oceania</td>\n",
       "      <td>226</td>\n",
       "      <td>2022</td>\n",
       "      <td>218</td>\n",
       "      <td>2021</td>\n",
       "      <td>264</td>\n",
       "      <td>2020</td>\n",
       "    </tr>\n",
       "    <tr>\n",
       "      <th>213</th>\n",
       "      <td>Kiribati</td>\n",
       "      <td>Oceania</td>\n",
       "      <td>207</td>\n",
       "      <td>2022</td>\n",
       "      <td>207</td>\n",
       "      <td>2021</td>\n",
       "      <td>181</td>\n",
       "      <td>2020</td>\n",
       "    </tr>\n",
       "    <tr>\n",
       "      <th>214</th>\n",
       "      <td>Nauru</td>\n",
       "      <td>Oceania</td>\n",
       "      <td>134</td>\n",
       "      <td>2022</td>\n",
       "      <td>133</td>\n",
       "      <td>2021</td>\n",
       "      <td>135</td>\n",
       "      <td>2020</td>\n",
       "    </tr>\n",
       "    <tr>\n",
       "      <th>215</th>\n",
       "      <td>Montserrat</td>\n",
       "      <td>Americas</td>\n",
       "      <td>—</td>\n",
       "      <td>—</td>\n",
       "      <td>—</td>\n",
       "      <td>—</td>\n",
       "      <td>68</td>\n",
       "      <td>2020</td>\n",
       "    </tr>\n",
       "    <tr>\n",
       "      <th>216</th>\n",
       "      <td>Tuvalu</td>\n",
       "      <td>Oceania</td>\n",
       "      <td>64</td>\n",
       "      <td>2022</td>\n",
       "      <td>63</td>\n",
       "      <td>2021</td>\n",
       "      <td>55</td>\n",
       "      <td>2020</td>\n",
       "    </tr>\n",
       "  </tbody>\n",
       "</table>\n",
       "<p>217 rows × 8 columns</p>\n",
       "</div>"
      ],
      "text/plain": [
       "    Country/Territory UN Region IMF[1][13]            World Bank[14]  \\\n",
       "    Country/Territory UN Region   Estimate       Year       Estimate   \n",
       "0               World         —  101560901       2022       96513077   \n",
       "1       United States  Americas   25035164       2022       22996100   \n",
       "2               China      Asia   18321197  [n 1]2022       17734063   \n",
       "3               Japan      Asia    4300621       2022        4937422   \n",
       "4             Germany    Europe    4031149       2022        4223116   \n",
       "..                ...       ...        ...        ...            ...   \n",
       "212             Palau   Oceania        226       2022            218   \n",
       "213          Kiribati   Oceania        207       2022            207   \n",
       "214             Nauru   Oceania        134       2022            133   \n",
       "215        Montserrat  Americas          —          —              —   \n",
       "216            Tuvalu   Oceania         64       2022             63   \n",
       "\n",
       "               United Nations[15]             \n",
       "          Year           Estimate       Year  \n",
       "0         2021           85328323       2020  \n",
       "1         2021           20893746       2020  \n",
       "2    [n 3]2021           14722801  [n 1]2020  \n",
       "3         2021            5057759       2020  \n",
       "4         2021            3846414       2020  \n",
       "..         ...                ...        ...  \n",
       "212       2021                264       2020  \n",
       "213       2021                181       2020  \n",
       "214       2021                135       2020  \n",
       "215          —                 68       2020  \n",
       "216       2021                 55       2020  \n",
       "\n",
       "[217 rows x 8 columns]"
      ]
     },
     "execution_count": 4,
     "metadata": {},
     "output_type": "execute_result"
    }
   ],
   "source": [
    "import pandas as pd\n",
    "\n",
    "url = \"https://en.wikipedia.org/wiki/List_of_countries_by_GDP_(nominal)\"\n",
    "# url = \"https://en.wikipedia.org/wiki/Minnesota\"\n",
    "\n",
    "tables = pd.read_html(url)\n",
    "\n",
    "tables[2]"
   ]
  },
  {
   "attachments": {},
   "cell_type": "markdown",
   "metadata": {},
   "source": [
    "### Medium Compexity Scraping\n",
    "\n",
    "Medium complexity scraping is extracting data from websites that use hyperlinks to organize their data. These pages are often static webpages generated from Perl or PHP scripts. We will have to use more steps to accomplish our goal to build a dataset.\n",
    "\n",
    "Two really import modules we can use are BeautifulSoup and Selenium. BeautifulSoup is a Python library for pulling data out of HTML and XML files. Selenium is a Python library that allows us to automate web browser interactions. We can use these two modules to scrape data from websites that use hyperlinks to organize their data.\n",
    "\n",
    "* BeautifulSoup documentation: https://www.crummy.com/software/BeautifulSoup/bs4/doc/\n",
    "* Selenium documentation: https://selenium-python.readthedocs.io/"
   ]
  },
  {
   "cell_type": "code",
   "execution_count": 5,
   "metadata": {},
   "outputs": [],
   "source": [
    "# Let's look at a website HTML\n",
    "import requests\n",
    "\n",
    "url = \"https://www.gutenberg.org/ebooks/search/?sort_order=downloads\"\n",
    "\n",
    "gutenberg_most_read = requests.get(url).text"
   ]
  },
  {
   "cell_type": "code",
   "execution_count": 6,
   "metadata": {},
   "outputs": [
    {
     "data": {
      "text/plain": [
       "'\\n<!DOCTYPE html>\\n<!--\\n\\nDON\\'T USE THIS PAGE FOR SCRAPING.\\n\\nSeriously. You\\'ll only get your IP blocked.\\n\\nDownload https://www.gutenberg.org/feeds/catalog.rdf.bz2 instead,\\nwhich contains *all* Project Gutenberg metadata in one RDF/XML file.\\n\\n--><html lang=\"en\">\\n\\n\\n\\n\\n<head>\\n<style>\\n.\\n'"
      ]
     },
     "execution_count": 6,
     "metadata": {},
     "output_type": "execute_result"
    }
   ],
   "source": [
    "gutenberg_most_read\n",
    "\n",
    "\"\"\"\n",
    "<!DOCTYPE html>\\n<!--\\n\\nDON\\'T USE THIS PAGE FOR SCRAPING.\\n\\nSeriously. You\\'ll only get your IP blocked.\\n\\nDownload https://www.gutenberg.org/feeds/catalog.rdf.bz2 instead,\\nwhich contains *all* Project Gutenberg metadata in one RDF/XML file.\\n\\n--><html lang=\"en\">\\n\\n\\n\\n\\n<head>\\n<style>\\n.\n",
    "\"\"\""
   ]
  },
  {
   "cell_type": "code",
   "execution_count": 7,
   "metadata": {},
   "outputs": [],
   "source": [
    "## Let's download some books and store the file in our data directory\n",
    "# ! wget https://www.gutenberg.org/cache/epub/feeds/rdf-files.tar.bz2"
   ]
  },
  {
   "attachments": {},
   "cell_type": "markdown",
   "metadata": {},
   "source": [
    "#### Let's look at the data\n",
    "\n",
    "N.B.: The downloaded archive is a little over 1 GB. For the purpose of our course, I have extracted the first e-text from the archive. The file is called `pg1.txt`. The file is in the `data` folder of this repository, and it is in the `Datasets` folder in the gdrive."
   ]
  },
  {
   "cell_type": "code",
   "execution_count": 8,
   "metadata": {},
   "outputs": [],
   "source": [
    "# If you are running this notebook in Google colab, uncomment this line of code and run\n",
    "# import re\n",
    "# from bs4 import BeautifulSoup as bs4\n",
    "#\n",
    "# from pathlib import Path\n",
    "# from google.colab import drive\n",
    "# \n",
    "# drive.mount('/content/gdrive/', force_remount=True)\n",
    "# file = Path('gdrive/MyDrive/DATA_340_3_NLP/Datasets/pg1.rdf')\n",
    "# with open(file, 'r') as f:\n",
    "#    gutenberg = f.read().decode('utf-8')\n",
    "# gutenberg = bs4(gutenberg, features='lxml')"
   ]
  },
  {
   "cell_type": "code",
   "execution_count": 9,
   "metadata": {},
   "outputs": [
    {
     "name": "stderr",
     "output_type": "stream",
     "text": [
      "/media/james/Projects/GitHub/DATA_340_NLP/Notebooks/venv/lib/python3.10/site-packages/bs4/builder/__init__.py:545: XMLParsedAsHTMLWarning: It looks like you're parsing an XML document using an HTML parser. If this really is an HTML document (maybe it's XHTML?), you can ignore or filter this warning. If it's XML, you should know that using an XML parser will be more reliable. To parse this document as XML, make sure you have the lxml package installed, and pass the keyword argument `features=\"xml\"` into the BeautifulSoup constructor.\n",
      "  warnings.warn(\n"
     ]
    }
   ],
   "source": [
    "import re\n",
    "from bs4 import BeautifulSoup as bs4\n",
    "\n",
    "from pathlib import Path\n",
    "\n",
    "gutenberg_file = Path(\"data/pg1.rdf\")\n",
    "\n",
    "# Read file and create a beautiful soup object\n",
    "with open(gutenberg_file, \"rb\") as f:\n",
    "    gutenberg = f.read().decode(\"utf-8\")\n",
    "\n",
    "gutenberg = bs4(gutenberg, features=\"lxml\")"
   ]
  },
  {
   "attachments": {},
   "cell_type": "markdown",
   "metadata": {},
   "source": [
    "### BeautifulSoup example"
   ]
  },
  {
   "cell_type": "code",
   "execution_count": 10,
   "metadata": {},
   "outputs": [
    {
     "data": {
      "text/plain": [
       "('The Declaration of Independence of the United States of America',\n",
       " 'This is the original PG edition.\\r\\nSee also our revised edition: #16780\\r\\nSee also #300',\n",
       " '\\nJefferson, Thomas\\n1743\\n1826\\nUnited States President (1801-1809)\\n\\n')"
      ]
     },
     "execution_count": 10,
     "metadata": {},
     "output_type": "execute_result"
    }
   ],
   "source": [
    "# Get the title of the book, description, and author\n",
    "title = gutenberg.find(\"dcterms:title\").text\n",
    "description = gutenberg.find(\"dcterms:description\").text\n",
    "author = gutenberg.find(\"pgterms:agent\").text\n",
    "\n",
    "title, description, author"
   ]
  },
  {
   "cell_type": "code",
   "execution_count": 11,
   "metadata": {},
   "outputs": [],
   "source": [
    "# Let's get the link to the text\n",
    "links = []\n",
    "\n",
    "file_types = gutenberg.find_all(\"pgterms:file\")\n",
    "for f in file_types:\n",
    "    if f[\"rdf:about\"].endswith(\".txt\"):\n",
    "        links.append(f[\"rdf:about\"])"
   ]
  },
  {
   "cell_type": "code",
   "execution_count": 12,
   "metadata": {},
   "outputs": [
    {
     "data": {
      "text/plain": [
       "['https://www.gutenberg.org/files/1/1-0.txt']"
      ]
     },
     "execution_count": 12,
     "metadata": {},
     "output_type": "execute_result"
    }
   ],
   "source": [
    "# Let's look at our links\n",
    "links"
   ]
  },
  {
   "cell_type": "code",
   "execution_count": 13,
   "metadata": {},
   "outputs": [],
   "source": [
    "# Let's create another beautiful soup object for the text\n",
    "text = bs4(requests.get(links[0]).text, features=\"lxml\")"
   ]
  },
  {
   "cell_type": "code",
   "execution_count": 14,
   "metadata": {},
   "outputs": [
    {
     "data": {
      "text/plain": [
       "'===========================================================\\r\\n\\r\\n     NOTE:  This file combines the first two Project Gutenberg\\r\\n     files, both of which were given the filenumber #1. There are\\r\\n     several duplicate files here. There were many updates over\\r\\n     the years.  All of the original files are included in the\\r\\n     \"old\" subdirectory which may be accessed under the \"More\\r\\n     Files\" listing in the PG Catalog of this file. No changes\\r\\n     have been made in these original etexts.\\r\\n\\r\\n===========================================================\\r\\n\\r\\n\\r\\n**Welcome To The World of Free Plain Vanilla Electronic Texts**\\r\\n\\r\\n**Etexts Readable By Both Humans and By Computers, Since 1971**\\r\\n\\r\\n*These Etexts Prepared By Hundreds of Volunteers and Donations*\\r\\n\\r\\nBelow you will find the first nine Project Gutenberg Etexts, in\\r\\none file, with one header for the entire file.  This is to keep\\r\\nthe overhead down, and in response to requests from Gopher site\\r\\nkeeper to eliminate as much of the headers as possible.\\r\\n\\r\\nHowever, for legal and financial reasons, we must request these\\r\\nheaders be left at the beginning of each file that is posted in\\r\\nany general user areas, as Project Gutenberg is run mostly by a\\r\\ndonation from people like you.\\r\\n\\r\\nIf you see our books posted ANYWHERE without these headers, you\\r\\nare requested to send them a note requesting they re-attach the\\r\\nheader, otherwise they have no legal protection and we have the\\r\\nloss of the donations we hope will keep Project Gutenberg going\\r\\nlong enough to post 10,000 books, plays, musical pieces, etc.\\r\\n\\r\\n\\r\\n\\r\\n***START**THE SMALL PRINT!**FOR PUBLIC DOMAIN ETEXTS**START***\\r\\nWhy is this \"Small Print!\" statement here?  You know: lawyers.\\r\\nThey tell us you might sue us if there is something wrong with\\r\\nyour copy of this etext, even if you got it for free from\\r\\nsomeone other than us, and even if what\\'s wrong is not our\\r\\nfault.  So, among other things, this \"Small Print!\" statement\\r\\ndisclaims most of our liability to you.  It also tells you how\\r\\nyou can distribute copies of this etext if you want to.\\r\\n\\r\\n*BEFORE!* YOU USE OR READ THIS ETEXT\\r\\nBy using or reading any part of this PROJECT GUTENBERG-tm\\r\\netext, you indicate that you understand, agree to and accept\\r\\nthis \"Small Print!\" statement.  If you do not, you can receive\\r\\na refund of the money (if any) you paid for this etext by\\r\\nsending a request within 30 days of receiving it to the person\\r\\nyou got it from.  If you received this etext on a physical\\r\\nmedium (such as a disk), you must return it with your request.\\r\\n\\r\\nABOUT PROJECT GUTENBERG-TM ETEXTS\\r\\nThis PROJECT GUTENBERG-tm etext, like most PROJECT GUTENBERG-\\r\\ntm etexts, is a \"public domain\" work distributed by Professor\\r\\nMichael S. Hart through the Project Gutenberg Association at\\r\\nIllinois Benedictine College (the \"Project\").  Among other\\r\\nthings, this means that no one owns a United States copyright\\r\\non or for this work, so the Project (and you!) can copy and\\r\\ndistribute it in the United States without permission and\\r\\nwithout paying copyright royalties.  Special rules, set forth\\r\\nbelow, apply if you wish to copy and distribute this etext\\r\\nunder the Project\\'s \"PROJECT GUTENBERG\" trademark.\\r\\n\\r\\nTo create these etexts, the Project expends considerable\\r\\nefforts to identify, transcribe and proofread public domain\\r\\nworks.  Despite these efforts, the Project\\'s etexts and any\\r\\nmedium they may be on may contain \"Defects\".  Among other\\r\\nthings, Defects may take the form of incomplete, inaccurate or\\r\\ncorrupt data, transcription errors, a copyright or other\\r\\nintellectual property infringement, a defective or damaged\\r\\ndisk or other etext medium, a computer virus, or computer\\r\\ncodes that damage or cannot be read by your equipment.\\r\\n\\r\\nLIMITED WARRANTY; DISCLAIMER OF DAMAGES\\r\\nBut for the \"Right of Replacement or Refund\" described below,\\r\\n[1] the Project (and any other party you may receive this\\r\\netext from as a PROJECT GUTENBERG-tm etext) disclaims all\\r\\nliability to you for damages, costs and expenses, including\\r\\nlegal fees, and [2] YOU HAVE NO REMEDIES FOR NEGLIGENCE OR\\r\\nUNDER STRICT LIABILITY, OR FOR BREACH OF WARRANTY OR CONTRACT,\\r\\nINCLUDING BUT NOT LIMITED TO INDIRECT, CONSEQUENTIAL, PUNITIVE\\r\\nOR INCIDENTAL DAMAGES, EVEN IF YOU GIVE NOTICE OF THE\\r\\nPOSSIBILITY OF SUCH DAMAGES.\\r\\n\\r\\nIf you discover a Defect in this etext within 90 days of\\r\\nreceiving it, you can receive a refund of the money (if any)\\r\\nyou paid for it by sending an explanatory note within that\\r\\ntime to the person you received it from.  If you received it\\r\\non a physical medium, you must return it with your note, and\\r\\nsuch person may choose to alternatively give you a replacement\\r\\ncopy.  If you received it electronically, such person may\\r\\nchoose to alternatively give you a second opportunity to\\r\\nreceive it electronically.\\r\\n\\r\\nTHIS ETEXT IS OTHERWISE PROVIDED TO YOU \"AS-IS\".  NO OTHER\\r\\nWARRANTIES OF ANY KIND, EXPRESS OR IMPLIED, ARE MADE TO YOU AS\\r\\nTO THE ETEXT OR ANY MEDIUM IT MAY BE ON, INCLUDING BUT NOT\\r\\nLIMITED TO WARRANTIES OF MERCHANTABILITY OR FITNESS FOR A\\r\\nPARTICULAR PURPOSE.\\r\\n\\r\\nSome states do not allow disclaimers of implied warranties or\\r\\nthe exclusion or limitation of consequential damages, so the\\r\\nabove disclaimers and exclusions may not apply to you, and you\\r\\nmay have other legal rights.\\r\\n\\r\\nINDEMNITY\\r\\nYou will indemnify and hold the Project, its directors,\\r\\nofficers, members and agents harmless from all liability, cost\\r\\nand expense, including legal fees, that arise directly or\\r\\nindirectly from any of the following that you do or cause:\\r\\n[1] distribution of this etext, [2] alteration, modification,\\r\\nor addition to the etext, or [3] any Defect.\\r\\n\\r\\nDISTRIBUTION UNDER \"PROJECT GUTENBERG-tm\"\\r\\nYou may distribute copies of this etext electronically, or by\\r\\ndisk, book or any other medium if you either delete this\\r\\n\"Small Print!\" and all other references to Project Gutenberg,\\r\\nor:\\r\\n\\r\\n[1]  Only give exact copies of it.  Among other things, this\\r\\n     requires that you do not remove, alter or modify the\\r\\n     etext or this \"small print!\" statement.  You may however,\\r\\n     if you wish, distribute this etext in machine readable\\r\\n     binary, compressed, mark-up, or proprietary form,\\r\\n     including any form resulting from conversion by word pro-\\r\\n     cessing or hypertext software, but only so long as\\r\\n     *EITHER*:\\r\\n\\r\\n     [*]  The etext, when displayed, is clearly readable, and\\r\\n          does *not* contain characters other than those\\r\\n          intended by the author of the work, although tilde\\r\\n          (~), asterisk (*) and underline (_) characters may\\r\\n          be used to convey punctuation intended by the\\r\\n          author, and additional characters may be used to\\r\\n          indicate hypertext links; OR\\r\\n\\r\\n     [*]  The etext may be readily converted by the reader at\\r\\n          no expense into plain ASCII, EBCDIC or equivalent\\r\\n          form by the program that displays the etext (as is\\r\\n          the case, for instance, with most word processors);\\r\\n          OR\\r\\n\\r\\n     [*]  You provide, or agree to also provide on request at\\r\\n          no additional cost, fee or expense, a copy of the\\r\\n          etext in its original plain ASCII form (or in EBCDIC\\r\\n          or other equivalent proprietary form).\\r\\n\\r\\n[2]  Honor the etext refund and replacement provisions of this\\r\\n     \"Small Print!\" statement.\\r\\n\\r\\n[3]  Pay a trademark license fee to the Project of 20% of the\\r\\n     net profits you derive calculated using the method you\\r\\n     already use to calculate your applicable taxes.  If you\\r\\n     don\\'t derive profits, no royalty is due.  Royalties are\\r\\n     payable to \"Project Gutenberg Association / Illinois\\r\\n     Benedictine College\" within the 60 days following each\\r\\n     date you prepare (or were legally required to prepare)\\r\\n     your annual (or equivalent periodic) tax return.\\r\\n\\r\\nWHAT IF YOU *WANT* TO SEND MONEY EVEN IF YOU DON\\'T HAVE TO?\\r\\nThe Project gratefully accepts contributions in money, time,\\r\\nscanning machines, OCR software, public domain etexts, royalty\\r\\nfree copyright licenses, and every other sort of contribution\\r\\nyou can think of.  Money should be paid to \"Project Gutenberg\\r\\nAssociation / Illinois Benedictine College\".\\r\\n\\r\\nThis \"Small Print!\" by Charles B. Kramer, Attorney\\r\\nInternet (72600.2026@compuserve.com); TEL: (212-254-5093)\\r\\n*END*THE SMALL PRINT! FOR PUBLIC DOMAIN ETEXTS*Ver.04.29.93*END*\\r\\n\\r\\n\\r\\n\\r\\nDecember, 1971  [Etext #1]\\r\\n\\r\\n\\r\\nThe Project Gutenberg Etext of The Declaration of Independence.\\r\\n\\r\\nAll of the original Project Gutenberg Etexts from the\\r\\n1970\\'s were produced in ALL CAPS, no lower case.  The\\r\\ncomputers we used then didn\\'t have lower case at all.\\r\\n\\r\\n\\r\\nThis is a retranscription of one of the first Project\\r\\nGutenberg Etexts, officially dated December, 1971--\\r\\nand now officially re-released on December 31, 1993--\\r\\n\\r\\n\\r\\nThe United States Declaration of Independence was the first Etext\\r\\nreleased by Project Gutenberg, early in 1971.  The title was stored\\r\\nin an emailed instruction set which required a tape or diskpack be\\r\\nhand mounted for retrieval.  The diskpack was the size of a large\\r\\ncake in a cake carrier, cost $1500, and contained 5 megabytes, of\\r\\nwhich this file took 1-2%.  Two tape backups were kept plus one on\\r\\npaper tape.  The 10,000 files we hope to have online by the end of\\r\\n2001 should take about 1-2% of a comparably priced drive in 2001.\\r\\n\\r\\nThis file was never copyrighted, Sharewared, etc., and is thus for\\r\\nall to use and copy in any manner they choose.  Please feel free to\\r\\nmake your own edition using this as a base.\\r\\n\\r\\nIn my research for creating this transcription of our first Etext,\\r\\nI have come across enough discrepancies [even within that official\\r\\ndocumentation provided by the United States] to conclude that even\\r\\n\"facsimiles\" of the Declaration of Indendence will NOT going to be\\r\\nall the same as the original, nor of other \"facsimiles.\"  There is\\r\\na plethora of variations in capitalization, punctuation, and, even\\r\\nwhere names appear on the documents [which names I have left out].\\r\\n\\r\\nThe resulting document has several misspellings removed from those\\r\\nparchment \"facsimiles\" I used back in 1971, and which I should not\\r\\nbe able to easily find at this time, including \"Brittain.\"\\r\\n\\r\\n\\r\\n**The Project Gutenberg Etext of The Declaration of Independence**\\r\\n\\r\\n\\r\\n\\r\\nTHE DECLARATION OF INDEPENDENCE OF THE UNITED STATES OF AMERICA\\r\\n\\r\\n\\r\\nWhen in the Course of human events, it becomes necessary for\\r\\none people to dissolve the political bands which have connected\\r\\nthem with another, and to assume, among the Powers of the earth,\\r\\nthe separate and equal station to which the Laws of Nature and\\r\\nof Nature\\'s God entitle them, a decent respect to the opinions\\r\\nof mankind requires that they should declare the causes which\\r\\nimpel them to the separation.\\r\\n\\r\\nWe hold these truths to be self-evident, that all men are created equal,\\r\\nthat they are endowed by their Creator with certain unalienable Rights,\\r\\nthat among these are Life, Liberty, and the pursuit of Happiness.\\r\\nThat to secure these rights, Governments are instituted among Men,\\r\\nderiving their just powers from the consent of the governed,\\r\\nThat whenever any Form of Government becomes destructive of these ends,\\r\\nit is the Right of the People to alter or to abolish it, and to institute\\r\\nnew Government, laying its foundation on such principles and organizing\\r\\nits powers in such form, as to them shall seem most likely to effect\\r\\ntheir Safety and Happiness.  Prudence, indeed, will dictate that Governments\\r\\nlong established should not be changed for light and transient causes;\\r\\nand accordingly all experience hath shown, that mankind are more disposed\\r\\nto suffer, while evils are sufferable, than to right themselves by abolishing\\r\\nthe forms to which they are accustomed.  But when a long train of abuses and\\r\\nusurpations, pursuing invariably the same Object evinces a design to reduce\\r\\nthem under absolute Despotism, it is their right, it is their duty, to throw\\r\\noff such Government, and to provide new Guards for their future security.\\r\\n--Such has been the patient sufferance of these Colonies; and such is now\\r\\nthe necessity which constrains them to alter their former Systems of Government.\\r\\nThe history of the present King of Great Britain is a history of repeated\\r\\ninjuries and usurpations, all having in direct object the establishment\\r\\nof an absolute Tyranny over these States.  To prove this, let Facts\\r\\nbe submitted to a candid world.\\r\\n\\r\\nHe has refused his Assent to Laws, the most wholesome and necessary\\r\\nfor the public good.\\r\\n\\r\\nHe has forbidden his Governors to pass Laws of immediate\\r\\nand pressing importance, unless suspended in their operation\\r\\ntill his Assent should be obtained; and when so suspended,\\r\\nhe has utterly neglected to attend to them.\\r\\n\\r\\nHe has refused to pass other Laws for the accommodation of\\r\\nlarge districts of people, unless those people would relinquish\\r\\nthe right of Representation in the Legislature, a right\\r\\ninestimable to them and formidable to tyrants only.\\r\\n\\r\\nHe has called together legislative bodies at places unusual,\\r\\nuncomfortable, and distant from the depository of their\\r\\nPublic Records, for the sole purpose of fatiguing them\\r\\ninto compliance with his measures.\\r\\n\\r\\nHe has dissolved Representative Houses repeatedly, for opposing\\r\\nwith manly firmness his invasions on the rights of the people.\\r\\n\\r\\nHe has refused for a long time, after such dissolutions,\\r\\nto cause others to be elected; whereby the Legislative Powers,\\r\\nincapable of Annihilation, have returned to the People at large\\r\\nfor their exercise; the State remaining in the mean time exposed\\r\\nto all the dangers of invasion from without, and convulsions within.\\r\\n\\r\\nHe has endeavoured to prevent the population of these States;\\r\\nfor that purpose obstructing the Laws of Naturalization of Foreigners;\\r\\nrefusing to pass others to encourage their migration hither,\\r\\nand raising the conditions of new Appropriations of Lands.\\r\\n\\r\\nHe has obstructed the Administration of Justice, by refusing his Assent\\r\\nto Laws for establishing Judiciary Powers.\\r\\n\\r\\nHe has made judges dependent on his Will alone, for the tenure\\r\\nof their offices, and the amount and payment of their salaries.\\r\\n\\r\\nHe has erected a multitude of New Offices, and sent hither swarms of\\r\\nOfficers to harass our People, and eat out their substance.\\r\\n\\r\\nHe has kept among us, in times of peace, Standing Armies\\r\\nwithout the Consent of our legislatures.\\r\\n\\r\\nHe has affected to render the Military independent of\\r\\nand superior to the Civil Power.\\r\\n\\r\\nHe has combined with others to subject us to a jurisdiction\\r\\nforeign to our constitution, and unacknowledged by our laws;\\r\\ngiving his Assent to their Acts of pretended legislation:\\r\\n\\r\\nFor quartering large bodies of armed troops among us:\\r\\n\\r\\nFor protecting them, by a mock Trial, from Punishment for any Murders\\r\\nwhich they should commit on the Inhabitants of these States:\\r\\n\\r\\nFor cutting off our Trade with all parts of the world:\\r\\n\\r\\nFor imposing taxes on us without our Consent:\\r\\n\\r\\nFor depriving us, in many cases, of the benefits of Trial by Jury:\\r\\n\\r\\nFor transporting us beyond Seas to be tried for pretended offences:\\r\\n\\r\\nFor abolishing the free System of English Laws in a neighbouring\\r\\nProvince, establishing therein an Arbitrary government,\\r\\nand enlarging its Boundaries so as to render it at once\\r\\nan example and fit instrument for introducing the same\\r\\nabsolute rule into these Colonies:\\r\\n\\r\\nFor taking away our Charters, abolishing our most valuable Laws,\\r\\nand altering fundamentally the Forms of our Governments:\\r\\n\\r\\nFor suspending our own Legislatures, and declaring themselves\\r\\ninvested with Power to legislate for us in all cases whatsoever.\\r\\n\\r\\nHe has abdicated Government here, by declaring us out of his Protection\\r\\nand waging War against us.\\r\\n\\r\\nHe has plundered our seas, ravaged our Coasts, burnt our towns,\\r\\nand destroyed the lives of our people.\\r\\n\\r\\nHe is at this time transporting large armies of foreign mercenaries\\r\\nto compleat the works of death, desolation and tyranny, already begun\\r\\nwith circumstances of Cruelty & perfidy scarcely paralleled in the\\r\\nmost barbarous ages, and totally unworthy of the Head of a civilized nation.\\r\\n\\r\\nHe has constrained our fellow Citizens taken Captive on the high Seas\\r\\nto bear Arms against their Country, to become the executioners of\\r\\ntheir friends and Brethren, or to fall themselves by their Hands.\\r\\n\\r\\nHe has excited domestic insurrections amongst us, and has\\r\\nendeavoured to bring on the inhabitants of our frontiers,\\r\\nthe merciless Indian Savages, whose known rule of warfare,\\r\\nis an undistinguished destruction of all ages, sexes and conditions.\\r\\n\\r\\nIn every stage of these Oppressions We have Petitioned for Redress\\r\\nin the most humble terms:  Our repeated Petitions have been answered\\r\\nonly by repeated injury.  A Prince, whose character is thus marked\\r\\nby every act which may define a Tyrant, is unfit to be the ruler\\r\\nof a free People.\\r\\n\\r\\nNor have We been wanting in attention to our British brethren.\\r\\nWe have warned them from time to time of attempts by their\\r\\nlegislature to extend an unwarrantable jurisdiction over us.\\r\\nWe have reminded them of the circumstances of our emigration and\\r\\nsettlement here.  We have appealed to their native justice\\r\\nand magnanimity, and we have conjured them by the ties of our\\r\\ncommon kindred to disavow these usurpations, which would inevitably\\r\\ninterrupt our connections and correspondence.  They too have been\\r\\ndeaf to the voice of justice and of consanguinity.  We must, therefore,\\r\\nacquiesce in the necessity, which denounces our Separation, and hold them,\\r\\nas we hold the rest of mankind, Enemies in War, in Peace Friends.\\r\\n\\r\\nWe, therefore, the Representatives of the United States of America,\\r\\nin General Congress, Assembled, appealing to the Supreme Judge of\\r\\nthe world for the rectitude of our intentions, do, in the Name,\\r\\nand by the Authority of the good People of these Colonies,\\r\\nsolemnly publish and declare, That these United Colonies are,\\r\\nand of Right ought to be Free and Independent States;\\r\\nthat they are Absolved from all Allegiance to the British Crown,\\r\\nand that all political connection between them and the State\\r\\nof Great Britain, is and ought to be totally dissolved;\\r\\nand that as Free and Independent States, they have full Power to\\r\\nlevy War, conclude Peace, contract Alliances, establish Commerce,\\r\\nand to do all other Acts and Things which Independent States may\\r\\nof right do.  And for the support of this Declaration, with a firm\\r\\nreliance on the Protection of Divine Providence, we mutually pledge\\r\\nto each other our Lives, our Fortunes and our sacred Honor.\\r\\n\\r\\n\\r\\n\\r\\n\\r\\nDecember, 1972  [Etext #2]\\r\\n\\r\\n\\r\\n****The Project Gutenberg Etext of The U. S. Bill of Rights****\\r\\n\\r\\n\\r\\n\\r\\n\\r\\nThe United States Bill of Rights.\\r\\n\\r\\nThe Ten Original Amendments to the Constitution of the United States\\r\\nPassed by Congress September 25, 1789\\r\\nRatified December 15, 1791\\r\\n\\r\\n\\r\\n\\r\\n\\r\\nI\\r\\n\\r\\nCongress shall make no law respecting an establishment of religion,\\r\\nor prohibiting the free exercise thereof; or abridging the freedom of speech,\\r\\nor of the press, or the right of the people peaceably to assemble,\\r\\nand to petition the Government for a redress of grievances.\\r\\n\\r\\n\\r\\n\\r\\n\\r\\n\\r\\nII\\r\\n\\r\\nA well-regulated militia, being necessary to the security of a free State,\\r\\nthe right of the people to keep and bear arms, shall not be infringed.\\r\\n\\r\\n\\r\\n\\r\\n\\r\\nIII\\r\\n\\r\\nNo soldier shall, in time of peace be quartered in any house,\\r\\nwithout the consent of the owner, nor in time of war,\\r\\nbut in a manner to be prescribed by law.\\r\\n\\r\\n\\r\\n\\r\\n\\r\\nIV\\r\\n\\r\\nThe right of the people to be secure in their persons, houses, papers,\\r\\nand effects, against unreasonable searches and seizures, shall not be violated,\\r\\nand no Warrants shall issue, but upon probable cause, supported by oath\\r\\nor affirmation, and particularly describing the place to be searched,\\r\\nand the persons or things to be seized.\\r\\n\\r\\n\\r\\n\\r\\n\\r\\nV\\r\\n\\r\\nNo person shall be held to answer for a capital, or otherwise infamous crime,\\r\\nunless on a presentment or indictment of a Grand Jury, except in cases arising\\r\\nin the land or naval forces, or in the Militia, when in actual service\\r\\nin time of War or public danger; nor shall any person be subject for\\r\\nthe same offense to be twice put in jeopardy of life or limb;\\r\\nnor shall be compelled in any criminal case to be a witness against himself,\\r\\nnor be deprived of life, liberty, or property, without due process of law;\\r\\nnor shall private property be taken for public use without just compensation.\\r\\n\\r\\n\\r\\n\\r\\n\\r\\nVI\\r\\n\\r\\nIn all criminal prosecutions, the accused shall enjoy the right to a\\r\\nspeedy and public trial, by an impartial jury of the State and district\\r\\nwherein the crime shall have been committed, which district shall have\\r\\nbeen previously ascertained by law, and to be informed of the nature\\r\\nand cause of the accusation; to be confronted with the witnesses against him;\\r\\nto have compulsory process for obtaining witnesses in his favor,\\r\\nand to have the assistance of counsel for his defense.\\r\\n\\r\\n\\r\\n\\r\\n\\r\\nVII\\r\\n\\r\\nIn suits at common law, where the value in controversy shall exceed\\r\\ntwenty dollars, the right of trial by jury shall be preserved,\\r\\nand no fact tried by a jury shall be otherwise re-examined in any court\\r\\nof the United States, than according to the rules of the common law.\\r\\n\\r\\n\\r\\n\\r\\n\\r\\nVIII\\r\\n\\r\\nExcessive bail shall not be required nor excessive fines imposed,\\r\\nnor cruel and unusual punishments inflicted.\\r\\n\\r\\n\\r\\n\\r\\n\\r\\nIX\\r\\n\\r\\nThe enumeration in the Constitution, of certain rights,\\r\\nshall not be construed to deny or disparage others retained by the people.\\r\\n\\r\\n\\r\\n\\r\\n\\r\\nX\\r\\n\\r\\nThe powers not delegated to the United States by the Constitution,\\r\\nnor prohibited by it to the States, are reserved to the States respectively,\\r\\nor to the people.\\r\\n\\r\\n\\r\\n\\r\\n\\r\\n[Etext #3] November 22, 1973, 10th Anniversary of Assassination\\r\\n[Officially rereleased for November 22, 1993, 30th Anniversary]\\r\\n\\r\\n\\r\\n\\r\\n**The Project Gutenberg Etext of Kennedy\\'s Inaugural Address**\\r\\n\\r\\n\\r\\nThis is a retranscription of one of the first Project\\r\\nGutenberg Etexts, offically dated November 22, 1973--\\r\\nand now officially re-released on November 22, 1993--\\r\\non the 30th anniversary of his assassination.\\r\\n\\r\\n\\r\\n\\r\\n***The Project Gutenberg Etext of Kennedy\\'s Inaugural Address**\\r\\n\\r\\nJFK\\'s Inaugural Address, January 20, 1961, 12:11 EST\\r\\n\\r\\n\\r\\nWe observe today not a victory of party but a celebration of freedom. . .\\r\\nsymbolizing an end as well as a beginning. . .signifying renewal\\r\\nas well as change for I have sworn before you and Almighty God\\r\\nthe same solemn oath our forbears prescribed nearly a century\\r\\nand three-quarters ago.\\r\\n\\r\\nThe world is very different now, for man holds in his mortal hands\\r\\nthe power to abolish all forms of human poverty and all forms of human life.\\r\\nAnd yet the same revolutionary beliefs for which our forbears fought\\r\\nare still at issue around the globe. . .the belief that the rights of man\\r\\ncome not from the generosity of the state but from the hand of God.\\r\\nWe dare not forget today that we are the heirs of that first revolution.\\r\\n\\r\\nLet the word go forth from this time and place. . .to friend and foe alike. . .\\r\\nthat the torch has been passed to a new generation of Americans. . .\\r\\nborn in this century, tempered by war, disciplined by a hard and bitter peace,\\r\\nproud of our ancient heritage. . .and unwilling to witness or permit the slow\\r\\nundoing of those human rights to which this nation has always been committed,\\r\\nand to which we are committed today. . .at home and around the world.\\r\\n\\r\\nLet every nation know. . .whether it wishes us well or ill. . .\\r\\nthat we shall pay any price, bear any burden, meet any hardship,\\r\\nsupport any friend, oppose any foe, to assure the survival and\\r\\nthe success of liberty.  This much we pledge. . .and more.\\r\\n\\r\\nTo those old allies whose cultural and spiritual origins we share:\\r\\nwe pledge the loyalty of faithful friends.  United. . .there is\\r\\nlittle we cannot do in a host of co-operative ventures.\\r\\nDivided. . .there is little we can do. . .for we dare not meet\\r\\na powerful challenge, at odds, and split asunder.\\r\\nTo those new states whom we welcome to the ranks of the free:\\r\\nwe pledge our word that one form of colonial control shall not\\r\\nhave passed away merely to be replaced by a far more iron tyranny.\\r\\nWe shall not always expect to find them supporting our view.\\r\\nBut we shall always hope to find them strongly supporting their\\r\\nown freedom. . .and to remember that. . .in the past. . .those who\\r\\nfoolishly sought power by riding the back of the tiger ended up inside.\\r\\nTo those people in the huts and villages of half the globe\\r\\nstruggling to break the bonds of mass misery:  we pledge our best\\r\\nefforts to help them help themselves, for whatever period\\r\\nis required. . .not because the Communists may be doing it,\\r\\nnot because we seek their votes, but because it is right.\\r\\nIf a free society cannot help the many who are poor,\\r\\nit cannot save the few who are rich.\\r\\n\\r\\nTo our sister republics south of our border:  we offer a special pledge. . .\\r\\nto convert our good words into good deeds. . .in a new alliance for progress\\r\\n. . .to assist free men and free governments in casting off the chains of\\r\\npoverty.  But this peaceful revolution of hope cannot become the prey of\\r\\nhostile powers.  Let all our neighbors know that we shall join with them\\r\\nto oppose aggression or subversion anywhere in the Americas. . .and let\\r\\nevery other power know that this hemisphere intends to remain the master\\r\\nof its own house.\\r\\n\\r\\nTo that world assembly of sovereign states:  the United Nations. . .\\r\\nour last best hope in an age where the instruments of war\\r\\nhave far outpaced the instruments of peace, we renew our pledge\\r\\nof support. . .to prevent it from becoming merely a forum for\\r\\ninvective. . .to strengthen its shield of the new and the weak. . .\\r\\nand to enlarge the area in which its writ may run.\\r\\n\\r\\nFinally, to those nations who would make themselves our adversaries,\\r\\nwe offer not a pledge but a request:  that both sides begin anew\\r\\nthe quest for peace; before the dark powers of destruction unleashed\\r\\nby science engulf all humanity in planned or accidental self-destruction.\\r\\nWe dare not tempt them with weakness.  For only when our arms are sufficient\\r\\nbeyond doubt can we be certain beyond doubt that they will never be employed.\\r\\nBut neither can two great and powerful groups of nations take comfort from\\r\\nour present course. . .both sides overburdened by the cost of modern weapons,\\r\\nboth rightly alarmed by the steady spread of the deadly atom, yet both racing\\r\\nto alter that uncertain balance of terror that stays the hand of Mankind\\'s\\r\\nfinal war.\\r\\n\\r\\nSo let us begin anew. . .remembering on both sides that civility\\r\\nis not a sign of weakness, and sincerity is always subject to proof.\\r\\nLet us never negotiate out of fear, but let us never fear to negotiate.\\r\\nLet both sides explore what problems unite us instead of belaboring\\r\\nthose problems which divide us.  Let both sides, for the first time,\\r\\nformulate serious and precise proposals for the inspection and\\r\\ncontrol of arms. . .and bring the absolute power to destroy\\r\\nother nations under the absolute control of all nations.\\r\\nLet both sides seek to invoke the wonders of science instead\\r\\nof its terrors.  Together let us explore the stars, conquer the\\r\\ndeserts, eradicate disease, tap the ocean depths, and encourage\\r\\nthe arts and commerce.  Let both sides unite to heed in all corners\\r\\nof the earth the command of Isaiah. . .to \"undo the heavy burdens. . .\\r\\nlet the oppressed go free.\"\\r\\n\\r\\nAnd if a beachhead of co-operation may push back the jungle of suspicion. . .\\r\\nlet both sides join in creating not a new balance of power. . .\\r\\nbut a new world of law. . .where the strong are just. . .\\r\\nand the weak secure. . .and the peace preserved. . . .\\r\\n\\r\\nAll this will not be finished in the first one hundred days.\\r\\nNor will it be finished in the first one thousand days. . .\\r\\nnor in the life of this administration, nor even perhaps\\r\\nin our lifetime on this planet.  But let us begin.\\r\\n\\r\\nIn your hands, my fellow citizens. . .more than mine. . .will rest the\\r\\nfinal success or failure of our course.  Since this country was founded,\\r\\neach generation of Americans has been summoned to give testimony\\r\\nto its national loyalty.  The graves of young Americans who answered\\r\\nthe call to service surround the globe.  Now the trumpet summons us again. . .\\r\\nnot as a call to bear arms, though arms we need. . .not as a call to battle. . .\\r\\nthough embattled we are. . .but a call to bear the burden of a long\\r\\ntwilight struggle. . .year in and year out, rejoicing in hope,\\r\\npatient in tribulation. . .a struggle against the common enemies of man:\\r\\ntyranny. . .poverty. . .disease. . .and war itself.  Can we forge against\\r\\nthese enemies a grand and global alliance. . .North and South. . .\\r\\nEast and West. . .that can assure a more fruitful life for all mankind?\\r\\nWill you join in that historic effort?\\r\\n\\r\\nIn the long history of the world, only a few generations have been granted\\r\\nthe role of defending freedom in its hour of maximum danger; I do not shrink\\r\\nfrom this responsibility. . .I welcome it.  I do not believe that any of us\\r\\nwould exchange places with any other people or any other generation.\\r\\nThe energy, the faith, the devotion which we bring to this endeavor\\r\\nwill light our country and all who serve it. . .and the glow from\\r\\nthat fire can truly light the world.\\r\\n\\r\\nAnd so, my fellow Americans. . .ask not what your country can\\r\\ndo for you. . .ask what you can do for your country.  My fellow\\r\\ncitizens of the world. . .ask not what America will do for you,\\r\\nbut what together we can do for the Freedom of Man.\\r\\n\\r\\nFinally, whether you are citizens of America or citizens of the world,\\r\\nask of us here the same high standards of strength and sacrifice\\r\\nwhich we ask of you.  With a good conscience our only sure reward,\\r\\nwith history the final judge of our deeds; let us go forth to lead\\r\\nthe land we love, asking His blessing and His help, but knowing that\\r\\nhere on earth God\\'s work must truly be our own.\\r\\n\\r\\n\\r\\n\\r\\nDecember, 1974  [Etext #4]\\r\\n\\r\\n\\r\\n**The Project Gutenberg Etext of Lincoln\\'s Gettysburg Address**\\r\\n\\r\\n\\r\\nThis is a retranscription of one of the first Project\\r\\nGutenberg Etexts, offically dated December 31, 1974--\\r\\nand now officially re-released on November 19, 1993--\\r\\n130 years after it was spoken.  We will rerelease the\\r\\nInaugural Address of President Kennedy, officially on\\r\\nNovember 22, 1993, on the day of the 30th anniversary\\r\\nof his assassination.\\r\\n\\r\\n\\r\\n\\r\\nLincoln\\'s Gettysburg Address, given November 19, 1863\\r\\non the battlefield near Gettysburg, Pennsylvania, USA\\r\\n\\r\\n\\r\\nFour score and seven years ago, our fathers brought forth\\r\\nupon this continent a new nation:  conceived in liberty, and\\r\\ndedicated to the proposition that all men are created equal.\\r\\n\\r\\nNow we are engaged in a great civil war. . .testing whether\\r\\nthat nation, or any nation so conceived and so dedicated. . .\\r\\ncan long endure.  We are met on a great battlefield of that war.\\r\\n\\r\\nWe have come to dedicate a portion of that field as a final resting place\\r\\nfor those who here gave their lives that this nation might live.\\r\\nIt is altogether fitting and proper that we should do this.\\r\\n\\r\\nBut, in a larger sense, we cannot dedicate. . .we cannot consecrate. . .\\r\\nwe cannot hallow this ground.  The brave men, living and dead,\\r\\nwho struggled here have consecrated it, far above our poor power\\r\\nto add or detract.  The world will little note, nor long remember,\\r\\nwhat we say here, but it can never forget what they did here.\\r\\n\\r\\nIt is for us the living, rather, to be dedicated here to the unfinished\\r\\nwork which they who fought here have thus far so nobly advanced.\\r\\nIt is rather for us to be here dedicated to the great task remaining\\r\\nbefore us. . .that from these honored dead we take increased devotion\\r\\nto that cause for which they gave the last full measure of devotion. . .\\r\\nthat we here highly resolve that these dead shall not have died in vain. . .\\r\\nthat this nation, under God, shall have a new birth of freedom. . .\\r\\nand that government of the people. . .by the people. . .for the people. . .\\r\\nshall not perish from this earth.\\r\\n\\r\\n\\r\\n\\r\\n\\r\\nDecember, 1975  [Etext #5]\\r\\n\\r\\n\\r\\n*****The Project Gutenberg Etext of The U. S. Constitution*****\\r\\n\\r\\nThe following edition of The Consitution of the United States of America\\r\\nhas been based on many hours of study of a variety of editions, and will\\r\\ninclude certain variant spellings, punctuation, and captialization as we\\r\\nhave been able to reasonable ascertain belonged to the orginal.  In case\\r\\nof internal discrepancies in these matters, most or all have been left.\\r\\n\\r\\nIn our orginal editions the letters were all CAPITALS, and we did not do\\r\\nanything about capitalization, consistent or otherwise, nor with most of\\r\\nthe punctuation, since we had limited punctionation in those days.\\r\\n\\r\\nThis document does NOT include the amendments, as the Bill of Rights was\\r\\none of our earlier Project Gutenberg Etexts, and the others will be sent\\r\\nin a separate posting.\\r\\n\\r\\n***\\r\\n\\r\\nWe would ask that any Consitutional scholars would please take a minute,\\r\\nor longer, to send us a note concerning possible corrections.\\r\\n\\r\\n***\\r\\n\\r\\n\\r\\n\\r\\nTHE CONSTITUTION OF THE UNITED STATES OF AMERICA, 1787\\r\\n\\r\\n\\r\\n\\r\\nWe the people of the United States, in Order to form a more perfect Union,\\r\\nestablish Justice, insure domestic Tranquility, provide for the common defence,\\r\\npromote the general Welfare, and secure the Blessings of Liberty to ourselves\\r\\nand our Posterity, do ordain and establish this Constitution for the\\r\\nUnited States of America.\\r\\n\\r\\n\\r\\nArticle 1\\r\\n\\r\\nSection 1.  All legislative Powers herein granted shall be vested in a\\r\\nCongress of the United States, which shall consist of a Senate and\\r\\nHouse of Representatives.\\r\\n\\r\\nSection 2.  The House of Representatives shall be composed of Members\\r\\nchosen every second Year by the People of the several States,\\r\\nand the electors in each State shall have the qualifications requisite\\r\\nfor electors of the most numerous branch of the State legislature.\\r\\n\\r\\nNo Person shall be a Representative who shall not have attained to the\\r\\nAge of twenty five Years, and been seven Years a citizen of the United States,\\r\\nand who shall not, when elected, be an Inhabitant of that State in which\\r\\nhe shall be chosen.\\r\\n\\r\\nRepresentatives and direct Taxes shall be apportioned among\\r\\nthe several States which may be included within this Union,\\r\\naccording to their respective Numbers, which shall be determined\\r\\nby adding to the whole number of free Persons, including those\\r\\nbound to Service for a Term of Years, and excluding Indians not taxed,\\r\\nthree fifths of all other Persons.  The actual Enumeration shall be made\\r\\nwithin three Years after the first Meeting of the Congress of the\\r\\nUnited States, and within every subsequent Term of ten Years,\\r\\nin such Manner as they shall by law Direct.  The number of\\r\\nRepresentatives shall not exceed one for every thirty Thousand,\\r\\nbut each State shall have at least one Representative;\\r\\nand until such enumeration shall be made, the State of New Hampshire\\r\\nshall be entitled to chuse three, Massachusetts eight, Rhode Island\\r\\nand Providence Plantations one, Connecticut five, New York six,\\r\\nNew Jersey four, Pennsylvania eight, Delaware one, Maryland six,\\r\\nVirginia ten, North Carolina five, South Carolina five, and Georgia three.\\r\\n\\r\\nWhen vacancies happen in the Representation from any State, the Executive\\r\\nAuthority thereof shall issue Writs of Election to fill such Vacancies.\\r\\n\\r\\nThe House of Representatives shall chuse their Speaker and other Officers;\\r\\nand shall have the sole Power of Impeachment.\\r\\n\\r\\nSection 3.  The Senate of the United States shall be composed of\\r\\ntwo Senators from each State, chosen by the legislature thereof,\\r\\nfor six Years; and each Senator shall have one Vote.\\r\\n\\r\\nImmediately after they shall be assembled in Consequence of the first Election,\\r\\nthey shall be divided as equally as may be into three Classes.  The Seats of\\r\\nthe Senators of the first Class shall be vacated at the expiration of the\\r\\nsecond Year, of the second Class at the expiration of the fourth Year,\\r\\nand of the third Class at the expiration of the sixth Year, so that one third\\r\\nmay be chosen every second Year; and if vacancies happen by Resignation,\\r\\nor otherwise, during the recess of the Legislature of any State,\\r\\nthe Executive thereof may make temporary Appointments until the\\r\\nnext meeting of the Legislature, which shall then fill such Vacancies.\\r\\n\\r\\nNo person shall be a Senator who shall not have attained to the Age of\\r\\nthirty Years, and been nine Years a Citizen of the United States,\\r\\nand who shall not, when elected, be an Inhabitant of that State\\r\\nfor which he shall be chosen.\\r\\n\\r\\nThe Vice-President of the United States shall be President of the Senate,\\r\\nbut shall have no Vote, unless they be equally divided.\\r\\n\\r\\nThe Senate shall choose their other Officers, and also a President\\r\\npro tempore, in the Absence of the Vice-President, or when he shall\\r\\nexercise the Office of President of the United States.\\r\\n\\r\\nThe Senate shall have the sole Power to try all Impeachments.\\r\\nWhen sitting for that Purpose, they shall be on Oath or Affirmation.\\r\\nWhen the President of the United States is tried, the Chief Justice\\r\\nshall preside: And no Person shall be convicted without the Concurrence\\r\\nof two thirds of the Members present.\\r\\n\\r\\nJudgment in cases of Impeachment shall not extend further than to removal\\r\\nfrom Office, and disqualification to hold and enjoy any Office of honor,\\r\\nTrust or Profit under the United States:  but the Party convicted shall\\r\\nnevertheless be liable and subject to Indictment, Trial, Judgment and\\r\\nPunishment, according to Law.\\r\\n\\r\\nSection 4.  The Times, Places and Manner of holding Elections for Senators and\\r\\nRepresentatives, shall be prescribed in each State by the Legislature thereof;\\r\\nbut the Congress may at any time by Law make or alter such Regulations,\\r\\nexcept as to the Places of chusing Senators.\\r\\n\\r\\nThe Congress shall assemble at least once in every Year,\\r\\nand such Meeting shall be on the first Monday in December,\\r\\nunless they shall by law appoint a different Day.\\r\\n\\r\\n\\r\\nSection 5.  Each House shall be the Judge of the Elections,\\r\\nReturns and Qualifications of its own Members, and a\\r\\nMajority of each shall constitute a Quorum to do Business;\\r\\nbut a smaller Number may adjourn from day to day,\\r\\nand may be authorized to compel the Attendance of absent Members,\\r\\nin such Manner, and under such Penalties as each House may provide.\\r\\n\\r\\nEach house may determine the Rules of its Proceedings,\\r\\npunish its Members for disorderly Behavior, and, with the\\r\\nConcurrence of two-thirds, expel a Member.\\r\\n\\r\\nEach house shall keep a Journal of its Proceedings,\\r\\nand from time to time publish the same, excepting such Parts as may\\r\\nin their Judgment require Secrecy; and the Yeas and Nays of the\\r\\nMembers of either House on any question shall, at the Desire of\\r\\none fifth of those Present, be entered on the Journal.\\r\\n\\r\\nNeither House, during the Session of Congress, shall, without the\\r\\nConsent of the other, adjourn for more than three days, nor to\\r\\nany other Place than that in which the two Houses shall be sitting.\\r\\n\\r\\nSection 6.  The Senators and Representatives shall receive a Compensation\\r\\nfor their Services, to be ascertained by Law, and paid out of the Treasury\\r\\nof the United States.  They shall in all Cases, except Treason, Felony and\\r\\nBreach of the Peace, be privileged from Arrest during their Attendance\\r\\nat the Session of their respective Houses, and in going to and returning\\r\\nfrom the same; and for any Speech or Debate in either House,\\r\\nthey shall not be questioned in any other Place.\\r\\n\\r\\nNo Senator or Representative shall, during the Time for which he was elected,\\r\\nbe appointed to any civil Office under the authority of the United States,\\r\\nwhich shall have been created, or the Emoluments whereof shall have been\\r\\nincreased during such time; and no Person holding any Office under the\\r\\nUnited States, shall be a Member of either House during his Continuance\\r\\nin Office.\\r\\n\\r\\nSection 7.  All Bills for raising Revenue shall originate in the\\r\\nHouse of Representatives; but the Senate may propose or concur with\\r\\nAmendments as on other Bills.\\r\\n\\r\\nEvery Bill which shall have passed the House of Representatives and\\r\\nthe Senate, shall, before it become a Law, be presented to the\\r\\nPresident of the United States; If he approve he shall sign it,\\r\\nbut if not he shall return it, with his Objections to that House\\r\\nin which it shall have originated, who shall enter the Objections\\r\\nat large on their Journal, and proceed to reconsider it.\\r\\nIf after such Reconsideration two thirds of that house\\r\\nshall agree to pass the Bill, it shall be sent,\\r\\ntogether with the Objections, to the other House, by which\\r\\nit shall likewise be reconsidered, and if approved by two thirds\\r\\nof that House, it shall become a law.  But in all such Cases\\r\\nthe Votes of both Houses shall be determined by Yeas and Nays,\\r\\nand the Names of the Persons voting for and against the Bill shall be\\r\\nentered on the Journal of each House respectively.  If any Bill\\r\\nshall not be returned by the President within ten Days (Sundays excepted)\\r\\nafter it shall have been presented to him, the Same shall be a Law,\\r\\nin like Manner as if he had signed it, unless the Congress by their\\r\\nAdjournment prevent its Return, in which case it shall not be a Law.\\r\\n\\r\\nEvery Order, Resolution, or Vote to which the Concurrence of the Senate\\r\\nand House of Representatives may be necessary (except on a question\\r\\nof Adjournment) shall be presented to the President of the United States;\\r\\nand before the Same shall take Effect, shall be approved by him,\\r\\nor being disapproved by him, shall be repassed by two thirds of\\r\\nthe Senate and House of Representatives, according to the Rules\\r\\nand Limitations prescribed in the Case of a Bill.\\r\\n\\r\\nSection 8.  The Congress shall have Power to lay and collect Taxes, Duties,\\r\\nImposts and Excises, to pay the Debts and provide for the common Defence\\r\\nand general Welfare of the United States; but all Duties, Imposts and Excises\\r\\nshall be uniform throughout the United States;\\r\\n\\r\\nTo borrow Money on the credit of the United States;\\r\\n\\r\\nTo regulate Commerce with foreign Nations, and among the several States,\\r\\nand with the Indian Tribes;\\r\\n\\r\\nTo establish an uniform Rule of Naturalization, and uniform Laws\\r\\non the subject of Bankruptcies throughout the United States;\\r\\n\\r\\nTo coin Money, regulate the Value thereof, and of foreign Coin,\\r\\nand fix the Standard of Weights and Measures;\\r\\n\\r\\nTo provide for the Punishment of counterfeiting the Securities\\r\\nand current Coin of the United States;\\r\\n\\r\\nTo establish Post Offices and Post Roads;\\r\\n\\r\\nTo promote the Progress of Science and useful Arts, by securing\\r\\nfor limited Times to Authors and Inventors the exclusive Right\\r\\nto their respective Writings and Discoveries;\\r\\n\\r\\nTo constitute Tribunals inferior to the supreme Court;\\r\\n\\r\\nTo define and punish Piracies and Felonies committed on the high Seas,\\r\\nand Offenses against the Law of Nations;\\r\\n\\r\\nTo declare War, grant Letters of Marque and Reprisal,\\r\\nand make Rules concerning Captures on Land and Water;\\r\\n\\r\\nTo raise and support Armies, but no Appropriation of Money to that Use\\r\\nshall be for a longer term than two Years;\\r\\n\\r\\nTo provide and maintain a Navy;\\r\\n\\r\\nTo make Rules for the Government and Regulation of the land and naval Forces;\\r\\n\\r\\nTo provide for calling forth the Militia to execute the Laws of the Union,\\r\\nsuppress Insurrections and repel Invasions;\\r\\n\\r\\nTo provide for organizing, arming, and disciplining, the Militia, and for\\r\\ngoverning such Part of them as may be employed in the Service of the\\r\\nUnited States, reserving to the States respectively, the Appointment\\r\\nof the Officers, and the Authority of training the militia according\\r\\nto the discipline prescribed by Congress;\\r\\n\\r\\nTo exercise exclusive Legislation in all Cases whatsoever,\\r\\nover such District (not exceeding ten Miles square) as may,\\r\\nby Cession of particular States, and the Acceptance of Congress,\\r\\nbecome the Seat of the Government of the United States, and to\\r\\nexercise like Authority over all Places purchased by the Consent\\r\\nof the Legislature of the State in which the Same shall be,\\r\\nfor the Erection of Forts, Magazines, Arsenals, Dockyards,\\r\\nand other needful Buildings;--And\\r\\n\\r\\nTo make all Laws which shall be necessary and proper for carrying\\r\\ninto Execution the foregoing Powers, and all other Powers vested\\r\\nby this Constitution in the Government of the United States,\\r\\nor in any Department or Officer thereof.\\r\\n\\r\\nSection 9.  The Migration or Importation of such Persons as any\\r\\nof the States now existing shall think proper to admit, shall not\\r\\nbe prohibited by the Congress prior to the Year one thousand eight\\r\\nhundred and eight, but a Tax or Duty may be imposed on such Importation,\\r\\nnot exceeding ten dollars for each Person.\\r\\n\\r\\nThe Privilege of the Writ of Habeas Corpus shall not be suspended, unless\\r\\nwhen in Cases of Rebellion or Invasion the public Safety may require it.\\r\\n\\r\\nNo Bill of Attainder or ex post facto Law shall be passed.\\r\\n\\r\\nNo Capitation, or other direct, Tax shall be laid, unless in Proportion\\r\\nto the Census or Enumeration herein before directed to be taken.\\r\\n\\r\\nNo Tax or Duty shall be laid on Articles exported from any State.\\r\\n\\r\\nNo Preference shall be given by any Regulation of Commerce or Revenue\\r\\nto the Ports of one State over those of another: nor shall Vessels bound to,\\r\\nor from, one State, be obliged to enter, clear, or pay Duties in another.\\r\\n\\r\\nNo Money shall be drawn from the Treasury, but in Consequence\\r\\nof Appropriations made by Law; and a regular Statement and Account\\r\\nof the Receipts and Expenditures of all public Money shall be\\r\\npublished from time to time.\\r\\n\\r\\nNo Title of Nobility shall be granted by the United States;\\r\\nand no Person holding any Office of Profit or Trust under them, shall,\\r\\nwithout the Consent of the Congress, accept of any present, Emolument,\\r\\nOffice, or Title, of any kind whatever, from any King, Prince,\\r\\nor foreign State.\\r\\n\\r\\nSection 10.  No State shall enter into any Treaty, Alliance, or\\r\\nConfederation; grant Letters of Marque and Reprisal; coin Money;\\r\\nemit Bills of Credit; make any Thing but gold and silver Coin a Tender\\r\\nin Payment of Debts; pass any Bill of Attainder, ex post facto Law,\\r\\nor Law impairing the Obligation of Contracts, or grant any Title of Nobility.\\r\\n\\r\\nNo State shall, without the Consent of the Congress, lay any Imposts or Duties\\r\\non Imports or Exports, except what may be absolutely necessary for executing\\r\\nit\\'s inspection Laws: and the net Produce of all Duties and Imposts,\\r\\nlaid by any State on Imports or Exports, shall be for the Use of the Treasury\\r\\nof the United States; and all such Laws shall be subject to the Revision\\r\\nand Controul of the Congress.\\r\\n\\r\\n\\r\\nNo State shall, without the Consent of Congress, lay any Duty of\\r\\nTonnage, keep Troops, or Ships of War in time of Peace, enter into any\\r\\nAgreement or Compact with another State, or with a foreign Power, or\\r\\nengage in War, unless actually invaded, or in such imminent Danger\\r\\nas will not admit of delay.\\r\\n\\r\\nARTICLE 2\\r\\n\\r\\nSection 1.  The executive Power shall be vested in a President\\r\\nof the United States of America.  He shall hold his Office during\\r\\nthe Term of four Years, and, together with the Vice President\\r\\nchosen for the same Term, be elected, as follows:\\r\\n\\r\\nEach State shall appoint, in such Manner as the Legislature thereof may direct,\\r\\na Number of Electors, equal to the whole Number of Senators and Representatives\\r\\nto which the State may be entitled in the Congress:  but no Senator or\\r\\nRepresentative, or Person holding an Office of Trust or Profit under\\r\\nthe United States, shall be appointed an Elector.\\r\\n\\r\\nThe Electors shall meet in their respective States, and vote by Ballot\\r\\nfor two Persons, of whom one at least shall not lie an Inhabitant of\\r\\nthe same State with themselves.  And they shall make a List of\\r\\nall the Persons voted for, and of the Number of Votes for each;\\r\\nwhich List they shall sign and certify, and transmit sealed to\\r\\nthe Seat of the Government of the United States, directed to the\\r\\nPresident of the Senate.  The President of the Senate shall,\\r\\nin the Presence of the Senate and House of Representatives,\\r\\nopen all the Certificates, and the Votes shall then be counted.\\r\\nThe Person having the greatest Number of Votes shall be the President,\\r\\nif such Number be a Majority of the whole Number of Electors appointed;\\r\\nand if there be more than one who have such Majority, and have an equal\\r\\nNumber of votes, then the House of Representatives shall immediately\\r\\nchuse by Ballot one of them for President; and if no Person have\\r\\na Majority, then from the five highest on the List the said House\\r\\nshall in like Manner chuse the President.  But in chusing the President,\\r\\nthe Votes shall be taken by States, the Representation from each State\\r\\nhaving one Vote; a Quorum for this Purpose shall consist of a Member\\r\\nor Members from two thirds of the States, and a Majority of all the\\r\\nStates shall be necessary to a Choice.  In every Case, after the Choice\\r\\nof the President, the Person having the greatest Number of Votes of\\r\\nthe Electors shall be the Vice President.  But if there should remain\\r\\ntwo or more who have equal Votes, the Senate shall chuse from them\\r\\nby Ballot the Vice President.\\r\\n\\r\\nThe Congress may determine the Time of chusing the Electors,\\r\\nand the Day on which they shall give their Votes; which Day\\r\\nshall be the same throughout the United States.\\r\\n\\r\\nNo Person except a natural born Citizen, or a Citizen of the United States,\\r\\nat the time of the Adoption of this Constitution, shall be eligible to\\r\\nthe Office of President; neither shall any Person be eligible to that\\r\\nOffice who shall not have attained to the Age of thirty five Years,\\r\\nand been fourteen Years a Resident within the United States.\\r\\n\\r\\nIn Case of the Removal of the President from Office, or of his Death,\\r\\nResignation, or Inability to discharge the Powers and Duties of the\\r\\nsaid Office, the Same shall devolve on the Vice President, and the\\r\\nCongress may by Law provide for the Case of Removal, Death, Resignation\\r\\nor Inability, both of the President and Vice President, declaring what\\r\\nOfficer shall then act as President, and such Officer shall act accordingly,\\r\\nuntil the Disability be removed, or a President shall be elected.\\r\\n\\r\\nThe President shall, at stated Times, receive for his Services,\\r\\na Compensation, which shall neither be encreased nor diminished during\\r\\nthe Period for which he shall have been elected, and he shall not receive\\r\\nwithin that Period any other Emolument from the United States, or any of them.\\r\\n\\r\\nBefore he enter on the Execution of his Office, he shall take the\\r\\nfollowing Oath or Affirmation:--\"I do solemnly swear (or affirm) that\\r\\nI will faithfully execute the Office of President of the United States,\\r\\nand will to the best of my Ability, preserve, protect and defend the\\r\\nConstitution of the United States.\"\\r\\n\\r\\nSection 2.  The President shall be Commander in Chief of the Army\\r\\nand Navy of the United States, and of the Militia of the several States,\\r\\nwhen called into the actual Service of the United States;\\r\\nhe may require the Opinion, in writing, of the principal Officer\\r\\nin each of the executive Departments, upon any Subject relating to\\r\\nthe Duties of their respective Offices, and he shall have Power\\r\\nto grant Reprieves and Pardons for Offenses against the United States,\\r\\nexcept in Cases of impeachment.\\r\\n\\r\\nHe shall have Power, by and with the Advice and Consent of the\\r\\nSenate, to make Treaties, provided two thirds of the Senators\\r\\npresent concur; and he shall nominate, and by and with the Advice\\r\\nand Consent of the Senate, shall appoint Ambassadors, other public\\r\\nMinisters and Consuls, Judges of the supreme Court, and all other\\r\\nOfficers of the United States, whose Appointments are not herein\\r\\notherwise provided for, and which shall be established by Law:\\r\\nbut the Congress may by Law vest the Appointment of such inferior Officers,\\r\\nas they think proper, in the President alone, in the Courts of Law,\\r\\nor in the Heads of Departments.\\r\\n\\r\\nThe President shall have Power to fill up all Vacancies that may happen\\r\\nduring the Recess of the Senate, by granting Commissions which shall\\r\\nexpire at the End of their next session.\\r\\n\\r\\nSection 3.  He shall from time to time give to the Congress\\r\\nInformation of the State of the Union, and recommend to their\\r\\nConsideration such Measures as he shall judge necessary and expedient;\\r\\nhe may, on extraordinary Occasions, convene both Houses, or either\\r\\nof them, and in Case of Disagreement between them, with Respect to\\r\\nthe Time of Adjournment, he may adjourn them to such Time as he shall\\r\\nthink proper; he shall receive Ambassadors and other public Ministers;\\r\\nhe shall take Care that the Laws be faithfully executed, and shall\\r\\nCommission all the Officers of the United States.\\r\\n\\r\\nSection 4.  The President, Vice President and all civil Officers of the\\r\\nUnited States, shall be removed from Office on Impeachment for,\\r\\nand Conviction of, Treason, Bribery, or other high Crimes and Misdemeanors.\\r\\n\\r\\nARTICLE THREE\\r\\n\\r\\nSection 1.  The judicial Power of the United States, shall be vested\\r\\nin one supreme Court, and in such inferior Courts as the Congress may\\r\\nfrom time to time ordain and establish.  The Judges, both of the supreme\\r\\nand inferior Courts, shall hold their Offices during good behavior,\\r\\nand shall, at stated Times, receive for their Services, a Compensation,\\r\\nwhich shall not be diminished during their Continuance in Office.\\r\\n\\r\\nSection 2.  The judicial Power shall extend to all Cases, in Law and Equity,\\r\\narising under this Constitution, the Laws of the United States, and Treaties\\r\\nmade, or which shall be made, under their Authority;--to all Cases affecting\\r\\nAmbassadors, other public Ministers and Consuls;--to all Cases of admiralty\\r\\nand maritime Jurisdiction;--to Controversies to which the United States\\r\\nshall be a Party;--to Controversies between two or more States;--between a\\r\\nState and Citizens of another State;--between Citizens of different States;\\r\\n--between Citizens of the same State claiming Lands under Grants of\\r\\ndifferent States, and between a State, or the Citizens thereof,\\r\\nand foreign States, Citizens or Subjects.\\r\\n\\r\\nIn all cases affecting Ambassadors, other public Ministers and Consuls,\\r\\nand those in which a State shall be Party, the supreme Court shall have\\r\\noriginal Jurisdiction.  In all the other Cases before mentioned, the\\r\\nsupreme Court shall have appellate Jurisdiction, both as to Law and Fact,\\r\\nwith such Exceptions, and under such Regulations as the Congress shall make.\\r\\n\\r\\nThe Trial of all Crimes, except in Cases of Impeachment, shall be by Jury;\\r\\nand such Trial shall be held in the State where the said Crimes shall\\r\\nhave been committed; but when not committed within any State, the Trial\\r\\nshall be at such Place or Places as the Congress may by Law have directed.\\r\\n\\r\\nSection 3.  Treason against the United States, shall consist only in\\r\\nlevying War against them, or in adhering to their Enemies, giving them\\r\\nAid and Comfort.  No Person shall be convicted of Treason unless on\\r\\nthe Testimony of two Witnesses to the same overt Act, or on Confession\\r\\nin open Court.\\r\\n\\r\\nThe Congress shall have power to declare the punishment of Treason,\\r\\nbut no Attainder of Treason shall work Corruption of Blood,\\r\\nor Forfeiture except during the Life of the Person attainted.\\r\\n\\r\\n\\r\\nARTICLE FOUR\\r\\n\\r\\nSection 1.  Full Faith and Credit shall be given in each State to the\\r\\npublic Acts, Records, and judicial Proceedings of every other State.\\r\\nAnd the Congress may by general Laws prescribe the Manner in which such Acts,\\r\\nRecords, and Proceedings shall be proved, and the Effect thereof.\\r\\n\\r\\n\\r\\nSection 2.  The Citizens of each State shall be entitled to all\\r\\nPrivileges and Immunities of Citizens in the several States.\\r\\n\\r\\nA Person charged in any State with Treason, Felony, or other Crime,\\r\\nwho shall flee from Justice, and be found in another State,\\r\\nshall on Demand of the executive Authority of the State from\\r\\nwhich he fled, be delivered up, to be removed to the State having\\r\\nJurisdiction of the Crime.\\r\\n\\r\\nNo person held to Service or Labor in one State, under the Laws thereof,\\r\\nescaping into another, shall, in Consequence of any Law or Regulation therein,\\r\\nbe discharged from such Service or Labor, But shall be delivered up on Claim\\r\\nof the Party to whom such Service or Labor may be due.\\r\\n\\r\\n\\r\\nSection 3.  New States may be admitted by the Congress into this Union;\\r\\nbut no new States shall be formed or erected within the Jurisdiction\\r\\nof any other State; nor any State be formed by the Junction of two\\r\\nor more States, or Parts of States, without the Consent of the\\r\\nLegislatures of the States concerned as well as of the Congress.\\r\\n\\r\\nThe Congress shall have Power to dispose of and make all needful Rules\\r\\nand Regulations respecting the Territory or other Property belonging\\r\\nto the United States; and nothing in this Constitution shall be so\\r\\nconstrued as to Prejudice any Claims of the United States,\\r\\nor of any particular State.\\r\\n\\r\\nSection 4.  The United States shall guarantee to every State in this Union\\r\\na Republican Form of Government, and shall protect each of them against\\r\\nInvasion; and on Application of the Legislature, or of the Executive\\r\\n(when the Legislature cannot be convened) against domestic Violence.\\r\\n\\r\\n\\r\\nARTICLE FIVE\\r\\n\\r\\nThe Congress, whenever two thirds of both Houses shall deem it necessary,\\r\\nshall propose Amendments to this Constitution, or, on the Application of\\r\\nthe Legislatures of two thirds of the several States, shall call a Convention\\r\\nfor proposing Amendments, which, in either Case, shall be valid to all Intents\\r\\nand Purposes, as Part of this Constitution, when ratified by the Legislatures\\r\\nof three fourths of the several States, or by Conventions in three fourths\\r\\nthereof, as the one or the other Mode of Ratification may be proposed by\\r\\nthe Congress; Provided that no Amendment which may be made prior to the\\r\\nYear one thousand eight hundred and eight shall in any Manner affect\\r\\nthe first and fourth Clauses in the ninth Section of the first Article;\\r\\nand that no State, without its Consent, shall be deprived of it\\'s\\r\\nequal Suffrage in the Senate.\\r\\n\\r\\nARTICLE SIX\\r\\n\\r\\nAll Debts contracted and Engagements entered into, before the Adoption\\r\\nof this Constitution, shall be as valid against the United States\\r\\nunder this Constitution, as under the Confederation.\\r\\n\\r\\nThis Constitution, and the Laws of the United States which shall be made\\r\\nin Pursuance thereof; and all Treaties made, or which shall be made,\\r\\nunder the Authority of the United States, shall be the supreme\\r\\nLaw of the Land; and the Judges in every State shall be bound thereby,\\r\\nany Thing in the Constitution or Laws of any State to the Contrary\\r\\nnotwithstanding.\\r\\n\\r\\nThe Senators and Representatives before mentioned, and the Members of the\\r\\nseveral State Legislatures, and all executive and judicial Officers,\\r\\nboth of the United States and of the several States, shall be bound\\r\\nby Oath or Affirmation, to support this Constitution; but no religious\\r\\nTest shall ever be required as a Qualification to any Office or public Trust\\r\\nunder the United States\\r\\n\\r\\nARTICLE SEVEN\\r\\n\\r\\nThe Ratification of the Conventions of nine States, shall be sufficient for the\\r\\nEstablishment of this Constitution between the States so ratifying the Same.\\r\\n\\r\\nDone in Convention by the Unanimous Consent of the States present\\r\\nthe Seventeenth Day of September in the Year of our Lord one\\r\\nthousand seven hundred and eighty seven and of the Independence of the\\r\\nUnited States of America the Twelfth        In Witness whereof We have\\r\\nhereunto subscribed our Names,\\r\\n\\r\\nGo. WASHINGTON--\\r\\nPresid. and deputy from Virginia\\r\\n\\r\\nNew Hampshire\\r\\n\\r\\nJohn Langdon\\r\\nNicholas Gilman\\r\\n\\r\\nMassachusetts\\r\\n\\r\\nNathaniel Gorham\\r\\nRufus King\\r\\n\\r\\nConnecticut\\r\\n\\r\\nWm. Saml. Johnson\\r\\nRoger herman\\r\\n\\r\\nNew York\\r\\n\\r\\nAlexander Hamilton\\r\\n\\r\\nNew Jersey\\r\\n\\r\\nWil: Livingston\\r\\nDavid Brearley\\r\\nWm. Paterson\\r\\nJona: Dayton\\r\\n\\r\\nPennsylvania\\r\\n\\r\\nB Franklin\\r\\nThomas Mifflin\\r\\nRobt Morris\\r\\nGeo. Clymer\\r\\nThos FitzSimons\\r\\nJared Ingersoll\\r\\nJames Wilson\\r\\nGouv Morris\\r\\n\\r\\nDelaware\\r\\n\\r\\nGeo: Read\\r\\nGunning Bedford jun\\r\\nJohn Dickinson\\r\\nRichard Bassett\\r\\nJaco: Broom\\r\\n\\r\\nMaryland\\r\\n\\r\\nJames Mchenry\\r\\nDan of St Thos. Jenifer\\r\\nDanl Carroll\\r\\n\\r\\nVirginia\\r\\n\\r\\nJohn Blair--\\r\\nJames Madison Jr.\\r\\n\\r\\nNorth Carolina\\r\\n\\r\\nWm. Blount\\r\\nRich\\'d Dobbs Spaight\\r\\nHu Williamson\\r\\n\\r\\nSouth Carolina\\r\\n\\r\\nJ. Rutledge\\r\\nCharles Cotesworth Pinckney\\r\\nCharles Pinckney\\r\\nPierce Butler\\r\\n\\r\\nGeorgia\\r\\n\\r\\nWilliam Few\\r\\nAbr Baldwin\\r\\n\\r\\n\\r\\nAttest:\\r\\nWilliam Jackson, Secretary\\r\\n\\r\\n\\r\\n\\r\\n\\r\\nDecember, 1975  [Etext #6]\\r\\n\\r\\n\\r\\nThe Project Gutenberg Etext of Give Me LIberty Or Give Me Death\\r\\n\\r\\nOfficially released in December 1975, unofficially released for\\r\\nthe 200th anniversary of the speech by Patrick Henry before the\\r\\n\"House\" as he referred to it. [Which was the Virgina Provincial\\r\\nConvention, March 23, 1775]\\r\\n\\r\\n\\r\\nGive Me Liberty Or Give Me Death\\r\\n\\r\\n\\r\\nPatrick Henry, March 23, 1775.\\r\\n\\r\\n\\r\\nNo man thinks more highly than I do of the patriotism, as well as abilities,\\r\\nof the very worthy gentlemen who have just addressed the House.  But different\\r\\nmen often see the same subject in different lights; and, therefore, I hope it\\r\\nwill not be thought disrespectful to those gentlemen if, entertaining as I do\\r\\nopinions of a character very opposite to theirs, I shall speak forth my\\r\\nsentiments freely and without reserve.  This is no time for ceremony.\\r\\nThe questing before the House is one of awful moment to this country.\\r\\nFor my own part, I consider it as nothing less than a question of\\r\\nfreedom or slavery; and in proportion to the magnitude of the subject\\r\\nought to be the freedom of the debate.  It is only in this way that\\r\\nwe can hope to arrive at truth, and fulfill the great responsibility\\r\\nwhich we hold to God and our country.  Should I keep back my opinions\\r\\nat such a time, through fear of giving offense, I should consider myself\\r\\nas guilty of treason towards my country, and of an act of disloyalty\\r\\ntoward the Majesty of Heaven, which I revere above all earthly kings.\\r\\n\\r\\nMr. President, it is natural to man to indulge in the illusions of hope.\\r\\nWe are apt to shut our eyes against a painful truth, and listen to the\\r\\nsong of that siren till she transforms us into beasts.  Is this the part\\r\\nof wise men, engaged in a great and arduous struggle for liberty?\\r\\nAre we disposed to be of the number of those who, having eyes, see not,\\r\\nand, having ears, hear not, the things which so nearly concern their\\r\\ntemporal salvation?  For my part, whatever anguish of spirit it may cost,\\r\\nI am willing to know the whole truth; to know the worst, and to provide for it.\\r\\n\\r\\nI have but one lamp by which my feet are guided, and that is the lamp of\\r\\nexperience.  I know of no way of judging of the future but by the past.\\r\\nAnd judging by the past, I wish to know what there has been in the conduct\\r\\nof the British ministry for the last ten years to justify those hopes with\\r\\nwhich  gentlemen have been pleased to solace themselves and the House.\\r\\nIs it that insidious smile with which our petition has been lately received?\\r\\nTrust it not, sir; it will prove a snare to your feet.  Suffer not yourselves\\r\\nto be betrayed with a kiss.  Ask yourselves how this gracious reception of our\\r\\npetition comports with those warlike preparations which cover our waters and\\r\\ndarken our land.  Are fleets and armies necessary to a work of love and\\r\\nreconciliation?  Have we shown ourselves so unwilling to be reconciled that\\r\\nforce must be called in to win back our love?  Let us not deceive ourselves,\\r\\nsir.  These are the implements of war and subjugation; the last arguments to\\r\\nwhich kings resort.  I ask gentlemen, sir, what means this martial array, if\\r\\nits purpose be not to force us to submission?  Can gentlemen assign any other\\r\\npossible motive for it?  Has Great Britain any enemy, in this quarter of\\r\\nthe world, to call for all this accumulation of navies and armies?  No, sir,\\r\\nshe has none.  They are meant for us:  they can be meant for no other.\\r\\nThey are sent over to bind and rivet upon us those chains which the British\\r\\nministry have been so long forging.  And what have we to oppose to them?\\r\\nShall we try argument?  Sir, we have been trying that for the last ten years.\\r\\nHave we anything new to offer upon the subject?  Nothing.  We have held the\\r\\nsubject up in every light of which it is capable; but it has been all in vain.\\r\\nShall we resort to entreaty and humble supplication?  What terms shall we\\r\\nfind which have not been already exhausted?  Let us not, I beseech you, sir,\\r\\ndeceive ourselves.  Sir, we have done everything that could be done to avert\\r\\nthe storm which is now coming on.  We have petitioned; we have remonstrated;\\r\\nwe have supplicated; we have prostrated ourselves before the throne, and have\\r\\nimplored its interposition to arrest the tyrannical hands of the ministry and\\r\\nParliament.  Our petitions have been slighted; our remonstrances have produced\\r\\nadditional violence and insult; our supplications have been disregarded;\\r\\nand we have been spurned, with contempt, from the foot of the throne!\\r\\nIn vain, after these things, may we indulge the fond hope of peace and\\r\\nreconciliation.  There is no longer any room for hope.  If we wish to be free--\\r\\nif we mean to preserve inviolate those inestimable privileges for which\\r\\nwe have been so long contending--if we mean not basely to abandon the noble\\r\\nstruggle in which we have been so long engaged, and which we have pledged\\r\\nourselves never to abandon until the glorious object of our contest\\r\\nshall be obtained--we must fight!  I repeat it, sir, we must fight!\\r\\nAn appeal to arms  and to the God of hosts is all that is left us!\\r\\n\\r\\nThey tell us, sir, that we are weak; unable to cope with so formidable\\r\\nan adversary.  But when shall we be stronger?  Will it be the next week,\\r\\nor the next year?  Will it be when we are totally disarmed, and when a British\\r\\nguard shall be stationed in every house?  Shall we gather strength but\\r\\nirresolution and inaction?  Shall we acquire the means of effectual resistance\\r\\nby lying supinely on our backs and hugging the delusive phantom of hope, until\\r\\nour enemies shall have bound us hand and foot?  Sir, we are not weak if we make\\r\\na proper use of those means which the God of nature hath placed in our power.\\r\\nThe millions of people, armed in the holy cause of liberty, and in such a\\r\\ncountry as that which we possess, are invincible by any force which our enemy\\r\\ncan send against us.  Besides, sir, we shall not fight our battles alone.\\r\\nThere is a just God who presides over the destinies of nations, and who will\\r\\nraise up friends to fight our battles for us.  The battle, sir, is not to the\\r\\nstrong alone; it is to the vigilant, the active, the brave.  Besides, sir,\\r\\nwe have no election.  If we were base enough to desire it, it is now too late\\r\\nto retire from the contest.  There is no retreat but in submission and slavery!\\r\\nOur chains are forged!  Their clanking may be heard on the plains of Boston!\\r\\nThe war is inevitable--and let it come!  I repeat it, sir, let it come.\\r\\n\\r\\nIt is in vain, sir, to extenuate the matter.  Gentlemen may cry, Peace, Peace--\\r\\nbut there is no peace.  The war is actually begun!  The next gale that sweeps\\r\\nfrom the north will bring to our ears the clash of resounding arms!\\r\\nOur brethren are already in the field!  Why stand we here idle?\\r\\nWhat is it that gentlemen wish?  What would they have?  Is life so dear,\\r\\nor peace so sweet, as to be purchased at the price of chains and slavery?\\r\\nForbid it, Almighty God!  I know not what course others may take;\\r\\nbut as for me, give me liberty or give me death!\\r\\n\\r\\n\\r\\n\\r\\n\\r\\nOfficially released December 31, 1977  [Etext #7]\\r\\nOfficially re-released November 25, 1993\\r\\nIn honor of Thanksgiving\\r\\n\\r\\n******The Project Gutenberg Etext of The Mayflower Compact*****\\r\\n\\r\\n\\r\\n\\r\\nThe Mayflower Compact\\r\\n\\r\\nNovember 11, 1620  [This was November 21, old style calendar]\\r\\n\\r\\nIn the name of God, Amen.  We, whose names are underwritten,\\r\\nthe Loyal Subjects of our dread Sovereigne Lord, King James,\\r\\nby the Grace of God, of Great Britaine, France, and Ireland,\\r\\nKing, Defender of the Faith, &c.\\r\\n\\r\\nHaving undertaken for the Glory of God, and Advancement of\\r\\nthe Christian Faith, and the Honour of our King and Country,\\r\\na Voyage to plant the first colony in the Northerne Parts\\r\\nof Virginia; doe, by these Presents, solemnly and mutually\\r\\nin the Presence of God and one of another, covenant and\\r\\ncombine ourselves together into a civill Body Politick,\\r\\nfor our better Ordering and Preservation, and Furtherance\\r\\nof the Ends aforesaid; And by Virtue hereof do enact,\\r\\nconstitute, and frame, such just and equall Laws, Ordinances,\\r\\nActs, Constitutions, and Offices, from time to time,\\r\\nas shall be thought most meete and convenient for the\\r\\nGenerall Good of the Colonie; unto which we promise\\r\\nall due Submission and Obedience.\\r\\n\\r\\nIn Witness whereof we have hereunto subscribed our names\\r\\nat Cape Cod the eleventh of November, in the Raigne of our\\r\\nSovereigne Lord, King James of England, France, and Ireland,\\r\\nthe eighteenth, and of Scotland, the fiftie-fourth,\\r\\nAnno. Domini, 1620.\\r\\n\\r\\nMr. John Carver           Mr. Stephen Hopkins\\r\\nMr. William Bradford      Digery Priest\\r\\nMr. Edward Winslow        Thomas Williams\\r\\nMr. William Brewster      Gilbert Winslow\\r\\nIsaac Allerton            Edmund Margesson\\r\\nMiles Standish            Peter Brown\\r\\nJohn Alden                Richard Bitteridge\\r\\nJohn Turner               George Soule\\r\\nFrancis Eaton             Edward Tilly\\r\\nJames Chilton             John Tilly\\r\\nJohn Craxton              Francis Cooke\\r\\nJohn Billington           Thomas Rogers\\r\\nJoses Fletcher            Thomas Tinker\\r\\nJohn Goodman              John Ridgate\\r\\nMr. Samuel Fuller         Edward Fuller\\r\\nMr. Christopher Martin    Richard Clark\\r\\nMr. William Mullins       Richard Gardiner\\r\\nMr. William White         Mr. John Allerton\\r\\nMr. Richard Warren        Thomas English\\r\\nJohn Howland              Edward Doten\\r\\nEdward Liester\\r\\n\\r\\n\\r\\n\\r\\nDecember, 1978  [Etext #8]\\r\\n\\r\\n**The Project Gutenberg Etext of Lincoln\\'s 2nd Inaugural Address**\\r\\n\\r\\n\\r\\n\\r\\n\\r\\nLincoln\\'s Second Inaugural Address\\r\\nMarch 4, 1865\\r\\n\\r\\n\\r\\n\\r\\nFellow countrymen:  At this second appearing to take the oath\\r\\nof the presidential office, there is less occasion for an extended\\r\\naddress than there was at the first.  Then a statement, somewhat\\r\\nin detail, of a course to be pursued, seemed fitting and proper.\\r\\nNow, at the expiration of four years, during which public declarations\\r\\nhave been constantly called forth on every point and phase of the great\\r\\ncontest which still absorbs the attention and engrosses the energies\\r\\nof the nation, little that is new could be presented.  The progress\\r\\nof our arms, upon which all else chiefly depends, is as well known\\r\\nto the public as to myself; and it is, I trust, reasonably satisfactory\\r\\nand encouraging to all.  With high hope for the future, no prediction\\r\\nin regard to it is ventured.\\r\\n\\r\\nOn the occasion corresponding to this four years ago, all thoughts\\r\\nwere anxiously directed to an impending civil war.  All dreaded it--\\r\\nall sought to avert it.  While the inaugural address was being delivered\\r\\nfrom this place, devoted altogether to saving the Union without war,\\r\\ninsurgent agents were in the city seeking to destroy it without war--\\r\\nseeking to dissolve the Union, and divide effects, by negotiation.\\r\\nBoth parties deprecated war; but one of them would make war rather\\r\\nthan let the nation survive; and the other would accept war rather\\r\\nthan let it perish.  And the war came.\\r\\n\\r\\nOne-eighth of the whole population were colored slaves, not distributed\\r\\ngenerally over the Union, but localized in the Southern part of it.\\r\\nThese slaves constituted a peculiar and powerful interest.  All knew\\r\\nthat this interest was, somehow, the cause of the war.  To strengthen,\\r\\nperpetuate, and extend this interest was the object for which the\\r\\ninsurgents would rend the Union, even by war; while the government claimed\\r\\nno right to do more than to restrict the territorial enlargement of it.\\r\\n\\r\\nNeither party expected for the war the magnitude or the duration\\r\\nwhich it has already attained.  Neither anticipated that the cause\\r\\nof the conflict might cease with, or even before, the conflict itself\\r\\nshould cease.  Each looked for an easier triumph, and a result less\\r\\nfundamental and astounding.  Both read the same Bible, and pray\\r\\nto the same God; and each invokes his aid against the other.\\r\\nIt may seem strange that any men should dare to ask a just God\\'s\\r\\nassistance in wringing their bread from the sweat of other men\\'s faces;\\r\\nbut let us judge not, that we be not judged.  The prayers of both\\r\\ncould not be answered--that of neither has been answered fully.\\r\\n\\r\\nThe Almighty has his own purposes.  \"Woe unto the world because\\r\\nof offenses! for it must needs be that offenses come; but woe\\r\\nto that man by whom the offense cometh.\"  If we shall suppose\\r\\nthat American slavery is one of those offenses which, in the\\r\\nprovidence of God, must needs come, but which, having continued\\r\\nthrough his appointed time, he now wills to remove, and that he\\r\\ngives to both North and South this terrible war, as the woe due\\r\\nto those by whom the offense came, shall we discern therein any\\r\\ndeparture from those divine attributes which the believers in a\\r\\nliving God always ascribe to him?  Fondly do we hope--fervently\\r\\ndo we pray--that this mighty scourge of war may speedily pass away.\\r\\nYet, if God wills that it continue until all the wealth piled by\\r\\nthe bondsman\\'s two hundred and fifty years of unrequited toil\\r\\nshall be sunk, and until every drop of blood drawn by the lash\\r\\nshall be paid by another drawn with the sword, as was said\\r\\nthree thousand years ago, so still it must be said, \"The\\r\\njudgments of the Lord are true and righteous altogether.\"\\r\\n\\r\\nWith malice toward none; with charity for all; with firmness in\\r\\nthe right, as God gives us to see the right, let us strive on\\r\\nto finish the work we are in; to bind up the nation\\'s wounds;\\r\\nto care for him who shall have borne the battle, and for his widow,\\r\\nand his orphan--to do all which may achieve and cherish a just\\r\\nand lasting peace among ourselves, and with all nations.\\r\\n\\r\\n\\r\\n\\r\\n\\r\\nDecember, 1979  [Etext #9]\\r\\n\\r\\nThe Project Gutenberg Etext of Lincoln\\'s 1st Inaugural Address\\r\\n\\r\\n\\r\\n\\r\\nLincoln\\'s First Inaugural Address\\r\\nMarch 4, 1861\\r\\n\\r\\n\\r\\n\\r\\nFellow citizens of the United States:  in compliance with a custom as old\\r\\nas the government itself, I appear before you to address you briefly\\r\\nand to take, in your presence, the oath prescribed by the Constitution\\r\\nof the United States, to be taken by the President \"before he enters\\r\\non the execution of his office.\"\\r\\n\\r\\nI do not consider it necessary, at present, for me to discuss those matters\\r\\nof administration about which there is no special anxiety, or excitement.\\r\\n\\r\\nApprehension seems to exist among the people of the Southern States\\r\\nthat by the accession of a Republican administration their property\\r\\nand their peace and personal security are to be endangered.\\r\\nThere has never been any reasonable cause for such apprehension.\\r\\nIndeed, the most ample evidence to the contrary has all the while\\r\\nexisted and been open to their inspection.  It is found in\\r\\nnearly all the published speeches of him who now addresses you.\\r\\nI do but quote from one of those speeches when I declare that\\r\\n\"I have no purpose, directly or indirectly, to interfere with\\r\\nthe institution of slavery where it exists.  I believe I have\\r\\nno lawful right to do so, and I have no inclination to do so.\"\\r\\nThose who nominated and elected me did so with full knowledge\\r\\nthat I had made this and many similar declarations, and had\\r\\nnever recanted them.  And, more than this, they placed in the\\r\\nplatform for my acceptance, and as a law to themselves and to me,\\r\\nthe clear and emphatic resolution which I now read:\\r\\n\\r\\n\"Resolved:  that the maintenance inviolate\\r\\nof the rights of the States, and especially\\r\\nthe right of each State to order and control\\r\\nits own domestic institutions according to\\r\\nits own judgment exclusively, is essential\\r\\nto that balance of power on which the perfection\\r\\nand endurance of our political fabric depend,\\r\\nand we denounce the lawless invasion by armed\\r\\nforce of the soil of any State or Territory,\\r\\nno matter under what pretext,\\r\\nas among the gravest of crimes.\"\\r\\n\\r\\nI now reiterate these sentiments; and, in doing so, I only press upon\\r\\nthe public attention the most conclusive evidence of which the case\\r\\nis susceptible, that the property, peace, and security of no section\\r\\nare to be in any wise endangered by the now incoming administration.\\r\\nI add, too, that all the protection which, consistently with the\\r\\nConstitution and the laws, can be given, will be cheerfully given\\r\\nto all the States when lawfully demanded, for whatever cause--\\r\\nas cheerfully to one section as to another.\\r\\n\\r\\nThere is much controversy about the delivering up of fugitives\\r\\nfrom service or labor.  The clause I now read is as plainly\\r\\nwritten in the Constitution as any other of its provisions:\\r\\n\\r\\n\"No person held to service or labor in one State,\\r\\nunder the laws thereof, escaping into another,\\r\\nshall in consequence of any law or regulation\\r\\ntherein be discharged from such service or labor,\\r\\nbut shall be delivered up on claim of the party\\r\\nto whom such service or labor may be due.\"\\r\\n\\r\\nIt is scarcely questioned that this provision was intended by those\\r\\nwho made it for the reclaiming of what we call fugitive slaves;\\r\\nand the intention of the lawgiver is the law.  All members\\r\\nof Congress swear their support to the whole Constitution--\\r\\nto this provision as much as to any other.  To the proposition,\\r\\nthen, that slaves whose cases come within the terms of this clause\\r\\n\"shall be delivered up\", their oaths are unanimous.  Now, if they\\r\\nwould make the effort in good temper, could they not with nearly\\r\\nequal unanimity frame and pass a law by means of which to keep good\\r\\nthat unanimous oath?\\r\\n\\r\\nThere is some difference of opinion whether this clause should\\r\\nbe enforced by national or by State authority; but surely that\\r\\ndifference is not a very material one.  If the slave is to be\\r\\nsurrendered, it can be of but little consequence to him or to others\\r\\nby which authority it is done.  And should any one in any case be\\r\\ncontent that his oath shall go unkept on a merely unsubstantial\\r\\ncontroversy as to HOW it shall be kept?\\r\\n\\r\\nAgain, in any law upon this subject, ought not all the safeguards of\\r\\nliberty known in civilized and humane jurisprudence to be introduced,\\r\\nso that a free man be not, in any case, surrendered as a slave?\\r\\nAnd might it not be well at the same time to provide by law for the\\r\\nenforcement of that clause in the Constitution which guarantees that\\r\\n\"the citizen of each State shall be entitled to all privileged and\\r\\nimmunities of citizens in the several States?\"\\r\\n\\r\\nI take the official oath today with no mental reservations,\\r\\nand with no purpose to construe the Constitution or laws by\\r\\nany hypercritical rules.  And while I do not choose now to specify\\r\\nparticular acts of Congress as proper to be enforced, I do suggest\\r\\nthat it will be much safer for all, both in official and private stations,\\r\\nto conform to and abide by all those acts which stand unrepealed,\\r\\nthan to violate any of them, trusting to find impunity in having\\r\\nthem held to be unConstitutional.\\r\\n\\r\\nIt is seventy-two years since the first inauguration of a President\\r\\nunder our national Constitution.  During that period fifteen different\\r\\nand greatly distinguished citizens have, in succession, administered\\r\\nthe executive branch of the government.  They have conducted it through\\r\\nmany perils, and generally with great success.  Yet, with all this scope\\r\\nof precedent, I now enter upon the same task for the brief Constitutional\\r\\nterm of four years under great and peculiar difficulty.  A disruption of\\r\\nthe Federal Union, heretofore only menaced, is now formidably attempted.\\r\\n\\r\\nI hold that, in contemplation of universal law and of the Constitution,\\r\\nthe Union of these States is perpetual.  Perpetuity is implied,\\r\\nif not expressed, in the fundamental law of all national governments.\\r\\nIt is safe to assert that no government proper ever had a provision\\r\\nin its organic law for its own termination.  Continue to execute all\\r\\nthe express provisions of our National Constitution, and the Union will\\r\\nendure forever--it being impossible to destroy it except by some action\\r\\nnot provided for in the instrument itself.\\r\\n\\r\\nAgain, if the United States be not a government proper, but an association\\r\\nof States in the nature of contract merely, can it, as a contract,\\r\\nbe peaceably unmade by less than all the parties who made it?\\r\\nOne party to a contract may violate it--break it, so to speak;\\r\\nbut does it not require all to lawfully rescind it?\\r\\n\\r\\nDescending from these general principles, we find the proposition\\r\\nthat in legal contemplation the Union is perpetual confirmed by\\r\\nthe history of the Union itself.  The Union is much older than\\r\\nthe Constitution.  It was formed, in fact, by the Articles of\\r\\nAssociation in 1774.  It was matured and continued by the\\r\\nDeclaration of Independence in 1776.  It was further matured,\\r\\nand the faith of all the then thirteen States expressly plighted\\r\\nand engaged that it should be perpetual, by the Articles of Confederation\\r\\nin 1778.  And, finally, in 1787 one of the declared objects for ordaining\\r\\nand establishing the Constitution was \"TO FORM A MORE PERFECT UNION.\"\\r\\n\\r\\nBut if the destruction of the Union by one or by a part only of the States\\r\\nbe lawfully possible, the Union is LESS perfect than before the Constitution,\\r\\nhaving lost the vital element of perpetuity.\\r\\n\\r\\nIt follows from these views that no State upon its own mere motion\\r\\ncan lawfully get out of the Union; that Resolves and Ordinances\\r\\nto that effect are legally void; and that acts of violence,\\r\\nwithin any State or States, against the authority of the United States,\\r\\nare insurrectionary or revolutionary, according to circumstances.\\r\\n\\r\\nI therefore consider that, in view of the Constitution and the laws,\\r\\nthe Union is unbroken; and to the extent of my ability I shall take care,\\r\\nas the Constitution itself expressly enjoins upon me, that the\\r\\nlaws of the Union be faithfully executed in all the States.\\r\\nDoing this I deem to be only a simple duty on my part;\\r\\nand I shall perform it so far as practicable, unless my\\r\\nrightful masters, the American people, shall withhold the\\r\\nrequisite means, or in some authoritative manner direct the contrary.\\r\\nI trust this will not be regarded as a menace, but only as the\\r\\ndeclared purpose of the Union that it WILL Constitutionally\\r\\ndefend and maintain itself.\\r\\n\\r\\nIn doing this there needs to be no bloodshed or violence; and there\\r\\nshall be none, unless it be forced upon the national authority.\\r\\nThe power confided to me will be used to hold, occupy, and possess\\r\\nthe property and places belonging to the government, and to collect\\r\\nthe duties and imposts; but beyond what may be necessary for these objects,\\r\\nthere will be no invasion, no using of force against or among the people\\r\\nanywhere.  Where hostility to the United States, in any interior locality,\\r\\nshall be so great and universal as to prevent competent resident citizens\\r\\nfrom holding the Federal offices, there will be no attempt to force\\r\\nobnoxious strangers among the people for that object.  While the strict\\r\\nlegal right may exist in the government to enforce the exercise of\\r\\nthese offices, the attempt to do so would be so irritating,\\r\\nand so nearly impracticable withal, that I deem it better\\r\\nto forego for the time the uses of such offices.\\r\\n\\r\\nThe mails, unless repelled, will continue to be furnished in all parts\\r\\nof the Union.  So far as possible, the people everywhere shall have that\\r\\nsense of perfect security which is most favorable to calm thought\\r\\nand reflection.  The course here indicated will be followed unless current\\r\\nevents and experience shall show a modification or change to be proper,\\r\\nand in every case and exigency my best discretion will be exercised\\r\\naccording to circumstances actually existing, and with a view and\\r\\na hope of a peaceful solution of the national troubles and the\\r\\nrestoration of fraternal sympathies and affections.\\r\\n\\r\\nThat there are persons in one section or another who seek to destroy\\r\\nthe Union at all events, and are glad of any pretext to do it, I will\\r\\nneither affirm nor deny; but if there be such, I need address no word\\r\\nto them.  To those, however, who really love the Union may I not speak?\\r\\n\\r\\nBefore entering upon so grave a matter as the destruction of our\\r\\nnational fabric, with all its benefits, its memories, and its hopes,\\r\\nwould it not be wise to ascertain precisely why we do it?\\r\\nWill you hazard so desperate a step while there is any possibility\\r\\nthat any portion of the ills you fly from have no real existence?\\r\\nWill you, while the certain ills you fly to are greater than all\\r\\nthe real ones you fly from--will you risk the commission of so\\r\\nfearful a mistake?\\r\\n\\r\\nAll profess to be content in the Union if all Constitutional rights\\r\\ncan be maintained.  Is it true, then, that any right, plainly written\\r\\nin the Constitution, has been denied?  I think not.  Happily the human\\r\\nmind is so constituted that no party can reach to the audacity of doing this.\\r\\nThink, if you can, of a single instance in which a plainly written provision\\r\\nof the Constitution has ever been denied.  If by the mere force of numbers a\\r\\nmajority should deprive a minority of any clearly written Constitutional right,\\r\\nit might, in a moral point of view, justify revolution--certainly would if such\\r\\na right were a vital one.  But such is not our case.  All the vital rights of\\r\\nminorities and of individuals are so plainly assured to them by affirmations\\r\\nand negations, guaranties and prohibitions, in the Constitution, that\\r\\ncontroversies never arise concerning them.  But no organic law can ever be\\r\\nframed with a provision specifically applicable to every question which may\\r\\noccur in practical administration.  No foresight can anticipate,\\r\\nnor any document of reasonable length contain, express provisions\\r\\nfor all possible questions.  Shall fugitives from labor be surrendered\\r\\nby national or State authority?  The Constitution does not expressly say.\\r\\nMay Congress prohibit slavery in the Territories?  The Constitution does not\\r\\nexpressly say.  MUST Congress protect slavery in the Territories?\\r\\nThe Constitution does not expressly say.\\r\\n\\r\\nFrom questions of this class spring all our constitutional controversies,\\r\\nand we divide upon them into majorities and minorities.  If the minority\\r\\nwill not acquiesce, the majority must, or the government must cease.\\r\\nThere is no other alternative; for continuing the government is\\r\\nacquiescence on one side or the other.\\r\\n\\r\\nIf a minority in such case will secede rather than acquiesce,\\r\\nthey make a precedent which in turn will divide and ruin them;\\r\\nfor a minority of their own will secede from them whenever\\r\\na majority refuses to be controlled by such minority.\\r\\nFor instance, why may not any portion of a new\\r\\nconfederacy a year or two hence arbitrarily secede again,\\r\\nprecisely as portions of the present Union now claim to secede from it?\\r\\nAll who cherish disunion sentiments are now being educated to the\\r\\nexact temper of doing this.\\r\\n\\r\\nIs there such perfect identity of interests among the States\\r\\nto compose a new Union, as to produce harmony only,\\r\\nand prevent renewed secession?\\r\\n\\r\\nPlainly, the central idea of secession is the essence of anarchy.\\r\\nA majority held in restraint by constitutional checks and limitations,\\r\\nand always changing easily with deliberate changes of popular\\r\\nopinions and sentiments, is the only true sovereign of a free people.\\r\\nWhoever rejects it does, of necessity, fly to anarchy or to despotism.\\r\\nUnanimity is impossible; the rule of a minority, as a permanent arrangement,\\r\\nis wholly inadmissible; so that, rejecting the majority principle,\\r\\nanarchy or despotism in some form is all that is left.\\r\\n\\r\\nI do not forget the position, assumed by some, that Constitutional\\r\\nquestions are to be decided by the Supreme Court; nor do I deny\\r\\nthat such decisions must be binding, in any case, upon the parties\\r\\nto a suit, as to the object of that suit, while they are also entitled\\r\\nto very high respect and consideration in all parallel cases by all other\\r\\ndepartments of the government.  And while it is obviously possible that\\r\\nsuch decision may be erroneous in any given case, still the evil effect\\r\\nfollowing it, being limited to that particular case, with the chance that\\r\\nit may be overruled and never become a precedent for other cases,\\r\\ncan better be borne than could the evils of a different practice.\\r\\nAt the same time, the candid citizen must confess that if the policy\\r\\nof the government, upon vital questions affecting the whole people,\\r\\nis to be irrevocably fixed by decisions of the Supreme Court,\\r\\nthe instant they are made, in ordinary litigation between parties\\r\\nin personal actions, the people will have ceased to be their own rulers,\\r\\nhaving to that extent practically resigned their government into the hands\\r\\nof that eminent tribunal.  Nor is there in this view any assault upon\\r\\nthe court or the judges.  It is a duty from which they may not shrink\\r\\nto decide cases properly brought before them, and it is no fault of\\r\\ntheirs if others seek to turn their decisions to political purposes.\\r\\n\\r\\nOne section of our country believes slavery is RIGHT, and ought\\r\\nto be extended, while the other believes it is WRONG, and ought\\r\\nnot to be extended.  This is the only substantial dispute.\\r\\nThe fugitive-slave clause of the Constitution, and the law for the\\r\\nsuppression of the foreign slave-trade, are each as well enforced,\\r\\nperhaps, as any law can ever be in a community where the moral\\r\\nsense of the people imperfectly supports the law itself.\\r\\nThe great body of the people abide by the dry legal obligation\\r\\nin both cases, and a few break over in each.  This, I think,\\r\\ncannot be perfectly cured; and it would be worse in both cases\\r\\nAFTER the separation of the sections than BEFORE.  The foreign\\r\\nslave-trade, now imperfectly suppressed, would be ultimately revived,\\r\\nwithout restriction, in one section, while fugitive slaves,\\r\\nnow only partially surrendered, would not be surrendered\\r\\nat all by the other.\\r\\n\\r\\nPhysically speaking, we cannot separate.  We cannot remove our\\r\\nrespective sections from each other, nor build an impassable wall\\r\\nbetween them.  A husband and wife may be divorced, and go out of\\r\\nthe presence and beyond the reach of each other; but the different\\r\\nparts of our country cannot do this.  They cannot but remain\\r\\nface to face, and intercourse, either amicable or hostile,\\r\\nmust continue between them.  Is it possible, then, to make\\r\\nthat intercourse more advantageous or more satisfactory after\\r\\nseparation than before?  Can aliens make treaties easier than\\r\\nfriends can make laws?  Can treaties be more faithfully enforced\\r\\nbetween aliens than laws can among friends?  Suppose you go to war,\\r\\nyou cannot fight always; and when, after much loss on both sides,\\r\\nan no gain on either, you cease fighting, the identical old questions\\r\\nas to terms of intercourse are again upon you.\\r\\n\\r\\nThis country, with its institutions, belongs to the people who inhabit it.\\r\\nWhenever they shall grow weary of the existing government, they can exercise\\r\\ntheir CONSTITUTIONAL right of amending it, or their REVOLUTIONARY right\\r\\nto dismember or overthrow it.  I cannot be ignorant of the fact\\r\\nthat many worthy and patriotic citizens are desirous of having the\\r\\nnational Constitution amended.  While I make no recommendation of\\r\\namendments, I fully recognize the rightful authority of the people\\r\\nover the whole subject, to be exercised in either of the modes prescribed\\r\\nin the instrument itself; and I should, under existing circumstances,\\r\\nfavor rather than oppose a fair opportunity being afforded the people\\r\\nto act upon it.  I will venture to add that to me the convention mode\\r\\nseems preferable, in that it allows amendments to originate with\\r\\nthe people themselves, instead of only permitting them to take or\\r\\nreject propositions originated by others not especially chosen\\r\\nfor the purpose, and which might not be precisely such as they would\\r\\nwish to either accept or refuse.  I understand a proposed amendment\\r\\nto the Constitution--which amendment, however, I have not seen--has\\r\\npassed Congress, to the effect that the Federal Government shall\\r\\nnever interfere with the domestic institutions of the States,\\r\\nincluding that of persons held to service.  To avoid misconstruction\\r\\nof what I have said, I depart from my purpose not to speak of particular\\r\\namendments so far as to say that, holding such a provision to now be\\r\\nimplied Constitutional law, I have no objection to its being made express\\r\\nand irrevocable.\\r\\n\\r\\nThe chief magistrate derives all his authority from the people,\\r\\nand they have conferred none upon him to fix terms for the\\r\\nseparation of the states.  The people themselves can do this\\r\\nalso if they choose; but the executive, as such, has nothing to\\r\\ndo with it.  His duty is to administer the present government,\\r\\nas it came to his hands, and to transmit it, unimpaired by him,\\r\\nto his successor.\\r\\n\\r\\nWhy should there not be a patient confidence in the ultimate justice\\r\\nof the people?  Is there any better or equal hope in the world?\\r\\nIn our present differences is either party without faith of being\\r\\nin the right?  If the Almighty Ruler of Nations, with his eternal\\r\\ntruth and justice, be on your side of the North, or on yours\\r\\nof the South, that truth and that justice will surely prevail,\\r\\nby the judgment of this great tribunal, the American people.\\r\\n\\r\\nBy the frame of the government under which we live, this same people\\r\\nhave wisely given their public servants but little power for mischief;\\r\\nand have, with equal wisdom, provided for the return of that little\\r\\nto their own hands at very short intervals.  While the people retain\\r\\ntheir virtue and vigilance, no administration, by any extreme of\\r\\nwickedness or folly, can very seriously injure the government\\r\\nin the short space of four years.\\r\\n\\r\\nMy countrymen, one and all, think calmly and WELL upon this\\r\\nwhole subject.  Nothing valuable can be lost by taking time.\\r\\nIf there be an object to HURRY any of you in hot haste to a step\\r\\nwhich you would never take DELIBERATELY, that object will be\\r\\nfrustrated by taking time; but no good object can be frustrated\\r\\nby it.  Such of you as are now dissatisfied, still have the\\r\\nold Constitution unimpaired, and, on the sensitive point,\\r\\nthe laws of your own framing under it; while the new administration\\r\\nwill have no immediate power, if it would, to change either.\\r\\nIf it were admitted that you who are dissatisfied hold the\\r\\nright side in the dispute, there still is no single good reason\\r\\nfor precipitate action.  Intelligence, patriotism, Christianity,\\r\\nand a firm reliance on him who has never yet forsaken this favored land,\\r\\nare still competent to adjust in the best way all our present difficulty.\\r\\n\\r\\nIn YOUR hands, my dissatisfied fellow-countrymen, and not in MINE,\\r\\nis the momentous issue of civil war.  The government will not assail YOU.\\r\\nYou can have no conflict without being yourselves the aggressors.\\r\\nYOU have no oath registered in heaven to destroy the government, while _I_\\r\\nshall have the most solemn one to \"preserve, protect, and defend it.\"\\r\\n\\r\\nI am loathe to close.  We are not enemies, but friends.  We must not\\r\\nbe enemies.  Though passion may have strained, it must not break\\r\\nour bonds of affection.  The mystic chords of memory, stretching from\\r\\nevery battlefield and patriot grave to every living heart and hearthstone\\r\\nall over this broad land, will yet swell the chorus of the Union\\r\\nwhen again touched, as surely they will be, by the better angels of our nature.\\r\\n\\r\\n***End of the Collected Etexts of Project Gutenberg of the 1970\\'s***\\r\\n**We hope to rely on your continued support until the end of 2001,**\\r\\nwhen we hope to have presented the 10,000th Project Gutenberg Etext!\\r\\n\\r\\n\\r\\n\\r\\n===============\\r\\n\\r\\n\\r\\n\\r\\nThe Project Gutenberg EBook of The Declaration of Independence\\r\\n\\r\\nCopyright laws are changing all over the world. Be sure to check the\\r\\ncopyright laws for your country before downloading or redistributing\\r\\nthis or any other Project Gutenberg eBook.\\r\\n\\r\\nThis header should be the first thing seen when viewing this Project\\r\\nGutenberg file.  Please do not remove it.  Do not change or edit the\\r\\nheader without written permission.\\r\\n\\r\\nPlease read the \"legal small print,\" and other information about the\\r\\neBook and Project Gutenberg at the bottom of this file.  Included is\\r\\nimportant information about your specific rights and restrictions in\\r\\nhow the file may be used.  You can also find out about how to make a\\r\\ndonation to Project Gutenberg, and how to get involved.\\r\\n\\r\\n\\r\\n**Welcome To The World of Free Plain Vanilla Electronic Texts**\\r\\n\\r\\n**eBooks Readable By Both Humans and By Computers, Since 1971**\\r\\n\\r\\n*****These eBooks Were Prepared By Thousands of Volunteers!*****\\r\\n\\r\\n\\r\\nTitle: The Declaration of Independence\\r\\n\\r\\nRelease Date: December, 1971  [EBook #1]\\r\\n[Most recently updated: November 25, 2004]\\r\\n\\r\\nEdition: 12\\r\\n\\r\\nLanguage: English\\r\\n\\r\\n\\r\\n***\\r\\n\\r\\n\\r\\n\\r\\nThe United States Declaration of Independence was the first Etext\\r\\nreleased by Project Gutenberg, early in 1971.  The title was stored\\r\\nin an emailed instruction set which required a tape or diskpack be\\r\\nhand mounted for retrieval.  The diskpack was the size of a large\\r\\ncake in a cake carrier, cost $1500, and contained 5 megabytes, of\\r\\nwhich this file took 1-2%.  Two tape backups were kept plus one on\\r\\npaper tape.  The 10,000 files we hope to have online by the end of\\r\\n2001 should take about 1-2% of a comparably priced drive in 2001.\\r\\n\\r\\nThis file was never copyrighted, Sharewared, etc., and is thus for\\r\\nall to use and copy in any manner they choose.  Please feel free to\\r\\nmake your own edition using this as a base.\\r\\n\\r\\nIn my research for creating this transcription of our first Etext,\\r\\nI have come across enough discrepancies [even within that official\\r\\ndocumentation provided by the United States] to conclude that even\\r\\n\"facsimiles\" of the Declaration of Indendence will NOT going to be\\r\\nall the same as the original, nor of other \"facsimiles.\"  There is\\r\\na plethora of variations in capitalization, punctuation, and, even\\r\\nwhere names appear on the documents [which names I have left out].\\r\\n\\r\\nThe resulting document has several misspellings removed from those\\r\\nparchment \"facsimiles\" I used back in 1971, and which I should not\\r\\nbe able to easily find at this time, including \"Brittain.\"\\r\\n\\r\\n[JT, Apr 05: \"Brittish\", however, is spelled as in the original.]\\r\\n\\r\\n\\r\\n**The Project Gutenberg Etext of The Declaration of Independence**\\r\\n\\r\\n\\r\\n\\r\\nThe Declaration of Independence of The United States of America\\r\\n\\r\\n\\r\\n\\r\\n\\r\\nIN CONGRESS, July 4, 1776\\r\\n\\r\\nThe unanimous Declaration of the thirteen united States of America\\r\\n\\r\\n\\r\\n\\r\\nWhen in the Course of human events, it becomes necessary for\\r\\none people to dissolve the political bands which have connected\\r\\nthem with another, and to assume, among the Powers of the earth,\\r\\nthe separate and equal station to which the Laws of Nature and\\r\\nof Nature\\'s God entitle them, a decent respect to the opinions\\r\\nof mankind requires that they should declare the causes which\\r\\nimpel them to the separation.\\r\\n\\r\\nWe hold these truths to be self-evident, that all men are created equal,\\r\\nthat they are endowed by their Creator with certain unalienable Rights,\\r\\nthat among these are Life, Liberty, and the pursuit of Happiness.\\r\\nThat to secure these rights, Governments are instituted among Men,\\r\\nderiving their just powers from the consent of the governed,\\r\\nThat whenever any Form of Government becomes destructive of these ends,\\r\\nit is the Right of the People to alter or to abolish it, and to institute\\r\\nnew Government, laying its foundation on such principles and organizing\\r\\nits powers in such form, as to them shall seem most likely to effect\\r\\ntheir Safety and Happiness.  Prudence, indeed, will dictate that Governments\\r\\nlong established should not be changed for light and transient causes;\\r\\nand accordingly all experience hath shown, that mankind are more disposed\\r\\nto suffer, while evils are sufferable, than to right themselves by abolishing\\r\\nthe forms to which they are accustomed.  But when a long train of abuses and\\r\\nusurpations, pursuing invariably the same Object evinces a design to reduce\\r\\nthem under absolute Despotism, it is their right, it is their duty, to throw\\r\\noff such Government, and to provide new Guards for their future security.\\r\\n--Such has been the patient sufferance of these Colonies; and such is now\\r\\nthe necessity which constrains them to alter their former Systems of Government.\\r\\nThe history of the present King of Great Britain is a history of repeated\\r\\ninjuries and usurpations, all having in direct object the establishment\\r\\nof an absolute Tyranny over these States.  To prove this, let Facts\\r\\nbe submitted to a candid world.\\r\\n\\r\\nHe has refused his Assent to Laws, the most wholesome and necessary\\r\\nfor the public good.\\r\\n\\r\\nHe has forbidden his Governors to pass Laws of immediate\\r\\nand pressing importance, unless suspended in their operation\\r\\ntill his Assent should be obtained; and when so suspended,\\r\\nhe has utterly neglected to attend to them.\\r\\n\\r\\nHe has refused to pass other Laws for the accommodation of\\r\\nlarge districts of people, unless those people would relinquish\\r\\nthe right of Representation in the Legislature, a right\\r\\ninestimable to them and formidable to tyrants only.\\r\\n\\r\\nHe has called together legislative bodies at places unusual,\\r\\nuncomfortable, and distant from the depository of their\\r\\nPublic Records, for the sole purpose of fatiguing them\\r\\ninto compliance with his measures.\\r\\n\\r\\nHe has dissolved Representative Houses repeatedly, for opposing\\r\\nwith manly firmness his invasions on the rights of the people.\\r\\n\\r\\nHe has refused for a long time, after such dissolutions,\\r\\nto cause others to be elected; whereby the Legislative Powers,\\r\\nincapable of Annihilation, have returned to the People at large\\r\\nfor their exercise; the State remaining in the mean time exposed\\r\\nto all the dangers of invasion from without, and convulsions within.\\r\\n\\r\\nHe has endeavoured to prevent the population of these States;\\r\\nfor that purpose obstructing the Laws of Naturalization of Foreigners;\\r\\nrefusing to pass others to encourage their migration hither,\\r\\nand raising the conditions of new Appropriations of Lands.\\r\\n\\r\\nHe has obstructed the Administration of Justice, by refusing his Assent\\r\\nto Laws for establishing Judiciary Powers.\\r\\n\\r\\nHe has made judges dependent on his Will alone, for the tenure\\r\\nof their offices, and the amount and payment of their salaries.\\r\\n\\r\\nHe has erected a multitude of New Offices, and sent hither swarms of\\r\\nOfficers to harass our People, and eat out their substance.\\r\\n\\r\\nHe has kept among us, in times of peace, Standing Armies\\r\\nwithout the Consent of our legislatures.\\r\\n\\r\\nHe has affected to render the Military independent of\\r\\nand superior to the Civil Power.\\r\\n\\r\\nHe has combined with others to subject us to a jurisdiction\\r\\nforeign to our constitution, and unacknowledged by our laws;\\r\\ngiving his Assent to their Acts of pretended legislation:\\r\\n\\r\\nFor quartering large bodies of armed troops among us:\\r\\n\\r\\nFor protecting them, by a mock Trial, from Punishment for any Murders\\r\\nwhich they should commit on the Inhabitants of these States:\\r\\n\\r\\nFor cutting off our Trade with all parts of the world:\\r\\n\\r\\nFor imposing taxes on us without our Consent:\\r\\n\\r\\nFor depriving us, in many cases, of the benefits of Trial by Jury:\\r\\n\\r\\nFor transporting us beyond Seas to be tried for pretended offences:\\r\\n\\r\\nFor abolishing the free System of English Laws in a neighbouring\\r\\nProvince, establishing therein an Arbitrary government,\\r\\nand enlarging its Boundaries so as to render it at once\\r\\nan example and fit instrument for introducing the same\\r\\nabsolute rule into these Colonies:\\r\\n\\r\\nFor taking away our Charters, abolishing our most valuable Laws,\\r\\nand altering fundamentally the Forms of our Governments:\\r\\n\\r\\nFor suspending our own Legislatures, and declaring themselves\\r\\ninvested with Power to legislate for us in all cases whatsoever.\\r\\n\\r\\nHe has abdicated Government here, by declaring us out of his Protection\\r\\nand waging War against us.\\r\\n\\r\\nHe has plundered our seas, ravaged our Coasts, burnt our towns,\\r\\nand destroyed the lives of our people.\\r\\n\\r\\nHe is at this time transporting large armies of foreign mercenaries\\r\\nto compleat the works of death, desolation and tyranny, already begun\\r\\nwith circumstances of Cruelty & perfidy scarcely paralleled in the\\r\\nmost barbarous ages, and totally unworthy of the Head of a civilized nation.\\r\\n\\r\\nHe has constrained our fellow Citizens taken Captive on the high Seas\\r\\nto bear Arms against their Country, to become the executioners of\\r\\ntheir friends and Brethren, or to fall themselves by their Hands.\\r\\n\\r\\nHe has excited domestic insurrections amongst us, and has\\r\\nendeavoured to bring on the inhabitants of our frontiers,\\r\\nthe merciless Indian Savages, whose known rule of warfare,\\r\\nis an undistinguished destruction of all ages, sexes and conditions.\\r\\n\\r\\nIn every stage of these Oppressions We have Petitioned for Redress\\r\\nin the most humble terms:  Our repeated Petitions have been answered\\r\\nonly by repeated injury.  A Prince, whose character is thus marked\\r\\nby every act which may define a Tyrant, is unfit to be the ruler\\r\\nof a free People.\\r\\n\\r\\nNor have We been wanting in attention to our Brittish brethren.\\r\\nWe have warned them from time to time of attempts by their\\r\\nlegislature to extend an unwarrantable jurisdiction over us.\\r\\nWe have reminded them of the circumstances of our emigration and\\r\\nsettlement here.  We have appealed to their native justice\\r\\nand magnanimity, and we have conjured them by the ties of our\\r\\ncommon kindred to disavow these usurpations, which would inevitably\\r\\ninterrupt our connections and correspondence.  They too have been\\r\\ndeaf to the voice of justice and of consanguinity.  We must, therefore,\\r\\nacquiesce in the necessity, which denounces our Separation, and hold them,\\r\\nas we hold the rest of mankind, Enemies in War, in Peace Friends.\\r\\n\\r\\nWe, therefore, the Representatives of the United States of America,\\r\\nin General Congress, Assembled, appealing to the Supreme Judge of\\r\\nthe world for the rectitude of our intentions, do, in the Name,\\r\\nand by the Authority of the good People of these Colonies,\\r\\nsolemnly publish and declare, That these United Colonies are,\\r\\nand of Right ought to be Free and Independent States;\\r\\nthat they are Absolved from all Allegiance to the British Crown,\\r\\nand that all political connection between them and the State\\r\\nof Great Britain, is and ought to be totally dissolved;\\r\\nand that as Free and Independent States, they have full Power to\\r\\nlevy War, conclude Peace, contract Alliances, establish Commerce,\\r\\nand to do all other Acts and Things which Independent States may\\r\\nof right do.  And for the support of this Declaration, with a firm\\r\\nreliance on the Protection of Divine Providence, we mutually pledge\\r\\nto each other our Lives, our Fortunes and our sacred Honor.\\r\\n\\r\\n\\r\\n***\\r\\n\\r\\nEnd of The Project Gutenberg EBook of The Declaration of Independence\\r\\n\\r\\n******This file should be named when12.txt or when12.zip******\\r\\n\\r\\nCorrected EDITIONS of our eBooks get a new NUMBER, when13.txt\\r\\nVERSIONS based on separate sources get new LETTER, when12a.txt\\r\\n\\r\\nThis etext was produced by Michael S. Hart.\\r\\n\\r\\n***\\r\\n\\r\\nProject Gutenberg eBooks are often created from several printed\\r\\neditions, all of which are confirmed as Public Domain in the US\\r\\nunless a copyright notice is included.  Thus, we usually do not\\r\\nkeep eBooks in compliance with any particular paper edition.\\r\\n\\r\\nWe are now trying to release all our eBooks one year in advance\\r\\nof the official release dates, leaving time for better editing.\\r\\nPlease be encouraged to tell us about any error or corrections,\\r\\neven years after the official publication date.\\r\\n\\r\\nPlease note neither this listing nor its contents are final til\\r\\nmidnight of the last day of the month of any such announcement.\\r\\nThe official release date of all Project Gutenberg eBooks is at\\r\\nMidnight, Central Time, of the last day of the stated month.  A\\r\\npreliminary version may often be posted for suggestion, comment\\r\\nand editing by those who wish to do so.\\r\\n\\r\\nMost people start at our Web sites at:\\r\\nhttps://gutenberg.org or\\r\\nhttp://promo.net/pg\\r\\n\\r\\nThese Web sites include award-winning information about Project\\r\\nGutenberg, including how to donate, how to help produce our new\\r\\neBooks, and how to subscribe to our email newsletter (free!).\\r\\n\\r\\n\\r\\nThose of you who want to download any eBook before announcement\\r\\ncan get to them as follows, and just download by date.  This is\\r\\nalso a good way to get them instantly upon announcement, as the\\r\\nindexes our cataloguers produce obviously take a while after an\\r\\nannouncement goes out in the Project Gutenberg Newsletter.\\r\\n\\r\\nhttp://www.ibiblio.org/gutenberg/etext03 or\\r\\nftp://ftp.ibiblio.org/pub/docs/books/gutenberg/etext03\\r\\n\\r\\nOr /etext02, 01, 00, 99, 98, 97, 96, 95, 94, 93, 92, 92, 91 or 90\\r\\n\\r\\nJust search by the first five letters of the filename you want,\\r\\nas it appears in our Newsletters.\\r\\n\\r\\n\\r\\nInformation about Project Gutenberg (one page)\\r\\n\\r\\nWe produce about two million dollars for each hour we work.  The\\r\\ntime it takes us, a rather conservative estimate, is fifty hours\\r\\nto get any eBook selected, entered, proofread, edited, copyright\\r\\nsearched and analyzed, the copyright letters written, etc.   Our\\r\\nprojected audience is one hundred million readers.  If the value\\r\\nper text is nominally estimated at one dollar then we produce $2\\r\\nmillion dollars per hour in 2002 as we release over 100 new text\\r\\nfiles per month:  1240 more eBooks in 2001 for a total of 4000+\\r\\nWe are already on our way to trying for 2000 more eBooks in 2002\\r\\nIf they reach just 1-2% of the world\\'s population then the total\\r\\nwill reach over half a trillion eBooks given away by year\\'s end.\\r\\n\\r\\nThe Goal of Project Gutenberg is to Give Away 1 Trillion eBooks!\\r\\nThis is ten thousand titles each to one hundred million readers,\\r\\nwhich is only about 4% of the present number of computer users.\\r\\n\\r\\nHere is the briefest record of our progress (* means estimated):\\r\\n\\r\\neBooks Year Month\\r\\n\\r\\n    1  1971 July\\r\\n   10  1991 January\\r\\n  100  1994 January\\r\\n 1000  1997 August\\r\\n 1500  1998 October\\r\\n 2000  1999 December\\r\\n 2500  2000 December\\r\\n 3000  2001 November\\r\\n 4000  2001 October/November\\r\\n 6000  2002 December*\\r\\n 9000  2003 November*\\r\\n10000  2004 January*\\r\\n\\r\\n\\r\\nThe Project Gutenberg Literary Archive Foundation has been created\\r\\nto secure a future for Project Gutenberg into the next millennium.\\r\\n\\r\\nWe need your donations more than ever!\\r\\n\\r\\nAs of February, 2002, contributions are being solicited from people\\r\\nand organizations in: Alabama, Alaska, Arkansas, Connecticut,\\r\\nDelaware, District of Columbia, Florida, Georgia, Hawaii, Illinois,\\r\\nIndiana, Iowa, Kansas, Kentucky, Louisiana, Maine, Massachusetts,\\r\\nMichigan, Mississippi, Missouri, Montana, Nebraska, Nevada, New\\r\\nHampshire, New Jersey, New Mexico, New York, North Carolina, Ohio,\\r\\nOklahoma, Oregon, Pennsylvania, Rhode Island, South Carolina, South\\r\\nDakota, Tennessee, Texas, Utah, Vermont, Virginia, Washington, West\\r\\nVirginia, Wisconsin, and Wyoming.\\r\\n\\r\\nWe have filed in all 50 states now, but these are the only ones\\r\\nthat have responded.\\r\\n\\r\\nAs the requirements for other states are met, additions to this list\\r\\nwill be made and fund raising will begin in the additional states.\\r\\nPlease feel free to ask to check the status of your state.\\r\\n\\r\\nIn answer to various questions we have received on this:\\r\\n\\r\\nWe are constantly working on finishing the paperwork to legally\\r\\nrequest donations in all 50 states.  If your state is not listed and\\r\\nyou would like to know if we have added it since the list you have,\\r\\njust ask.\\r\\n\\r\\nWhile we cannot solicit donations from people in states where we are\\r\\nnot yet registered, we know of no prohibition against accepting\\r\\ndonations from donors in these states who approach us with an offer to\\r\\ndonate.\\r\\n\\r\\nInternational donations are accepted, but we don\\'t know ANYTHING about\\r\\nhow to make them tax-deductible, or even if they CAN be made\\r\\ndeductible, and don\\'t have the staff to handle it even if there are\\r\\nways.\\r\\n\\r\\nDonations by check or money order may be sent to:\\r\\n\\r\\nProject Gutenberg Literary Archive Foundation\\r\\nPMB 113\\r\\n1739 University Ave.\\r\\nOxford, MS 38655-4109\\r\\n\\r\\nContact us if you want to arrange for a wire transfer or payment\\r\\nmethod other than by check or money order.\\r\\n\\r\\nThe Project Gutenberg Literary Archive Foundation has been approved by\\r\\nthe US Internal Revenue Service as a 501(c)(3) organization with EIN\\r\\n[Employee Identification Number] 64-622154.  Donations are\\r\\ntax-deductible to the maximum extent permitted by law.  As fund-raising\\r\\nrequirements for other states are met, additions to this list will be\\r\\nmade and fund-raising will begin in the additional states.\\r\\n\\r\\nWe need your donations more than ever!\\r\\n\\r\\nYou can get up to date donation information online at:\\r\\n\\r\\nhttps://www.gutenberg.org/donation.html\\r\\n\\r\\n\\r\\n***\\r\\n\\r\\nIf you can\\'t reach Project Gutenberg,\\r\\nyou can always email directly to:\\r\\n\\r\\nMichael S. Hart \\r\\n\\r\\nProf. Hart will answer or forward your message.\\r\\n\\r\\nWe would prefer to send you information by email.\\r\\n\\r\\n\\r\\n**The Legal Small Print**\\r\\n\\r\\n\\r\\n(Three Pages)\\r\\n\\r\\n***START**THE SMALL PRINT!**FOR PUBLIC DOMAIN EBOOKS**START***\\r\\nWhy is this \"Small Print!\" statement here? You know: lawyers.\\r\\nThey tell us you might sue us if there is something wrong with\\r\\nyour copy of this eBook, even if you got it for free from\\r\\nsomeone other than us, and even if what\\'s wrong is not our\\r\\nfault. So, among other things, this \"Small Print!\" statement\\r\\ndisclaims most of our liability to you. It also tells you how\\r\\nyou may distribute copies of this eBook if you want to.\\r\\n\\r\\n*BEFORE!* YOU USE OR READ THIS EBOOK\\r\\nBy using or reading any part of this PROJECT GUTENBERG-tm\\r\\neBook, you indicate that you understand, agree to and accept\\r\\nthis \"Small Print!\" statement. If you do not, you can receive\\r\\na refund of the money (if any) you paid for this eBook by\\r\\nsending a request within 30 days of receiving it to the person\\r\\nyou got it from. If you received this eBook on a physical\\r\\nmedium (such as a disk), you must return it with your request.\\r\\n\\r\\nABOUT PROJECT GUTENBERG-TM EBOOKS\\r\\nThis PROJECT GUTENBERG-tm eBook, like most PROJECT GUTENBERG-tm eBooks,\\r\\nis a \"public domain\" work distributed by Professor Michael S. Hart\\r\\nthrough the Project Gutenberg Association (the \"Project\").\\r\\nAmong other things, this means that no one owns a United States copyright\\r\\non or for this work, so the Project (and you!) can copy and\\r\\ndistribute it in the United States without permission and\\r\\nwithout paying copyright royalties. Special rules, set forth\\r\\nbelow, apply if you wish to copy and distribute this eBook\\r\\nunder the \"PROJECT GUTENBERG\" trademark.\\r\\n\\r\\nPlease do not use the \"PROJECT GUTENBERG\" trademark to market\\r\\nany commercial products without permission.\\r\\n\\r\\nTo create these eBooks, the Project expends considerable\\r\\nefforts to identify, transcribe and proofread public domain\\r\\nworks. Despite these efforts, the Project\\'s eBooks and any\\r\\nmedium they may be on may contain \"Defects\". Among other\\r\\nthings, Defects may take the form of incomplete, inaccurate or\\r\\ncorrupt data, transcription errors, a copyright or other\\r\\nintellectual property infringement, a defective or damaged\\r\\ndisk or other eBook medium, a computer virus, or computer\\r\\ncodes that damage or cannot be read by your equipment.\\r\\n\\r\\nLIMITED WARRANTY; DISCLAIMER OF DAMAGES\\r\\nBut for the \"Right of Replacement or Refund\" described below,\\r\\n[1] Michael Hart and the Foundation (and any other party you may\\r\\nreceive this eBook from as a PROJECT GUTENBERG-tm eBook) disclaims\\r\\nall liability to you for damages, costs and expenses, including\\r\\nlegal fees, and [2] YOU HAVE NO REMEDIES FOR NEGLIGENCE OR\\r\\nUNDER STRICT LIABILITY, OR FOR BREACH OF WARRANTY OR CONTRACT,\\r\\nINCLUDING BUT NOT LIMITED TO INDIRECT, CONSEQUENTIAL, PUNITIVE\\r\\nOR INCIDENTAL DAMAGES, EVEN IF YOU GIVE NOTICE OF THE\\r\\nPOSSIBILITY OF SUCH DAMAGES.\\r\\n\\r\\nIf you discover a Defect in this eBook within 90 days of\\r\\nreceiving it, you can receive a refund of the money (if any)\\r\\nyou paid for it by sending an explanatory note within that\\r\\ntime to the person you received it from. If you received it\\r\\non a physical medium, you must return it with your note, and\\r\\nsuch person may choose to alternatively give you a replacement\\r\\ncopy. If you received it electronically, such person may\\r\\nchoose to alternatively give you a second opportunity to\\r\\nreceive it electronically.\\r\\n\\r\\nTHIS EBOOK IS OTHERWISE PROVIDED TO YOU \"AS-IS\". NO OTHER\\r\\nWARRANTIES OF ANY KIND, EXPRESS OR IMPLIED, ARE MADE TO YOU AS\\r\\nTO THE EBOOK OR ANY MEDIUM IT MAY BE ON, INCLUDING BUT NOT\\r\\nLIMITED TO WARRANTIES OF MERCHANTABILITY OR FITNESS FOR A\\r\\nPARTICULAR PURPOSE.\\r\\n\\r\\nSome states do not allow disclaimers of implied warranties or\\r\\nthe exclusion or limitation of consequential damages, so the\\r\\nabove disclaimers and exclusions may not apply to you, and you\\r\\nmay have other legal rights.\\r\\n\\r\\nINDEMNITY\\r\\nYou will indemnify and hold Michael Hart, the Foundation,\\r\\nand its trustees and agents, and any volunteers associated\\r\\nwith the production and distribution of Project Gutenberg-tm\\r\\ntexts harmless, from all liability, cost and expense, including\\r\\nlegal fees, that arise directly or indirectly from any of the\\r\\nfollowing that you do or cause:  [1] distribution of this eBook,\\r\\n[2] alteration, modification, or addition to the eBook,\\r\\nor [3] any Defect.\\r\\n\\r\\nDISTRIBUTION UNDER \"PROJECT GUTENBERG-tm\"\\r\\nYou may distribute copies of this eBook electronically, or by\\r\\ndisk, book or any other medium if you either delete this\\r\\n\"Small Print!\" and all other references to Project Gutenberg,\\r\\nor:\\r\\n\\r\\n[1]  Only give exact copies of it.  Among other things, this\\r\\n     requires that you do not remove, alter or modify the\\r\\n     eBook or this \"small print!\" statement.  You may however,\\r\\n     if you wish, distribute this eBook in machine readable\\r\\n     binary, compressed, mark-up, or proprietary form,\\r\\n     including any form resulting from conversion by word\\r\\n     processing or hypertext software, but only so long as\\r\\n     *EITHER*:\\r\\n\\r\\n     [*]  The eBook, when displayed, is clearly readable, and\\r\\n          does *not* contain characters other than those\\r\\n          intended by the author of the work, although tilde\\r\\n          (~), asterisk (*) and underline (_) characters may\\r\\n          be used to convey punctuation intended by the\\r\\n          author, and additional characters may be used to\\r\\n          indicate hypertext links; OR\\r\\n\\r\\n     [*]  The eBook may be readily converted by the reader at\\r\\n          no expense into plain ASCII, EBCDIC or equivalent\\r\\n          form by the program that displays the eBook (as is\\r\\n          the case, for instance, with most word processors);\\r\\n          OR\\r\\n\\r\\n     [*]  You provide, or agree to also provide on request at\\r\\n          no additional cost, fee or expense, a copy of the\\r\\n          eBook in its original plain ASCII form (or in EBCDIC\\r\\n          or other equivalent proprietary form).\\r\\n\\r\\n[2]  Honor the eBook refund and replacement provisions of this\\r\\n     \"Small Print!\" statement.\\r\\n\\r\\n[3]  Pay a trademark license fee to the Foundation of 20% of the\\r\\n     gross profits you derive calculated using the method you\\r\\n     already use to calculate your applicable taxes.  If you\\r\\n     don\\'t derive profits, no royalty is due.  Royalties are\\r\\n     payable to \"Project Gutenberg Literary Archive Foundation\"\\r\\n     the 60 days following each date you prepare (or were\\r\\n     legally required to prepare) your annual (or equivalent\\r\\n     periodic) tax return.  Please contact us beforehand to\\r\\n     let us know your plans and to work out the details.\\r\\n\\r\\nWHAT IF YOU *WANT* TO SEND MONEY EVEN IF YOU DON\\'T HAVE TO?\\r\\nProject Gutenberg is dedicated to increasing the number of\\r\\npublic domain and licensed works that can be freely distributed\\r\\nin machine readable form.\\r\\n\\r\\nThe Project gratefully accepts contributions of money, time,\\r\\npublic domain materials, or royalty free copyright licenses.\\r\\nMoney should be paid to the:\\r\\n\"Project Gutenberg Literary Archive Foundation.\"\\r\\n\\r\\nIf you are interested in contributing scanning equipment or\\r\\nsoftware or other items, please contact Michael Hart at:\\r\\nhart@pobox.com\\r\\n\\r\\n[Portions of this header are copyright (C) 2001 by Michael S. Hart\\r\\nand may be reprinted only when these eBooks are free of all fees.]\\r\\n[Project Gutenberg is a TradeMark and may not be used in any sales\\r\\nof Project Gutenberg eBooks or other materials be they hardware or\\r\\nsoftware or any other related product without express permission.]\\r\\n\\r\\n*END THE SMALL PRINT! FOR PUBLIC DOMAIN EBOOKS*Ver.02/11/02*END*\\r\\n'"
      ]
     },
     "execution_count": 14,
     "metadata": {},
     "output_type": "execute_result"
    }
   ],
   "source": [
    "text.body.text"
   ]
  },
  {
   "attachments": {},
   "cell_type": "markdown",
   "metadata": {},
   "source": [
    "### Data quality check and cleaning\n",
    "\n",
    "It turns out the above is corpus of documents. Each document is headed by a date along with an e-text and number. Thankfully we know regular expressions, so we can use them to clean up the data and extract the e-texts."
   ]
  },
  {
   "cell_type": "code",
   "execution_count": 15,
   "metadata": {},
   "outputs": [],
   "source": [
    "data_check = re.findall(r\"\\[Etext #\\d+\\]\", text.body.text)"
   ]
  },
  {
   "cell_type": "code",
   "execution_count": 16,
   "metadata": {},
   "outputs": [
    {
     "data": {
      "text/plain": [
       "['[Etext #1]',\n",
       " '[Etext #2]',\n",
       " '[Etext #3]',\n",
       " '[Etext #4]',\n",
       " '[Etext #5]',\n",
       " '[Etext #6]',\n",
       " '[Etext #7]',\n",
       " '[Etext #8]',\n",
       " '[Etext #9]']"
      ]
     },
     "execution_count": 16,
     "metadata": {},
     "output_type": "execute_result"
    }
   ],
   "source": [
    "data_check"
   ]
  },
  {
   "attachments": {},
   "cell_type": "markdown",
   "metadata": {},
   "source": [
    "### Higher Complexity Scraping with Selenium\n",
    "\n",
    "Selenium enables us to automate web browser interactions. We can use Selenium to scrape data from websites that use JavaScript to generate their webpages."
   ]
  },
  {
   "attachments": {},
   "cell_type": "markdown",
   "metadata": {},
   "source": [
    "## Using APIs to pull data"
   ]
  },
  {
   "attachments": {},
   "cell_type": "markdown",
   "metadata": {},
   "source": [
    "Let's look at the example of the phrase, `little is known` in the PubMed archive. We can use the PubMed API to pull the data to examine how this phrase is used."
   ]
  },
  {
   "cell_type": "code",
   "execution_count": 20,
   "metadata": {},
   "outputs": [
    {
     "data": {
      "text/plain": [
       "<AxesSubplot: xlabel='Year'>"
      ]
     },
     "execution_count": 20,
     "metadata": {},
     "output_type": "execute_result"
    },
    {
     "data": {
      "image/png": "[encoded data removed]",
      "text/plain": [
       "<Figure size 1500x500 with 1 Axes>"
      ]
     },
     "metadata": {},
     "output_type": "display_data"
    }
   ],
   "source": [
    "import pandas as pd\n",
    "\n",
    "# our query results for `little is known` in PubMed\n",
    "df = pd.read_csv('data/pubmed_little.csv')\n",
    "df.plot(kind='bar', x='Year', y='Count', figsize=(15, 5))"
   ]
  },
  {
   "attachments": {},
   "cell_type": "markdown",
   "metadata": {},
   "source": [
    "### Understanding our API\n",
    "\n",
    "The National Center for Biotechnology Information [NCBI] documents the PubMed API at: https://www.ncbi.nlm.nih.gov/home/develop/api/"
   ]
  },
  {
   "attachments": {},
   "cell_type": "markdown",
   "metadata": {},
   "source": [
    "### Let's use the API to get varios kinds of data related to each Publication (PMID)"
   ]
  },
  {
   "cell_type": "code",
   "execution_count": 21,
   "metadata": {},
   "outputs": [
    {
     "data": {
      "text/plain": [
       "'https://eutils.ncbi.nlm.nih.gov/entrez/eutils/efetch.fcgi?db=pubmed&retmode=xml&id=18652081'"
      ]
     },
     "execution_count": 21,
     "metadata": {},
     "output_type": "execute_result"
    }
   ],
   "source": [
    "import requests\n",
    "from lxml import html\n",
    "\n",
    "\n",
    "# let's store the base url for the PubMed API\n",
    "pubmed_url = \"https://eutils.ncbi.nlm.nih.gov/entrez/eutils/efetch.fcgi?db=pubmed&retmode=xml&id={}\"\n",
    "\n",
    "\n",
    "# Let's get the list of PubMed IDs\n",
    "PMID = 18652081\n",
    "\n",
    "# Format the url\n",
    "our_pmid = pubmed_url.format(PMID)\n",
    "\n",
    "# Let's take a look at the PMID\n",
    "our_pmid"
   ]
  },
  {
   "cell_type": "code",
   "execution_count": 26,
   "metadata": {},
   "outputs": [
    {
     "data": {
      "text/plain": [
       "<Element pubmedarticleset at 0x7f6097a44270>"
      ]
     },
     "execution_count": 26,
     "metadata": {},
     "output_type": "execute_result"
    }
   ],
   "source": [
    "# Let's take the title and abstract\n",
    "response = requests.get(our_pmid)\n",
    "pmid_data = html.fromstring(response.content)\n",
    "\n",
    "pmid_data"
   ]
  },
  {
   "cell_type": "code",
   "execution_count": 29,
   "metadata": {},
   "outputs": [],
   "source": [
    "# We have to do some extra work to get the data we want\n",
    "title = \" \".join([title.text for title in pmid_data.xpath(\"//articletitle\")])\n",
    "abstract = \"||||\".join([line.text for line in pmid_data.xpath(\"//abstract/abstracttext\")])"
   ]
  },
  {
   "cell_type": "code",
   "execution_count": 30,
   "metadata": {},
   "outputs": [
    {
     "data": {
      "text/plain": [
       "('Pharmacokinetics of creatine.',\n",
       " 'Research has demonstrated that creatine supplementation has some therapeutic benefit with respect to muscle function and more recently neurological function. Despite the growing body of literature on the pharmacologic effect of creatine, very little is known about the disposition of creatine after supraphysiologic doses. The movement of creatine throughout the body is governed by transport processes which impact the absorption of creatine from the intestine, clearance of creatine from the kidney, and access of creatine to target tissues. With repeated doses of creatine, it appears that the clearance of creatine decreases mainly due to the saturation of skeletal muscle stores. Insulin and insulin-stimulating foods appear to enhance muscle uptake of creatine but at the same time, high carbohydrate meals may slow the absorption of creatine from the intestine. Little is known about creatine disposition in special populations including the elderly and patients with neuromuscular disease. Knowledge of creatine disposition in these clinically relevant populations can help remove some of the guess work of dose selection during clinical trials.')"
      ]
     },
     "execution_count": 30,
     "metadata": {},
     "output_type": "execute_result"
    }
   ],
   "source": [
    "title, abstract"
   ]
  },
  {
   "cell_type": "markdown",
   "metadata": {},
   "source": [
    "## Dataset Creation"
   ]
  },
  {
   "attachments": {},
   "cell_type": "markdown",
   "metadata": {},
   "source": [
    "From [Grimmer et al.](./course_readings/Grimmer-Grimmer_48-62.pdf):\n",
    "\n",
    "* Principle 1: Data should be collected in a way that is consistent with the research question.\n",
    "    * Usefulness depends on the question to be answered\n",
    "    * Revision: usefulness depends on the creativity of the researcher\n",
    "* Principle 2: Data should be collected in a way that is consistent with the research design.\n",
    "    * No values free corpus construction\n",
    "    * This is in my opinion the most important principle\n",
    "* Principle 3: Data should be collected in a way that is consistent with the research context.\n",
    "    * There is no `right` way to represent a text but there are considerations\n",
    "    * Follow the insights and conventions of the statstical community\n",
    "* Principle 4: Data should be collected in a way that is consistent with the research ethics.\n",
    "    * Privacy, consent, and anonymity\n",
    "    * Data equally representative of the population - sampling\n",
    "    * Conclusions should be validated by measurements of science and not by the researcher's intuition\n",
    "* Principle 5: Code and results should be reproducable (the curious case of _Arming America_ by Michael Bellesiles; won Bancroft Prize. His thesis that the second ammendment was not about personal ownership of guns, as evidenced by probate records. He was later found to have fabricated his data.)"
   ]
  },
  {
   "cell_type": "markdown",
   "metadata": {},
   "source": []
  }
 ],
 "metadata": {
  "kernelspec": {
   "display_name": "venv",
   "language": "python",
   "name": "python3"
  },
  "language_info": {
   "codemirror_mode": {
    "name": "ipython",
    "version": 3
   },
   "file_extension": ".py",
   "mimetype": "text/x-python",
   "name": "python",
   "nbconvert_exporter": "python",
   "pygments_lexer": "ipython3",
   "version": "3.10.6"
  },
  "orig_nbformat": 4,
  "vscode": {
   "interpreter": {
    "hash": "ff598827a98688517ffbe680bec5493f272109220e95a133fdc272280f9c7acf"
   }
  }
 },
 "nbformat": 4,
 "nbformat_minor": 2
}
